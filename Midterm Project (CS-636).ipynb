{
 "cells": [
  {
   "cell_type": "markdown",
   "metadata": {},
   "source": [
    "# Midterm Project\n",
    "\n",
    "## Rishikesh Mane, Sai Kiran Samala, Anshmeet Singh Anand  and Naveen  "
   ]
  },
  {
   "cell_type": "code",
   "execution_count": 8,
   "metadata": {},
   "outputs": [
    {
     "name": "stderr",
     "output_type": "stream",
     "text": [
      "Installing package into 'C:/Users/rishi/Documents/R/win-library/4.0'\n",
      "(as 'lib' is unspecified)\n",
      "\n"
     ]
    },
    {
     "name": "stdout",
     "output_type": "stream",
     "text": [
      "package 'tidyverse' successfully unpacked and MD5 sums checked\n",
      "\n",
      "The downloaded binary packages are in\n",
      "\tC:\\Users\\rishi\\AppData\\Local\\Temp\\RtmpOMfGpg\\downloaded_packages\n"
     ]
    }
   ],
   "source": [
    "install.packages('tidyverse')"
   ]
  },
  {
   "cell_type": "code",
   "execution_count": 9,
   "metadata": {},
   "outputs": [],
   "source": [
    "library(dplyr)\n",
    "library(lubridate)"
   ]
  },
  {
   "cell_type": "code",
   "execution_count": 3,
   "metadata": {},
   "outputs": [],
   "source": [
    "ibm_data <- read.csv('/Users/anshmeet/Desktop/hw2/IBM.csv')\n",
    "msft_data <- read.csv('/Users/anshmeet/Desktop/hw2/MSFT.csv')\n",
    "goog_data <- read.csv('/Users/anshmeet/Desktop/hw2/GOOG.csv')\n",
    "amzn_data <- read.csv('/Users/anshmeet/Desktop/hw2/AMZN.csv')\n",
    "aapl_data <- read.csv('/Users/anshmeet/Desktop/hw2/AAPL.csv')\n",
    "fb_data <- read.csv('/Users/anshmeet/Desktop/hw2/FB.csv')\n",
    "nflx_data <- read.csv('//Users/anshmeet/Desktop/hw2/NFLX.csv')\n",
    "tsla_data <- read.csv('/Users/anshmeet/Desktop/hw2/TSLA.csv')\n",
    "orcl_data <- read.csv('/Users/anshmeet/Desktop/hw2/ORCL.csv')\n",
    "sap_data <- read.csv('/Users/anshmeet/Desktop/hw2/SAP.csv')\n",
    "USD_JPY = read.csv('/Users/anshmeet/Desktop/hw2/JPY=X.csv')"
   ]
  },
  {
   "cell_type": "code",
   "execution_count": 4,
   "metadata": {},
   "outputs": [
    {
     "data": {
      "text/html": [
       "259"
      ],
      "text/latex": [
       "259"
      ],
      "text/markdown": [
       "259"
      ],
      "text/plain": [
       "[1] 259"
      ]
     },
     "metadata": {},
     "output_type": "display_data"
    }
   ],
   "source": [
    "ibm_close <- ibm_data[, c('Date', 'Close', 'Adj.Close')]\n",
    "ibm_close <- rename(ibm_close, 'IBM_Close' = 'Close','IBM_Adj.Close' =  'Adj.Close')\n",
    "msft_close <- msft_data[, c('Date', 'Close', 'Adj.Close')]\n",
    "msft_close <- rename(msft_close, 'MSFT_Close' = 'Close','MSFT_Adj.Close' =  'Adj.Close')\n",
    "goog_close <- goog_data[, c('Date', 'Close', 'Adj.Close')]\n",
    "goog_close <- rename(goog_close, 'GOOG_Close' = 'Close','GOOG_Adj.Close' =  'Adj.Close')\n",
    "amzn_close <- amzn_data[, c('Date', 'Close', 'Adj.Close')]\n",
    "amzn_close <- rename(amzn_close, 'AMZN_Close' = 'Close','AMZN_Adj.Close' =  'Adj.Close')\n",
    "aapl_close <- aapl_data[, c('Date', 'Close', 'Adj.Close')]\n",
    "aapl_close <- rename(aapl_close, 'AAPL_Close' = 'Close','AAPL_Adj.Close' =  'Adj.Close')\n",
    "fb_close <- fb_data[, c('Date', 'Close', 'Adj.Close')]\n",
    "fb_close <- rename(fb_close, 'FB_Close' = 'Close','FB_Adj.Close' =  'Adj.Close')\n",
    "nflx_close <- nflx_data[, c('Date', 'Close', 'Adj.Close')]\n",
    "nflx_close <- rename(nflx_close, 'NFLX_Close' = 'Close','NFLX_Adj.Close' =  'Adj.Close')\n",
    "tsla_close <- tsla_data[, c('Date', 'Close', 'Adj.Close')]\n",
    "tsla_close <- rename(tsla_close, 'TSLA_Close' = 'Close','TSLA_Adj.Close' =  'Adj.Close')\n",
    "orcl_close <- orcl_data[, c('Date', 'Close', 'Adj.Close')]\n",
    "orcl_close <- rename(orcl_close, 'ORCL_Close' = 'Close','ORCL_Adj.Close' =  'Adj.Close')\n",
    "sap_close <- sap_data[, c('Date', 'Close', 'Adj.Close')]\n",
    "sap_close <- rename(sap_close, 'SAP_Close' = 'Close','SAP_Adj.Close' =  'Adj.Close')\n",
    "jpy_close <- USD_JPY[, c('Date', 'Close')]\n",
    "jpy_close$Date = as.Date(jpy_close$Date)\n",
    "nrow(jpy_close)\n",
    "jpy_close <- rename(jpy_close, 'JPY_Close' = 'Close')"
   ]
  },
  {
   "cell_type": "code",
   "execution_count": 5,
   "metadata": {},
   "outputs": [],
   "source": [
    "stocks_data = merge(merge(merge(merge(merge(merge(merge(merge(merge(ibm_close, msft_close, by = 'Date'),goog_close, by = 'Date'), amzn_close, by='Date'), aapl_close, by='Date'), fb_close, by='Date'),\n",
    "nflx_close, by='Date'), tsla_close, by='Date'), orcl_close, by='Date'), sap_close, by='Date')\n",
    "stocks_data$Date = as.Date(stocks_data$Date)"
   ]
  },
  {
   "cell_type": "code",
   "execution_count": 6,
   "metadata": {},
   "outputs": [
    {
     "data": {
      "text/html": [
       "<table>\n",
       "<caption>A data.frame: 15 × 21</caption>\n",
       "<thead>\n",
       "\t<tr><th></th><th scope=col>Date</th><th scope=col>IBM_Close</th><th scope=col>IBM_Adj.Close</th><th scope=col>MSFT_Close</th><th scope=col>MSFT_Adj.Close</th><th scope=col>GOOG_Close</th><th scope=col>GOOG_Adj.Close</th><th scope=col>AMZN_Close</th><th scope=col>AMZN_Adj.Close</th><th scope=col>AAPL_Close</th><th scope=col>⋯</th><th scope=col>FB_Close</th><th scope=col>FB_Adj.Close</th><th scope=col>NFLX_Close</th><th scope=col>NFLX_Adj.Close</th><th scope=col>TSLA_Close</th><th scope=col>TSLA_Adj.Close</th><th scope=col>ORCL_Close</th><th scope=col>ORCL_Adj.Close</th><th scope=col>SAP_Close</th><th scope=col>SAP_Adj.Close</th></tr>\n",
       "\t<tr><th></th><th scope=col>&lt;date&gt;</th><th scope=col>&lt;dbl&gt;</th><th scope=col>&lt;dbl&gt;</th><th scope=col>&lt;dbl&gt;</th><th scope=col>&lt;dbl&gt;</th><th scope=col>&lt;dbl&gt;</th><th scope=col>&lt;dbl&gt;</th><th scope=col>&lt;dbl&gt;</th><th scope=col>&lt;dbl&gt;</th><th scope=col>&lt;dbl&gt;</th><th scope=col>⋯</th><th scope=col>&lt;dbl&gt;</th><th scope=col>&lt;dbl&gt;</th><th scope=col>&lt;dbl&gt;</th><th scope=col>&lt;dbl&gt;</th><th scope=col>&lt;dbl&gt;</th><th scope=col>&lt;dbl&gt;</th><th scope=col>&lt;dbl&gt;</th><th scope=col>&lt;dbl&gt;</th><th scope=col>&lt;dbl&gt;</th><th scope=col>&lt;dbl&gt;</th></tr>\n",
       "</thead>\n",
       "<tbody>\n",
       "\t<tr><th scope=row>236</th><td>2018-12-07</td><td>119.34</td><td>109.77248</td><td>104.82</td><td>102.47753</td><td>1036.58</td><td>1036.58</td><td>1629.13</td><td>1629.13</td><td>42.1225</td><td>⋯</td><td>137.42</td><td>137.42</td><td>265.14</td><td>265.14</td><td>71.594</td><td>71.594</td><td>46.00</td><td>44.62671</td><td>100.72</td><td> 97.95202</td></tr>\n",
       "\t<tr><th scope=row>237</th><td>2018-12-10</td><td>121.13</td><td>111.41898</td><td>107.59</td><td>105.18561</td><td>1039.55</td><td>1039.55</td><td>1641.03</td><td>1641.03</td><td>42.4000</td><td>⋯</td><td>141.85</td><td>141.85</td><td>269.70</td><td>269.70</td><td>73.030</td><td>73.030</td><td>46.67</td><td>45.27669</td><td>101.90</td><td> 99.09959</td></tr>\n",
       "\t<tr><th scope=row>238</th><td>2018-12-11</td><td>120.89</td><td>111.19822</td><td>108.59</td><td>106.16327</td><td>1051.75</td><td>1051.75</td><td>1643.24</td><td>1643.24</td><td>42.1575</td><td>⋯</td><td>142.08</td><td>142.08</td><td>265.32</td><td>265.32</td><td>73.352</td><td>73.352</td><td>46.46</td><td>45.07297</td><td>101.56</td><td> 98.76893</td></tr>\n",
       "\t<tr><th scope=row>239</th><td>2018-12-12</td><td>121.16</td><td>111.44659</td><td>109.08</td><td>106.64233</td><td>1063.68</td><td>1063.68</td><td>1663.54</td><td>1663.54</td><td>42.2750</td><td>⋯</td><td>144.50</td><td>144.50</td><td>274.88</td><td>274.88</td><td>73.320</td><td>73.320</td><td>47.32</td><td>45.90730</td><td>103.34</td><td>100.50001</td></tr>\n",
       "\t<tr><th scope=row>240</th><td>2018-12-13</td><td>120.73</td><td>111.05106</td><td>109.45</td><td>107.00405</td><td>1061.90</td><td>1061.90</td><td>1658.38</td><td>1658.38</td><td>42.7375</td><td>⋯</td><td>145.01</td><td>145.01</td><td>276.02</td><td>276.02</td><td>75.358</td><td>75.358</td><td>47.23</td><td>45.81998</td><td>103.46</td><td>100.61672</td></tr>\n",
       "\t<tr><th scope=row>241</th><td>2018-12-14</td><td>119.90</td><td>110.28759</td><td>106.03</td><td>103.66048</td><td>1042.10</td><td>1042.10</td><td>1591.91</td><td>1591.91</td><td>41.3700</td><td>⋯</td><td>144.06</td><td>144.06</td><td>266.84</td><td>266.84</td><td>73.142</td><td>73.142</td><td>46.60</td><td>45.20879</td><td>100.99</td><td> 98.21460</td></tr>\n",
       "\t<tr><th scope=row>242</th><td>2018-12-17</td><td>116.10</td><td>106.79225</td><td>102.89</td><td>100.59066</td><td>1016.53</td><td>1016.53</td><td>1520.91</td><td>1520.91</td><td>40.9850</td><td>⋯</td><td>140.19</td><td>140.19</td><td>262.80</td><td>262.80</td><td>69.684</td><td>69.684</td><td>45.73</td><td>44.36476</td><td> 99.62</td><td> 96.88225</td></tr>\n",
       "\t<tr><th scope=row>243</th><td>2018-12-18</td><td>116.65</td><td>107.29816</td><td>103.97</td><td>101.64652</td><td>1028.71</td><td>1028.71</td><td>1551.48</td><td>1551.48</td><td>41.5175</td><td>⋯</td><td>143.66</td><td>143.66</td><td>270.94</td><td>270.94</td><td>67.406</td><td>67.406</td><td>45.85</td><td>44.48118</td><td>100.08</td><td> 97.32961</td></tr>\n",
       "\t<tr><th scope=row>244</th><td>2018-12-19</td><td>116.43</td><td>107.09579</td><td>103.69</td><td>101.37279</td><td>1023.01</td><td>1023.01</td><td>1495.08</td><td>1495.08</td><td>40.2225</td><td>⋯</td><td>133.24</td><td>133.24</td><td>266.77</td><td>266.77</td><td>66.594</td><td>66.594</td><td>46.45</td><td>45.06327</td><td>100.11</td><td> 97.35878</td></tr>\n",
       "\t<tr><th scope=row>245</th><td>2018-12-20</td><td>113.02</td><td>103.95916</td><td>101.51</td><td> 99.24150</td><td>1009.41</td><td>1009.41</td><td>1460.83</td><td>1460.83</td><td>39.2075</td><td>⋯</td><td>133.40</td><td>133.40</td><td>260.58</td><td>260.58</td><td>63.076</td><td>63.076</td><td>46.24</td><td>44.85954</td><td>100.10</td><td> 97.34906</td></tr>\n",
       "\t<tr><th scope=row>246</th><td>2018-12-21</td><td>110.94</td><td>102.04592</td><td> 98.23</td><td> 96.03479</td><td> 979.54</td><td> 979.54</td><td>1377.45</td><td>1377.45</td><td>37.6825</td><td>⋯</td><td>124.95</td><td>124.95</td><td>246.39</td><td>246.39</td><td>63.954</td><td>63.954</td><td>44.00</td><td>42.68642</td><td> 96.14</td><td> 93.49789</td></tr>\n",
       "\t<tr><th scope=row>247</th><td>2018-12-24</td><td>107.57</td><td> 98.94608</td><td> 94.13</td><td> 92.02642</td><td> 976.22</td><td> 976.22</td><td>1343.96</td><td>1343.96</td><td>36.7075</td><td>⋯</td><td>124.06</td><td>124.06</td><td>233.88</td><td>233.88</td><td>59.078</td><td>59.078</td><td>42.69</td><td>41.41552</td><td> 95.00</td><td> 92.38921</td></tr>\n",
       "\t<tr><th scope=row>248</th><td>2018-12-26</td><td>111.39</td><td>102.45985</td><td>100.56</td><td> 98.31273</td><td>1039.46</td><td>1039.46</td><td>1470.90</td><td>1470.90</td><td>39.2925</td><td>⋯</td><td>134.18</td><td>134.18</td><td>253.67</td><td>253.67</td><td>65.218</td><td>65.218</td><td>44.59</td><td>43.25880</td><td> 98.38</td><td> 95.67632</td></tr>\n",
       "\t<tr><th scope=row>249</th><td>2018-12-27</td><td>113.78</td><td>104.65823</td><td>101.18</td><td> 98.91888</td><td>1043.88</td><td>1043.88</td><td>1461.64</td><td>1461.64</td><td>39.0375</td><td>⋯</td><td>134.52</td><td>134.52</td><td>255.57</td><td>255.57</td><td>63.226</td><td>63.226</td><td>44.97</td><td>43.62745</td><td> 98.99</td><td> 96.26955</td></tr>\n",
       "\t<tr><th scope=row>250</th><td>2018-12-28</td><td>113.03</td><td>103.96837</td><td>100.39</td><td> 98.14653</td><td>1037.08</td><td>1037.08</td><td>1478.02</td><td>1478.02</td><td>39.0575</td><td>⋯</td><td>133.20</td><td>133.20</td><td>256.08</td><td>256.08</td><td>66.774</td><td>66.774</td><td>44.82</td><td>43.48193</td><td> 99.20</td><td> 96.47379</td></tr>\n",
       "</tbody>\n",
       "</table>\n"
      ],
      "text/latex": [
       "A data.frame: 15 × 21\n",
       "\\begin{tabular}{r|lllllllllllllllllllll}\n",
       "  & Date & IBM\\_Close & IBM\\_Adj.Close & MSFT\\_Close & MSFT\\_Adj.Close & GOOG\\_Close & GOOG\\_Adj.Close & AMZN\\_Close & AMZN\\_Adj.Close & AAPL\\_Close & ⋯ & FB\\_Close & FB\\_Adj.Close & NFLX\\_Close & NFLX\\_Adj.Close & TSLA\\_Close & TSLA\\_Adj.Close & ORCL\\_Close & ORCL\\_Adj.Close & SAP\\_Close & SAP\\_Adj.Close\\\\\n",
       "  & <date> & <dbl> & <dbl> & <dbl> & <dbl> & <dbl> & <dbl> & <dbl> & <dbl> & <dbl> & ⋯ & <dbl> & <dbl> & <dbl> & <dbl> & <dbl> & <dbl> & <dbl> & <dbl> & <dbl> & <dbl>\\\\\n",
       "\\hline\n",
       "\t236 & 2018-12-07 & 119.34 & 109.77248 & 104.82 & 102.47753 & 1036.58 & 1036.58 & 1629.13 & 1629.13 & 42.1225 & ⋯ & 137.42 & 137.42 & 265.14 & 265.14 & 71.594 & 71.594 & 46.00 & 44.62671 & 100.72 &  97.95202\\\\\n",
       "\t237 & 2018-12-10 & 121.13 & 111.41898 & 107.59 & 105.18561 & 1039.55 & 1039.55 & 1641.03 & 1641.03 & 42.4000 & ⋯ & 141.85 & 141.85 & 269.70 & 269.70 & 73.030 & 73.030 & 46.67 & 45.27669 & 101.90 &  99.09959\\\\\n",
       "\t238 & 2018-12-11 & 120.89 & 111.19822 & 108.59 & 106.16327 & 1051.75 & 1051.75 & 1643.24 & 1643.24 & 42.1575 & ⋯ & 142.08 & 142.08 & 265.32 & 265.32 & 73.352 & 73.352 & 46.46 & 45.07297 & 101.56 &  98.76893\\\\\n",
       "\t239 & 2018-12-12 & 121.16 & 111.44659 & 109.08 & 106.64233 & 1063.68 & 1063.68 & 1663.54 & 1663.54 & 42.2750 & ⋯ & 144.50 & 144.50 & 274.88 & 274.88 & 73.320 & 73.320 & 47.32 & 45.90730 & 103.34 & 100.50001\\\\\n",
       "\t240 & 2018-12-13 & 120.73 & 111.05106 & 109.45 & 107.00405 & 1061.90 & 1061.90 & 1658.38 & 1658.38 & 42.7375 & ⋯ & 145.01 & 145.01 & 276.02 & 276.02 & 75.358 & 75.358 & 47.23 & 45.81998 & 103.46 & 100.61672\\\\\n",
       "\t241 & 2018-12-14 & 119.90 & 110.28759 & 106.03 & 103.66048 & 1042.10 & 1042.10 & 1591.91 & 1591.91 & 41.3700 & ⋯ & 144.06 & 144.06 & 266.84 & 266.84 & 73.142 & 73.142 & 46.60 & 45.20879 & 100.99 &  98.21460\\\\\n",
       "\t242 & 2018-12-17 & 116.10 & 106.79225 & 102.89 & 100.59066 & 1016.53 & 1016.53 & 1520.91 & 1520.91 & 40.9850 & ⋯ & 140.19 & 140.19 & 262.80 & 262.80 & 69.684 & 69.684 & 45.73 & 44.36476 &  99.62 &  96.88225\\\\\n",
       "\t243 & 2018-12-18 & 116.65 & 107.29816 & 103.97 & 101.64652 & 1028.71 & 1028.71 & 1551.48 & 1551.48 & 41.5175 & ⋯ & 143.66 & 143.66 & 270.94 & 270.94 & 67.406 & 67.406 & 45.85 & 44.48118 & 100.08 &  97.32961\\\\\n",
       "\t244 & 2018-12-19 & 116.43 & 107.09579 & 103.69 & 101.37279 & 1023.01 & 1023.01 & 1495.08 & 1495.08 & 40.2225 & ⋯ & 133.24 & 133.24 & 266.77 & 266.77 & 66.594 & 66.594 & 46.45 & 45.06327 & 100.11 &  97.35878\\\\\n",
       "\t245 & 2018-12-20 & 113.02 & 103.95916 & 101.51 &  99.24150 & 1009.41 & 1009.41 & 1460.83 & 1460.83 & 39.2075 & ⋯ & 133.40 & 133.40 & 260.58 & 260.58 & 63.076 & 63.076 & 46.24 & 44.85954 & 100.10 &  97.34906\\\\\n",
       "\t246 & 2018-12-21 & 110.94 & 102.04592 &  98.23 &  96.03479 &  979.54 &  979.54 & 1377.45 & 1377.45 & 37.6825 & ⋯ & 124.95 & 124.95 & 246.39 & 246.39 & 63.954 & 63.954 & 44.00 & 42.68642 &  96.14 &  93.49789\\\\\n",
       "\t247 & 2018-12-24 & 107.57 &  98.94608 &  94.13 &  92.02642 &  976.22 &  976.22 & 1343.96 & 1343.96 & 36.7075 & ⋯ & 124.06 & 124.06 & 233.88 & 233.88 & 59.078 & 59.078 & 42.69 & 41.41552 &  95.00 &  92.38921\\\\\n",
       "\t248 & 2018-12-26 & 111.39 & 102.45985 & 100.56 &  98.31273 & 1039.46 & 1039.46 & 1470.90 & 1470.90 & 39.2925 & ⋯ & 134.18 & 134.18 & 253.67 & 253.67 & 65.218 & 65.218 & 44.59 & 43.25880 &  98.38 &  95.67632\\\\\n",
       "\t249 & 2018-12-27 & 113.78 & 104.65823 & 101.18 &  98.91888 & 1043.88 & 1043.88 & 1461.64 & 1461.64 & 39.0375 & ⋯ & 134.52 & 134.52 & 255.57 & 255.57 & 63.226 & 63.226 & 44.97 & 43.62745 &  98.99 &  96.26955\\\\\n",
       "\t250 & 2018-12-28 & 113.03 & 103.96837 & 100.39 &  98.14653 & 1037.08 & 1037.08 & 1478.02 & 1478.02 & 39.0575 & ⋯ & 133.20 & 133.20 & 256.08 & 256.08 & 66.774 & 66.774 & 44.82 & 43.48193 &  99.20 &  96.47379\\\\\n",
       "\\end{tabular}\n"
      ],
      "text/markdown": [
       "\n",
       "A data.frame: 15 × 21\n",
       "\n",
       "| <!--/--> | Date &lt;date&gt; | IBM_Close &lt;dbl&gt; | IBM_Adj.Close &lt;dbl&gt; | MSFT_Close &lt;dbl&gt; | MSFT_Adj.Close &lt;dbl&gt; | GOOG_Close &lt;dbl&gt; | GOOG_Adj.Close &lt;dbl&gt; | AMZN_Close &lt;dbl&gt; | AMZN_Adj.Close &lt;dbl&gt; | AAPL_Close &lt;dbl&gt; | ⋯ ⋯ | FB_Close &lt;dbl&gt; | FB_Adj.Close &lt;dbl&gt; | NFLX_Close &lt;dbl&gt; | NFLX_Adj.Close &lt;dbl&gt; | TSLA_Close &lt;dbl&gt; | TSLA_Adj.Close &lt;dbl&gt; | ORCL_Close &lt;dbl&gt; | ORCL_Adj.Close &lt;dbl&gt; | SAP_Close &lt;dbl&gt; | SAP_Adj.Close &lt;dbl&gt; |\n",
       "|---|---|---|---|---|---|---|---|---|---|---|---|---|---|---|---|---|---|---|---|---|---|\n",
       "| 236 | 2018-12-07 | 119.34 | 109.77248 | 104.82 | 102.47753 | 1036.58 | 1036.58 | 1629.13 | 1629.13 | 42.1225 | ⋯ | 137.42 | 137.42 | 265.14 | 265.14 | 71.594 | 71.594 | 46.00 | 44.62671 | 100.72 |  97.95202 |\n",
       "| 237 | 2018-12-10 | 121.13 | 111.41898 | 107.59 | 105.18561 | 1039.55 | 1039.55 | 1641.03 | 1641.03 | 42.4000 | ⋯ | 141.85 | 141.85 | 269.70 | 269.70 | 73.030 | 73.030 | 46.67 | 45.27669 | 101.90 |  99.09959 |\n",
       "| 238 | 2018-12-11 | 120.89 | 111.19822 | 108.59 | 106.16327 | 1051.75 | 1051.75 | 1643.24 | 1643.24 | 42.1575 | ⋯ | 142.08 | 142.08 | 265.32 | 265.32 | 73.352 | 73.352 | 46.46 | 45.07297 | 101.56 |  98.76893 |\n",
       "| 239 | 2018-12-12 | 121.16 | 111.44659 | 109.08 | 106.64233 | 1063.68 | 1063.68 | 1663.54 | 1663.54 | 42.2750 | ⋯ | 144.50 | 144.50 | 274.88 | 274.88 | 73.320 | 73.320 | 47.32 | 45.90730 | 103.34 | 100.50001 |\n",
       "| 240 | 2018-12-13 | 120.73 | 111.05106 | 109.45 | 107.00405 | 1061.90 | 1061.90 | 1658.38 | 1658.38 | 42.7375 | ⋯ | 145.01 | 145.01 | 276.02 | 276.02 | 75.358 | 75.358 | 47.23 | 45.81998 | 103.46 | 100.61672 |\n",
       "| 241 | 2018-12-14 | 119.90 | 110.28759 | 106.03 | 103.66048 | 1042.10 | 1042.10 | 1591.91 | 1591.91 | 41.3700 | ⋯ | 144.06 | 144.06 | 266.84 | 266.84 | 73.142 | 73.142 | 46.60 | 45.20879 | 100.99 |  98.21460 |\n",
       "| 242 | 2018-12-17 | 116.10 | 106.79225 | 102.89 | 100.59066 | 1016.53 | 1016.53 | 1520.91 | 1520.91 | 40.9850 | ⋯ | 140.19 | 140.19 | 262.80 | 262.80 | 69.684 | 69.684 | 45.73 | 44.36476 |  99.62 |  96.88225 |\n",
       "| 243 | 2018-12-18 | 116.65 | 107.29816 | 103.97 | 101.64652 | 1028.71 | 1028.71 | 1551.48 | 1551.48 | 41.5175 | ⋯ | 143.66 | 143.66 | 270.94 | 270.94 | 67.406 | 67.406 | 45.85 | 44.48118 | 100.08 |  97.32961 |\n",
       "| 244 | 2018-12-19 | 116.43 | 107.09579 | 103.69 | 101.37279 | 1023.01 | 1023.01 | 1495.08 | 1495.08 | 40.2225 | ⋯ | 133.24 | 133.24 | 266.77 | 266.77 | 66.594 | 66.594 | 46.45 | 45.06327 | 100.11 |  97.35878 |\n",
       "| 245 | 2018-12-20 | 113.02 | 103.95916 | 101.51 |  99.24150 | 1009.41 | 1009.41 | 1460.83 | 1460.83 | 39.2075 | ⋯ | 133.40 | 133.40 | 260.58 | 260.58 | 63.076 | 63.076 | 46.24 | 44.85954 | 100.10 |  97.34906 |\n",
       "| 246 | 2018-12-21 | 110.94 | 102.04592 |  98.23 |  96.03479 |  979.54 |  979.54 | 1377.45 | 1377.45 | 37.6825 | ⋯ | 124.95 | 124.95 | 246.39 | 246.39 | 63.954 | 63.954 | 44.00 | 42.68642 |  96.14 |  93.49789 |\n",
       "| 247 | 2018-12-24 | 107.57 |  98.94608 |  94.13 |  92.02642 |  976.22 |  976.22 | 1343.96 | 1343.96 | 36.7075 | ⋯ | 124.06 | 124.06 | 233.88 | 233.88 | 59.078 | 59.078 | 42.69 | 41.41552 |  95.00 |  92.38921 |\n",
       "| 248 | 2018-12-26 | 111.39 | 102.45985 | 100.56 |  98.31273 | 1039.46 | 1039.46 | 1470.90 | 1470.90 | 39.2925 | ⋯ | 134.18 | 134.18 | 253.67 | 253.67 | 65.218 | 65.218 | 44.59 | 43.25880 |  98.38 |  95.67632 |\n",
       "| 249 | 2018-12-27 | 113.78 | 104.65823 | 101.18 |  98.91888 | 1043.88 | 1043.88 | 1461.64 | 1461.64 | 39.0375 | ⋯ | 134.52 | 134.52 | 255.57 | 255.57 | 63.226 | 63.226 | 44.97 | 43.62745 |  98.99 |  96.26955 |\n",
       "| 250 | 2018-12-28 | 113.03 | 103.96837 | 100.39 |  98.14653 | 1037.08 | 1037.08 | 1478.02 | 1478.02 | 39.0575 | ⋯ | 133.20 | 133.20 | 256.08 | 256.08 | 66.774 | 66.774 | 44.82 | 43.48193 |  99.20 |  96.47379 |\n",
       "\n"
      ],
      "text/plain": [
       "    Date       IBM_Close IBM_Adj.Close MSFT_Close MSFT_Adj.Close GOOG_Close\n",
       "236 2018-12-07 119.34    109.77248     104.82     102.47753      1036.58   \n",
       "237 2018-12-10 121.13    111.41898     107.59     105.18561      1039.55   \n",
       "238 2018-12-11 120.89    111.19822     108.59     106.16327      1051.75   \n",
       "239 2018-12-12 121.16    111.44659     109.08     106.64233      1063.68   \n",
       "240 2018-12-13 120.73    111.05106     109.45     107.00405      1061.90   \n",
       "241 2018-12-14 119.90    110.28759     106.03     103.66048      1042.10   \n",
       "242 2018-12-17 116.10    106.79225     102.89     100.59066      1016.53   \n",
       "243 2018-12-18 116.65    107.29816     103.97     101.64652      1028.71   \n",
       "244 2018-12-19 116.43    107.09579     103.69     101.37279      1023.01   \n",
       "245 2018-12-20 113.02    103.95916     101.51      99.24150      1009.41   \n",
       "246 2018-12-21 110.94    102.04592      98.23      96.03479       979.54   \n",
       "247 2018-12-24 107.57     98.94608      94.13      92.02642       976.22   \n",
       "248 2018-12-26 111.39    102.45985     100.56      98.31273      1039.46   \n",
       "249 2018-12-27 113.78    104.65823     101.18      98.91888      1043.88   \n",
       "250 2018-12-28 113.03    103.96837     100.39      98.14653      1037.08   \n",
       "    GOOG_Adj.Close AMZN_Close AMZN_Adj.Close AAPL_Close ⋯ FB_Close FB_Adj.Close\n",
       "236 1036.58        1629.13    1629.13        42.1225    ⋯ 137.42   137.42      \n",
       "237 1039.55        1641.03    1641.03        42.4000    ⋯ 141.85   141.85      \n",
       "238 1051.75        1643.24    1643.24        42.1575    ⋯ 142.08   142.08      \n",
       "239 1063.68        1663.54    1663.54        42.2750    ⋯ 144.50   144.50      \n",
       "240 1061.90        1658.38    1658.38        42.7375    ⋯ 145.01   145.01      \n",
       "241 1042.10        1591.91    1591.91        41.3700    ⋯ 144.06   144.06      \n",
       "242 1016.53        1520.91    1520.91        40.9850    ⋯ 140.19   140.19      \n",
       "243 1028.71        1551.48    1551.48        41.5175    ⋯ 143.66   143.66      \n",
       "244 1023.01        1495.08    1495.08        40.2225    ⋯ 133.24   133.24      \n",
       "245 1009.41        1460.83    1460.83        39.2075    ⋯ 133.40   133.40      \n",
       "246  979.54        1377.45    1377.45        37.6825    ⋯ 124.95   124.95      \n",
       "247  976.22        1343.96    1343.96        36.7075    ⋯ 124.06   124.06      \n",
       "248 1039.46        1470.90    1470.90        39.2925    ⋯ 134.18   134.18      \n",
       "249 1043.88        1461.64    1461.64        39.0375    ⋯ 134.52   134.52      \n",
       "250 1037.08        1478.02    1478.02        39.0575    ⋯ 133.20   133.20      \n",
       "    NFLX_Close NFLX_Adj.Close TSLA_Close TSLA_Adj.Close ORCL_Close\n",
       "236 265.14     265.14         71.594     71.594         46.00     \n",
       "237 269.70     269.70         73.030     73.030         46.67     \n",
       "238 265.32     265.32         73.352     73.352         46.46     \n",
       "239 274.88     274.88         73.320     73.320         47.32     \n",
       "240 276.02     276.02         75.358     75.358         47.23     \n",
       "241 266.84     266.84         73.142     73.142         46.60     \n",
       "242 262.80     262.80         69.684     69.684         45.73     \n",
       "243 270.94     270.94         67.406     67.406         45.85     \n",
       "244 266.77     266.77         66.594     66.594         46.45     \n",
       "245 260.58     260.58         63.076     63.076         46.24     \n",
       "246 246.39     246.39         63.954     63.954         44.00     \n",
       "247 233.88     233.88         59.078     59.078         42.69     \n",
       "248 253.67     253.67         65.218     65.218         44.59     \n",
       "249 255.57     255.57         63.226     63.226         44.97     \n",
       "250 256.08     256.08         66.774     66.774         44.82     \n",
       "    ORCL_Adj.Close SAP_Close SAP_Adj.Close\n",
       "236 44.62671       100.72     97.95202    \n",
       "237 45.27669       101.90     99.09959    \n",
       "238 45.07297       101.56     98.76893    \n",
       "239 45.90730       103.34    100.50001    \n",
       "240 45.81998       103.46    100.61672    \n",
       "241 45.20879       100.99     98.21460    \n",
       "242 44.36476        99.62     96.88225    \n",
       "243 44.48118       100.08     97.32961    \n",
       "244 45.06327       100.11     97.35878    \n",
       "245 44.85954       100.10     97.34906    \n",
       "246 42.68642        96.14     93.49789    \n",
       "247 41.41552        95.00     92.38921    \n",
       "248 43.25880        98.38     95.67632    \n",
       "249 43.62745        98.99     96.26955    \n",
       "250 43.48193        99.20     96.47379    "
      ]
     },
     "metadata": {},
     "output_type": "display_data"
    }
   ],
   "source": [
    "tail(stocks_data,15)"
   ]
  },
  {
   "cell_type": "code",
   "execution_count": 8,
   "metadata": {},
   "outputs": [
    {
     "data": {
      "text/html": [
       "<table>\n",
       "<caption>A data.frame: 6 × 21</caption>\n",
       "<thead>\n",
       "\t<tr><th></th><th scope=col>Date</th><th scope=col>IBM_Close</th><th scope=col>IBM_Adj.Close</th><th scope=col>MSFT_Close</th><th scope=col>MSFT_Adj.Close</th><th scope=col>GOOG_Close</th><th scope=col>GOOG_Adj.Close</th><th scope=col>AMZN_Close</th><th scope=col>AMZN_Adj.Close</th><th scope=col>AAPL_Close</th><th scope=col>⋯</th><th scope=col>FB_Close</th><th scope=col>FB_Adj.Close</th><th scope=col>NFLX_Close</th><th scope=col>NFLX_Adj.Close</th><th scope=col>TSLA_Close</th><th scope=col>TSLA_Adj.Close</th><th scope=col>ORCL_Close</th><th scope=col>ORCL_Adj.Close</th><th scope=col>SAP_Close</th><th scope=col>SAP_Adj.Close</th></tr>\n",
       "\t<tr><th></th><th scope=col>&lt;date&gt;</th><th scope=col>&lt;dbl&gt;</th><th scope=col>&lt;dbl&gt;</th><th scope=col>&lt;dbl&gt;</th><th scope=col>&lt;dbl&gt;</th><th scope=col>&lt;dbl&gt;</th><th scope=col>&lt;dbl&gt;</th><th scope=col>&lt;dbl&gt;</th><th scope=col>&lt;dbl&gt;</th><th scope=col>&lt;dbl&gt;</th><th scope=col>⋯</th><th scope=col>&lt;dbl&gt;</th><th scope=col>&lt;dbl&gt;</th><th scope=col>&lt;dbl&gt;</th><th scope=col>&lt;dbl&gt;</th><th scope=col>&lt;dbl&gt;</th><th scope=col>&lt;dbl&gt;</th><th scope=col>&lt;dbl&gt;</th><th scope=col>&lt;dbl&gt;</th><th scope=col>&lt;dbl&gt;</th><th scope=col>&lt;dbl&gt;</th></tr>\n",
       "</thead>\n",
       "<tbody>\n",
       "\t<tr><th scope=row>1</th><td>2018-01-02</td><td>154.25</td><td>135.7438</td><td>85.95</td><td>82.59932</td><td>1065.00</td><td>1065.00</td><td>1189.01</td><td>1189.01</td><td>43.0650</td><td>⋯</td><td>181.42</td><td>181.42</td><td>201.07</td><td>201.07</td><td>64.106</td><td>64.106</td><td>46.63</td><td>44.52202</td><td>112.39</td><td>107.6534</td></tr>\n",
       "\t<tr><th scope=row>6</th><td>2018-01-09</td><td>163.83</td><td>144.1744</td><td>88.22</td><td>84.78084</td><td>1106.26</td><td>1106.26</td><td>1252.70</td><td>1252.70</td><td>43.5825</td><td>⋯</td><td>187.87</td><td>187.87</td><td>209.31</td><td>209.31</td><td>66.738</td><td>66.738</td><td>49.06</td><td>47.02458</td><td>114.16</td><td>109.3488</td></tr>\n",
       "\t<tr><th scope=row>11</th><td>2018-01-17</td><td>168.65</td><td>148.4161</td><td>90.14</td><td>86.62598</td><td>1131.98</td><td>1131.98</td><td>1295.00</td><td>1295.00</td><td>44.7750</td><td>⋯</td><td>177.60</td><td>177.60</td><td>217.50</td><td>217.50</td><td>69.432</td><td>69.432</td><td>50.27</td><td>48.18437</td><td>111.19</td><td>106.5040</td></tr>\n",
       "\t<tr><th scope=row>16</th><td>2018-01-24</td><td>165.37</td><td>145.5297</td><td>91.82</td><td>88.24048</td><td>1164.24</td><td>1164.24</td><td>1357.51</td><td>1357.51</td><td>43.5550</td><td>⋯</td><td>186.55</td><td>186.55</td><td>261.30</td><td>261.30</td><td>69.178</td><td>69.178</td><td>51.45</td><td>49.31542</td><td>114.37</td><td>109.5500</td></tr>\n",
       "\t<tr><th scope=row>21</th><td>2018-01-31</td><td>163.70</td><td>144.0600</td><td>95.01</td><td>91.30613</td><td>1169.94</td><td>1169.94</td><td>1450.89</td><td>1450.89</td><td>41.8575</td><td>⋯</td><td>186.89</td><td>186.89</td><td>270.30</td><td>270.30</td><td>70.862</td><td>70.862</td><td>51.59</td><td>49.44961</td><td>113.25</td><td>108.4772</td></tr>\n",
       "\t<tr><th scope=row>26</th><td>2018-02-07</td><td>153.85</td><td>135.3918</td><td>89.61</td><td>86.11665</td><td>1048.58</td><td>1048.58</td><td>1416.78</td><td>1416.78</td><td>39.8850</td><td>⋯</td><td>180.18</td><td>180.18</td><td>264.56</td><td>264.56</td><td>69.000</td><td>69.000</td><td>48.87</td><td>46.84246</td><td>105.09</td><td>100.6611</td></tr>\n",
       "</tbody>\n",
       "</table>\n"
      ],
      "text/latex": [
       "A data.frame: 6 × 21\n",
       "\\begin{tabular}{r|lllllllllllllllllllll}\n",
       "  & Date & IBM\\_Close & IBM\\_Adj.Close & MSFT\\_Close & MSFT\\_Adj.Close & GOOG\\_Close & GOOG\\_Adj.Close & AMZN\\_Close & AMZN\\_Adj.Close & AAPL\\_Close & ⋯ & FB\\_Close & FB\\_Adj.Close & NFLX\\_Close & NFLX\\_Adj.Close & TSLA\\_Close & TSLA\\_Adj.Close & ORCL\\_Close & ORCL\\_Adj.Close & SAP\\_Close & SAP\\_Adj.Close\\\\\n",
       "  & <date> & <dbl> & <dbl> & <dbl> & <dbl> & <dbl> & <dbl> & <dbl> & <dbl> & <dbl> & ⋯ & <dbl> & <dbl> & <dbl> & <dbl> & <dbl> & <dbl> & <dbl> & <dbl> & <dbl> & <dbl>\\\\\n",
       "\\hline\n",
       "\t1 & 2018-01-02 & 154.25 & 135.7438 & 85.95 & 82.59932 & 1065.00 & 1065.00 & 1189.01 & 1189.01 & 43.0650 & ⋯ & 181.42 & 181.42 & 201.07 & 201.07 & 64.106 & 64.106 & 46.63 & 44.52202 & 112.39 & 107.6534\\\\\n",
       "\t6 & 2018-01-09 & 163.83 & 144.1744 & 88.22 & 84.78084 & 1106.26 & 1106.26 & 1252.70 & 1252.70 & 43.5825 & ⋯ & 187.87 & 187.87 & 209.31 & 209.31 & 66.738 & 66.738 & 49.06 & 47.02458 & 114.16 & 109.3488\\\\\n",
       "\t11 & 2018-01-17 & 168.65 & 148.4161 & 90.14 & 86.62598 & 1131.98 & 1131.98 & 1295.00 & 1295.00 & 44.7750 & ⋯ & 177.60 & 177.60 & 217.50 & 217.50 & 69.432 & 69.432 & 50.27 & 48.18437 & 111.19 & 106.5040\\\\\n",
       "\t16 & 2018-01-24 & 165.37 & 145.5297 & 91.82 & 88.24048 & 1164.24 & 1164.24 & 1357.51 & 1357.51 & 43.5550 & ⋯ & 186.55 & 186.55 & 261.30 & 261.30 & 69.178 & 69.178 & 51.45 & 49.31542 & 114.37 & 109.5500\\\\\n",
       "\t21 & 2018-01-31 & 163.70 & 144.0600 & 95.01 & 91.30613 & 1169.94 & 1169.94 & 1450.89 & 1450.89 & 41.8575 & ⋯ & 186.89 & 186.89 & 270.30 & 270.30 & 70.862 & 70.862 & 51.59 & 49.44961 & 113.25 & 108.4772\\\\\n",
       "\t26 & 2018-02-07 & 153.85 & 135.3918 & 89.61 & 86.11665 & 1048.58 & 1048.58 & 1416.78 & 1416.78 & 39.8850 & ⋯ & 180.18 & 180.18 & 264.56 & 264.56 & 69.000 & 69.000 & 48.87 & 46.84246 & 105.09 & 100.6611\\\\\n",
       "\\end{tabular}\n"
      ],
      "text/markdown": [
       "\n",
       "A data.frame: 6 × 21\n",
       "\n",
       "| <!--/--> | Date &lt;date&gt; | IBM_Close &lt;dbl&gt; | IBM_Adj.Close &lt;dbl&gt; | MSFT_Close &lt;dbl&gt; | MSFT_Adj.Close &lt;dbl&gt; | GOOG_Close &lt;dbl&gt; | GOOG_Adj.Close &lt;dbl&gt; | AMZN_Close &lt;dbl&gt; | AMZN_Adj.Close &lt;dbl&gt; | AAPL_Close &lt;dbl&gt; | ⋯ ⋯ | FB_Close &lt;dbl&gt; | FB_Adj.Close &lt;dbl&gt; | NFLX_Close &lt;dbl&gt; | NFLX_Adj.Close &lt;dbl&gt; | TSLA_Close &lt;dbl&gt; | TSLA_Adj.Close &lt;dbl&gt; | ORCL_Close &lt;dbl&gt; | ORCL_Adj.Close &lt;dbl&gt; | SAP_Close &lt;dbl&gt; | SAP_Adj.Close &lt;dbl&gt; |\n",
       "|---|---|---|---|---|---|---|---|---|---|---|---|---|---|---|---|---|---|---|---|---|---|\n",
       "| 1 | 2018-01-02 | 154.25 | 135.7438 | 85.95 | 82.59932 | 1065.00 | 1065.00 | 1189.01 | 1189.01 | 43.0650 | ⋯ | 181.42 | 181.42 | 201.07 | 201.07 | 64.106 | 64.106 | 46.63 | 44.52202 | 112.39 | 107.6534 |\n",
       "| 6 | 2018-01-09 | 163.83 | 144.1744 | 88.22 | 84.78084 | 1106.26 | 1106.26 | 1252.70 | 1252.70 | 43.5825 | ⋯ | 187.87 | 187.87 | 209.31 | 209.31 | 66.738 | 66.738 | 49.06 | 47.02458 | 114.16 | 109.3488 |\n",
       "| 11 | 2018-01-17 | 168.65 | 148.4161 | 90.14 | 86.62598 | 1131.98 | 1131.98 | 1295.00 | 1295.00 | 44.7750 | ⋯ | 177.60 | 177.60 | 217.50 | 217.50 | 69.432 | 69.432 | 50.27 | 48.18437 | 111.19 | 106.5040 |\n",
       "| 16 | 2018-01-24 | 165.37 | 145.5297 | 91.82 | 88.24048 | 1164.24 | 1164.24 | 1357.51 | 1357.51 | 43.5550 | ⋯ | 186.55 | 186.55 | 261.30 | 261.30 | 69.178 | 69.178 | 51.45 | 49.31542 | 114.37 | 109.5500 |\n",
       "| 21 | 2018-01-31 | 163.70 | 144.0600 | 95.01 | 91.30613 | 1169.94 | 1169.94 | 1450.89 | 1450.89 | 41.8575 | ⋯ | 186.89 | 186.89 | 270.30 | 270.30 | 70.862 | 70.862 | 51.59 | 49.44961 | 113.25 | 108.4772 |\n",
       "| 26 | 2018-02-07 | 153.85 | 135.3918 | 89.61 | 86.11665 | 1048.58 | 1048.58 | 1416.78 | 1416.78 | 39.8850 | ⋯ | 180.18 | 180.18 | 264.56 | 264.56 | 69.000 | 69.000 | 48.87 | 46.84246 | 105.09 | 100.6611 |\n",
       "\n"
      ],
      "text/plain": [
       "   Date       IBM_Close IBM_Adj.Close MSFT_Close MSFT_Adj.Close GOOG_Close\n",
       "1  2018-01-02 154.25    135.7438      85.95      82.59932       1065.00   \n",
       "6  2018-01-09 163.83    144.1744      88.22      84.78084       1106.26   \n",
       "11 2018-01-17 168.65    148.4161      90.14      86.62598       1131.98   \n",
       "16 2018-01-24 165.37    145.5297      91.82      88.24048       1164.24   \n",
       "21 2018-01-31 163.70    144.0600      95.01      91.30613       1169.94   \n",
       "26 2018-02-07 153.85    135.3918      89.61      86.11665       1048.58   \n",
       "   GOOG_Adj.Close AMZN_Close AMZN_Adj.Close AAPL_Close ⋯ FB_Close FB_Adj.Close\n",
       "1  1065.00        1189.01    1189.01        43.0650    ⋯ 181.42   181.42      \n",
       "6  1106.26        1252.70    1252.70        43.5825    ⋯ 187.87   187.87      \n",
       "11 1131.98        1295.00    1295.00        44.7750    ⋯ 177.60   177.60      \n",
       "16 1164.24        1357.51    1357.51        43.5550    ⋯ 186.55   186.55      \n",
       "21 1169.94        1450.89    1450.89        41.8575    ⋯ 186.89   186.89      \n",
       "26 1048.58        1416.78    1416.78        39.8850    ⋯ 180.18   180.18      \n",
       "   NFLX_Close NFLX_Adj.Close TSLA_Close TSLA_Adj.Close ORCL_Close\n",
       "1  201.07     201.07         64.106     64.106         46.63     \n",
       "6  209.31     209.31         66.738     66.738         49.06     \n",
       "11 217.50     217.50         69.432     69.432         50.27     \n",
       "16 261.30     261.30         69.178     69.178         51.45     \n",
       "21 270.30     270.30         70.862     70.862         51.59     \n",
       "26 264.56     264.56         69.000     69.000         48.87     \n",
       "   ORCL_Adj.Close SAP_Close SAP_Adj.Close\n",
       "1  44.52202       112.39    107.6534     \n",
       "6  47.02458       114.16    109.3488     \n",
       "11 48.18437       111.19    106.5040     \n",
       "16 49.31542       114.37    109.5500     \n",
       "21 49.44961       113.25    108.4772     \n",
       "26 46.84246       105.09    100.6611     "
      ]
     },
     "metadata": {},
     "output_type": "display_data"
    }
   ],
   "source": [
    "stocks_split_5 = stocks_data[seq(1,nrow(stocks_data),5),]\n",
    "head(stocks_split_5)"
   ]
  },
  {
   "cell_type": "code",
   "execution_count": 10,
   "metadata": {},
   "outputs": [
    {
     "data": {
      "text/html": [
       "<table>\n",
       "<caption>A data.frame: 1 × 21</caption>\n",
       "<thead>\n",
       "\t<tr><th></th><th scope=col>Date</th><th scope=col>IBM_Close</th><th scope=col>IBM_Adj.Close</th><th scope=col>MSFT_Close</th><th scope=col>MSFT_Adj.Close</th><th scope=col>GOOG_Close</th><th scope=col>GOOG_Adj.Close</th><th scope=col>AMZN_Close</th><th scope=col>AMZN_Adj.Close</th><th scope=col>AAPL_Close</th><th scope=col>⋯</th><th scope=col>FB_Close</th><th scope=col>FB_Adj.Close</th><th scope=col>NFLX_Close</th><th scope=col>NFLX_Adj.Close</th><th scope=col>TSLA_Close</th><th scope=col>TSLA_Adj.Close</th><th scope=col>ORCL_Close</th><th scope=col>ORCL_Adj.Close</th><th scope=col>SAP_Close</th><th scope=col>SAP_Adj.Close</th></tr>\n",
       "\t<tr><th></th><th scope=col>&lt;date&gt;</th><th scope=col>&lt;dbl&gt;</th><th scope=col>&lt;dbl&gt;</th><th scope=col>&lt;dbl&gt;</th><th scope=col>&lt;dbl&gt;</th><th scope=col>&lt;dbl&gt;</th><th scope=col>&lt;dbl&gt;</th><th scope=col>&lt;dbl&gt;</th><th scope=col>&lt;dbl&gt;</th><th scope=col>&lt;dbl&gt;</th><th scope=col>⋯</th><th scope=col>&lt;dbl&gt;</th><th scope=col>&lt;dbl&gt;</th><th scope=col>&lt;dbl&gt;</th><th scope=col>&lt;dbl&gt;</th><th scope=col>&lt;dbl&gt;</th><th scope=col>&lt;dbl&gt;</th><th scope=col>&lt;dbl&gt;</th><th scope=col>&lt;dbl&gt;</th><th scope=col>&lt;dbl&gt;</th><th scope=col>&lt;dbl&gt;</th></tr>\n",
       "</thead>\n",
       "<tbody>\n",
       "\t<tr><th scope=row>1</th><td>2018-01-02</td><td>154.25</td><td>135.7438</td><td>85.95</td><td>82.59932</td><td>1065</td><td>1065</td><td>1189.01</td><td>1189.01</td><td>43.065</td><td>⋯</td><td>181.42</td><td>181.42</td><td>201.07</td><td>201.07</td><td>64.106</td><td>64.106</td><td>46.63</td><td>44.52202</td><td>112.39</td><td>107.6534</td></tr>\n",
       "</tbody>\n",
       "</table>\n"
      ],
      "text/latex": [
       "A data.frame: 1 × 21\n",
       "\\begin{tabular}{r|lllllllllllllllllllll}\n",
       "  & Date & IBM\\_Close & IBM\\_Adj.Close & MSFT\\_Close & MSFT\\_Adj.Close & GOOG\\_Close & GOOG\\_Adj.Close & AMZN\\_Close & AMZN\\_Adj.Close & AAPL\\_Close & ⋯ & FB\\_Close & FB\\_Adj.Close & NFLX\\_Close & NFLX\\_Adj.Close & TSLA\\_Close & TSLA\\_Adj.Close & ORCL\\_Close & ORCL\\_Adj.Close & SAP\\_Close & SAP\\_Adj.Close\\\\\n",
       "  & <date> & <dbl> & <dbl> & <dbl> & <dbl> & <dbl> & <dbl> & <dbl> & <dbl> & <dbl> & ⋯ & <dbl> & <dbl> & <dbl> & <dbl> & <dbl> & <dbl> & <dbl> & <dbl> & <dbl> & <dbl>\\\\\n",
       "\\hline\n",
       "\t1 & 2018-01-02 & 154.25 & 135.7438 & 85.95 & 82.59932 & 1065 & 1065 & 1189.01 & 1189.01 & 43.065 & ⋯ & 181.42 & 181.42 & 201.07 & 201.07 & 64.106 & 64.106 & 46.63 & 44.52202 & 112.39 & 107.6534\\\\\n",
       "\\end{tabular}\n"
      ],
      "text/markdown": [
       "\n",
       "A data.frame: 1 × 21\n",
       "\n",
       "| <!--/--> | Date &lt;date&gt; | IBM_Close &lt;dbl&gt; | IBM_Adj.Close &lt;dbl&gt; | MSFT_Close &lt;dbl&gt; | MSFT_Adj.Close &lt;dbl&gt; | GOOG_Close &lt;dbl&gt; | GOOG_Adj.Close &lt;dbl&gt; | AMZN_Close &lt;dbl&gt; | AMZN_Adj.Close &lt;dbl&gt; | AAPL_Close &lt;dbl&gt; | ⋯ ⋯ | FB_Close &lt;dbl&gt; | FB_Adj.Close &lt;dbl&gt; | NFLX_Close &lt;dbl&gt; | NFLX_Adj.Close &lt;dbl&gt; | TSLA_Close &lt;dbl&gt; | TSLA_Adj.Close &lt;dbl&gt; | ORCL_Close &lt;dbl&gt; | ORCL_Adj.Close &lt;dbl&gt; | SAP_Close &lt;dbl&gt; | SAP_Adj.Close &lt;dbl&gt; |\n",
       "|---|---|---|---|---|---|---|---|---|---|---|---|---|---|---|---|---|---|---|---|---|---|\n",
       "| 1 | 2018-01-02 | 154.25 | 135.7438 | 85.95 | 82.59932 | 1065 | 1065 | 1189.01 | 1189.01 | 43.065 | ⋯ | 181.42 | 181.42 | 201.07 | 201.07 | 64.106 | 64.106 | 46.63 | 44.52202 | 112.39 | 107.6534 |\n",
       "\n"
      ],
      "text/plain": [
       "  Date       IBM_Close IBM_Adj.Close MSFT_Close MSFT_Adj.Close GOOG_Close\n",
       "1 2018-01-02 154.25    135.7438      85.95      82.59932       1065      \n",
       "  GOOG_Adj.Close AMZN_Close AMZN_Adj.Close AAPL_Close ⋯ FB_Close FB_Adj.Close\n",
       "1 1065           1189.01    1189.01        43.065     ⋯ 181.42   181.42      \n",
       "  NFLX_Close NFLX_Adj.Close TSLA_Close TSLA_Adj.Close ORCL_Close ORCL_Adj.Close\n",
       "1 201.07     201.07         64.106     64.106         46.63      44.52202      \n",
       "  SAP_Close SAP_Adj.Close\n",
       "1 112.39    107.6534     "
      ]
     },
     "metadata": {},
     "output_type": "display_data"
    }
   ],
   "source": [
    "stocks_split_5[stocks_split_5$Date=='2018-01-02',]"
   ]
  },
  {
   "cell_type": "code",
   "execution_count": 11,
   "metadata": {},
   "outputs": [
    {
     "data": {
      "text/html": [
       "<table>\n",
       "<caption>A data.frame: 1 × 5</caption>\n",
       "<thead>\n",
       "\t<tr><th></th><th scope=col>IBM_Close</th><th scope=col>MSFT_Close</th><th scope=col>GOOG_Close</th><th scope=col>AMZN_Close</th><th scope=col>FB_Close</th></tr>\n",
       "\t<tr><th></th><th scope=col>&lt;dbl&gt;</th><th scope=col>&lt;dbl&gt;</th><th scope=col>&lt;dbl&gt;</th><th scope=col>&lt;dbl&gt;</th><th scope=col>&lt;dbl&gt;</th></tr>\n",
       "</thead>\n",
       "<tbody>\n",
       "\t<tr><th scope=row>1</th><td>154.25</td><td>85.95</td><td>1065</td><td>1189.01</td><td>181.42</td></tr>\n",
       "</tbody>\n",
       "</table>\n"
      ],
      "text/latex": [
       "A data.frame: 1 × 5\n",
       "\\begin{tabular}{r|lllll}\n",
       "  & IBM\\_Close & MSFT\\_Close & GOOG\\_Close & AMZN\\_Close & FB\\_Close\\\\\n",
       "  & <dbl> & <dbl> & <dbl> & <dbl> & <dbl>\\\\\n",
       "\\hline\n",
       "\t1 & 154.25 & 85.95 & 1065 & 1189.01 & 181.42\\\\\n",
       "\\end{tabular}\n"
      ],
      "text/markdown": [
       "\n",
       "A data.frame: 1 × 5\n",
       "\n",
       "| <!--/--> | IBM_Close &lt;dbl&gt; | MSFT_Close &lt;dbl&gt; | GOOG_Close &lt;dbl&gt; | AMZN_Close &lt;dbl&gt; | FB_Close &lt;dbl&gt; |\n",
       "|---|---|---|---|---|---|\n",
       "| 1 | 154.25 | 85.95 | 1065 | 1189.01 | 181.42 |\n",
       "\n"
      ],
      "text/plain": [
       "  IBM_Close MSFT_Close GOOG_Close AMZN_Close FB_Close\n",
       "1 154.25    85.95      1065       1189.01    181.42  "
      ]
     },
     "metadata": {},
     "output_type": "display_data"
    }
   ],
   "source": [
    "a <- stocks_split_5[stocks_split_5$Date=='2018-01-02',\n",
    "                  c('IBM_Close','MSFT_Close','GOOG_Close','AMZN_Close','FB_Close')]\n",
    "a"
   ]
  },
  {
   "cell_type": "code",
   "execution_count": 12,
   "metadata": {},
   "outputs": [
    {
     "data": {
      "text/html": [
       "<style>\n",
       ".dl-inline {width: auto; margin:0; padding: 0}\n",
       ".dl-inline>dt, .dl-inline>dd {float: none; width: auto; display: inline-block}\n",
       ".dl-inline>dt::after {content: \":\\0020\"; padding-right: .5ex}\n",
       ".dl-inline>dt:not(:first-of-type) {padding-left: .5ex}\n",
       "</style><dl class=dl-inline><dt>1</dt><dd>'stocks_split_5'</dd><dt>MTM</dt><dd>'5323137.228935'</dd></dl>\n"
      ],
      "text/latex": [
       "\\begin{description*}\n",
       "\\item[1] 'stocks\\_split\\_5'\n",
       "\\item[MTM] '5323137.228935'\n",
       "\\end{description*}\n"
      ],
      "text/markdown": [
       "1\n",
       ":   'stocks_split_5'MTM\n",
       ":   '5323137.228935'\n",
       "\n"
      ],
      "text/plain": [
       "                              MTM \n",
       "\"stocks_split_5\" \"5323137.228935\" "
      ]
     },
     "metadata": {},
     "output_type": "display_data"
    },
    {
     "data": {
      "text/html": [
       "<table>\n",
       "<caption>A data.frame: 6 × 23</caption>\n",
       "<thead>\n",
       "\t<tr><th></th><th scope=col>Date</th><th scope=col>IBM_Close</th><th scope=col>IBM_Adj.Close</th><th scope=col>MSFT_Close</th><th scope=col>MSFT_Adj.Close</th><th scope=col>GOOG_Close</th><th scope=col>GOOG_Adj.Close</th><th scope=col>AMZN_Close</th><th scope=col>AMZN_Adj.Close</th><th scope=col>AAPL_Close</th><th scope=col>⋯</th><th scope=col>NFLX_Close</th><th scope=col>NFLX_Adj.Close</th><th scope=col>TSLA_Close</th><th scope=col>TSLA_Adj.Close</th><th scope=col>ORCL_Close</th><th scope=col>ORCL_Adj.Close</th><th scope=col>SAP_Close</th><th scope=col>SAP_Adj.Close</th><th scope=col>Remaining_Cash</th><th scope=col>MTM</th></tr>\n",
       "\t<tr><th></th><th scope=col>&lt;date&gt;</th><th scope=col>&lt;dbl&gt;</th><th scope=col>&lt;dbl&gt;</th><th scope=col>&lt;dbl&gt;</th><th scope=col>&lt;dbl&gt;</th><th scope=col>&lt;dbl&gt;</th><th scope=col>&lt;dbl&gt;</th><th scope=col>&lt;dbl&gt;</th><th scope=col>&lt;dbl&gt;</th><th scope=col>&lt;dbl&gt;</th><th scope=col>⋯</th><th scope=col>&lt;dbl&gt;</th><th scope=col>&lt;dbl&gt;</th><th scope=col>&lt;dbl&gt;</th><th scope=col>&lt;dbl&gt;</th><th scope=col>&lt;dbl&gt;</th><th scope=col>&lt;dbl&gt;</th><th scope=col>&lt;dbl&gt;</th><th scope=col>&lt;dbl&gt;</th><th scope=col>&lt;dbl&gt;</th><th scope=col>&lt;dbl&gt;</th></tr>\n",
       "</thead>\n",
       "<tbody>\n",
       "\t<tr><th scope=row>245</th><td>2018-12-20</td><td>113.019997</td><td>103.959160</td><td>101.510002</td><td>99.241501</td><td>1009.409973</td><td>1009.409973</td><td>1460.82996</td><td>1460.82996</td><td>39.207500</td><td>⋯</td><td>260.579987</td><td>260.579987</td><td>63.076000</td><td>63.076000</td><td>46.240002</td><td>44.859539</td><td>100.099998</td><td>97.349060</td><td> 787.994654</td><td>5307895.74</td></tr>\n",
       "\t<tr><th scope=row>246</th><td>2018-12-21</td><td>110.940002</td><td>102.045921</td><td> 98.230003</td><td>96.034790</td><td> 979.539978</td><td> 979.539978</td><td>1377.44995</td><td>1377.44995</td><td>37.682499</td><td>⋯</td><td>246.389999</td><td>246.389999</td><td>63.953999</td><td>63.953999</td><td>44.000000</td><td>42.686417</td><td> 96.139999</td><td>93.497887</td><td>1112.270492</td><td>5107817.05</td></tr>\n",
       "\t<tr><th scope=row>247</th><td>2018-12-24</td><td>107.570000</td><td> 98.946083</td><td> 94.129997</td><td>92.026421</td><td> 976.219971</td><td> 976.219971</td><td>1343.95996</td><td>1343.95996</td><td>36.707500</td><td>⋯</td><td>233.880005</td><td>233.880005</td><td>59.077999</td><td>59.077999</td><td>42.689999</td><td>41.415524</td><td> 95.000000</td><td>92.389214</td><td>1112.270492</td><td>5026394.87</td></tr>\n",
       "\t<tr><th scope=row>248</th><td>2018-12-26</td><td>111.389999</td><td>102.459846</td><td>100.559998</td><td>98.312729</td><td>1039.459961</td><td>1039.459961</td><td>1470.90002</td><td>1470.90002</td><td>39.292500</td><td>⋯</td><td>253.669998</td><td>253.669998</td><td>65.218002</td><td>65.218002</td><td>44.590000</td><td>43.258801</td><td> 98.379997</td><td>95.676323</td><td>1112.270492</td><td>5316185.68</td></tr>\n",
       "\t<tr><th scope=row>249</th><td>2018-12-27</td><td>113.779999</td><td>104.658234</td><td>101.180000</td><td>98.918884</td><td>1043.880005</td><td>1043.880005</td><td>1461.64001</td><td>1461.64001</td><td>39.037498</td><td>⋯</td><td>255.570007</td><td>255.570007</td><td>63.226002</td><td>63.226002</td><td>44.970001</td><td>43.627453</td><td> 98.989998</td><td>96.269554</td><td>1112.270492</td><td>5345146.49</td></tr>\n",
       "\t<tr><th scope=row>250</th><td>2018-12-28</td><td>113.029999</td><td>103.968369</td><td>100.389999</td><td>98.146530</td><td>1037.079956</td><td>1037.079956</td><td>1478.02002</td><td>1478.02002</td><td>39.057499</td><td>⋯</td><td>256.079987</td><td>256.079987</td><td>66.774002</td><td>66.774002</td><td>44.820000</td><td>43.481926</td><td> 99.199997</td><td>96.473785</td><td>1112.270492</td><td>5323137.23</td></tr>\n",
       "</tbody>\n",
       "</table>\n"
      ],
      "text/latex": [
       "A data.frame: 6 × 23\n",
       "\\begin{tabular}{r|lllllllllllllllllllll}\n",
       "  & Date & IBM\\_Close & IBM\\_Adj.Close & MSFT\\_Close & MSFT\\_Adj.Close & GOOG\\_Close & GOOG\\_Adj.Close & AMZN\\_Close & AMZN\\_Adj.Close & AAPL\\_Close & ⋯ & NFLX\\_Close & NFLX\\_Adj.Close & TSLA\\_Close & TSLA\\_Adj.Close & ORCL\\_Close & ORCL\\_Adj.Close & SAP\\_Close & SAP\\_Adj.Close & Remaining\\_Cash & MTM\\\\\n",
       "  & <date> & <dbl> & <dbl> & <dbl> & <dbl> & <dbl> & <dbl> & <dbl> & <dbl> & <dbl> & ⋯ & <dbl> & <dbl> & <dbl> & <dbl> & <dbl> & <dbl> & <dbl> & <dbl> & <dbl> & <dbl>\\\\\n",
       "\\hline\n",
       "\t245 & 2018-12-20 & 113.019997 & 103.959160 & 101.510002 & 99.241501 & 1009.409973 & 1009.409973 & 1460.82996 & 1460.82996 & 39.207500 & ⋯ & 260.579987 & 260.579987 & 63.076000 & 63.076000 & 46.240002 & 44.859539 & 100.099998 & 97.349060 &  787.994654 & 5307895.74\\\\\n",
       "\t246 & 2018-12-21 & 110.940002 & 102.045921 &  98.230003 & 96.034790 &  979.539978 &  979.539978 & 1377.44995 & 1377.44995 & 37.682499 & ⋯ & 246.389999 & 246.389999 & 63.953999 & 63.953999 & 44.000000 & 42.686417 &  96.139999 & 93.497887 & 1112.270492 & 5107817.05\\\\\n",
       "\t247 & 2018-12-24 & 107.570000 &  98.946083 &  94.129997 & 92.026421 &  976.219971 &  976.219971 & 1343.95996 & 1343.95996 & 36.707500 & ⋯ & 233.880005 & 233.880005 & 59.077999 & 59.077999 & 42.689999 & 41.415524 &  95.000000 & 92.389214 & 1112.270492 & 5026394.87\\\\\n",
       "\t248 & 2018-12-26 & 111.389999 & 102.459846 & 100.559998 & 98.312729 & 1039.459961 & 1039.459961 & 1470.90002 & 1470.90002 & 39.292500 & ⋯ & 253.669998 & 253.669998 & 65.218002 & 65.218002 & 44.590000 & 43.258801 &  98.379997 & 95.676323 & 1112.270492 & 5316185.68\\\\\n",
       "\t249 & 2018-12-27 & 113.779999 & 104.658234 & 101.180000 & 98.918884 & 1043.880005 & 1043.880005 & 1461.64001 & 1461.64001 & 39.037498 & ⋯ & 255.570007 & 255.570007 & 63.226002 & 63.226002 & 44.970001 & 43.627453 &  98.989998 & 96.269554 & 1112.270492 & 5345146.49\\\\\n",
       "\t250 & 2018-12-28 & 113.029999 & 103.968369 & 100.389999 & 98.146530 & 1037.079956 & 1037.079956 & 1478.02002 & 1478.02002 & 39.057499 & ⋯ & 256.079987 & 256.079987 & 66.774002 & 66.774002 & 44.820000 & 43.481926 &  99.199997 & 96.473785 & 1112.270492 & 5323137.23\\\\\n",
       "\\end{tabular}\n"
      ],
      "text/markdown": [
       "\n",
       "A data.frame: 6 × 23\n",
       "\n",
       "| <!--/--> | Date &lt;date&gt; | IBM_Close &lt;dbl&gt; | IBM_Adj.Close &lt;dbl&gt; | MSFT_Close &lt;dbl&gt; | MSFT_Adj.Close &lt;dbl&gt; | GOOG_Close &lt;dbl&gt; | GOOG_Adj.Close &lt;dbl&gt; | AMZN_Close &lt;dbl&gt; | AMZN_Adj.Close &lt;dbl&gt; | AAPL_Close &lt;dbl&gt; | ⋯ ⋯ | NFLX_Close &lt;dbl&gt; | NFLX_Adj.Close &lt;dbl&gt; | TSLA_Close &lt;dbl&gt; | TSLA_Adj.Close &lt;dbl&gt; | ORCL_Close &lt;dbl&gt; | ORCL_Adj.Close &lt;dbl&gt; | SAP_Close &lt;dbl&gt; | SAP_Adj.Close &lt;dbl&gt; | Remaining_Cash &lt;dbl&gt; | MTM &lt;dbl&gt; |\n",
       "|---|---|---|---|---|---|---|---|---|---|---|---|---|---|---|---|---|---|---|---|---|---|\n",
       "| 245 | 2018-12-20 | 113.019997 | 103.959160 | 101.510002 | 99.241501 | 1009.409973 | 1009.409973 | 1460.82996 | 1460.82996 | 39.207500 | ⋯ | 260.579987 | 260.579987 | 63.076000 | 63.076000 | 46.240002 | 44.859539 | 100.099998 | 97.349060 |  787.994654 | 5307895.74 |\n",
       "| 246 | 2018-12-21 | 110.940002 | 102.045921 |  98.230003 | 96.034790 |  979.539978 |  979.539978 | 1377.44995 | 1377.44995 | 37.682499 | ⋯ | 246.389999 | 246.389999 | 63.953999 | 63.953999 | 44.000000 | 42.686417 |  96.139999 | 93.497887 | 1112.270492 | 5107817.05 |\n",
       "| 247 | 2018-12-24 | 107.570000 |  98.946083 |  94.129997 | 92.026421 |  976.219971 |  976.219971 | 1343.95996 | 1343.95996 | 36.707500 | ⋯ | 233.880005 | 233.880005 | 59.077999 | 59.077999 | 42.689999 | 41.415524 |  95.000000 | 92.389214 | 1112.270492 | 5026394.87 |\n",
       "| 248 | 2018-12-26 | 111.389999 | 102.459846 | 100.559998 | 98.312729 | 1039.459961 | 1039.459961 | 1470.90002 | 1470.90002 | 39.292500 | ⋯ | 253.669998 | 253.669998 | 65.218002 | 65.218002 | 44.590000 | 43.258801 |  98.379997 | 95.676323 | 1112.270492 | 5316185.68 |\n",
       "| 249 | 2018-12-27 | 113.779999 | 104.658234 | 101.180000 | 98.918884 | 1043.880005 | 1043.880005 | 1461.64001 | 1461.64001 | 39.037498 | ⋯ | 255.570007 | 255.570007 | 63.226002 | 63.226002 | 44.970001 | 43.627453 |  98.989998 | 96.269554 | 1112.270492 | 5345146.49 |\n",
       "| 250 | 2018-12-28 | 113.029999 | 103.968369 | 100.389999 | 98.146530 | 1037.079956 | 1037.079956 | 1478.02002 | 1478.02002 | 39.057499 | ⋯ | 256.079987 | 256.079987 | 66.774002 | 66.774002 | 44.820000 | 43.481926 |  99.199997 | 96.473785 | 1112.270492 | 5323137.23 |\n",
       "\n"
      ],
      "text/plain": [
       "    Date       IBM_Close  IBM_Adj.Close MSFT_Close MSFT_Adj.Close GOOG_Close \n",
       "245 2018-12-20 113.019997 103.959160    101.510002 99.241501      1009.409973\n",
       "246 2018-12-21 110.940002 102.045921     98.230003 96.034790       979.539978\n",
       "247 2018-12-24 107.570000  98.946083     94.129997 92.026421       976.219971\n",
       "248 2018-12-26 111.389999 102.459846    100.559998 98.312729      1039.459961\n",
       "249 2018-12-27 113.779999 104.658234    101.180000 98.918884      1043.880005\n",
       "250 2018-12-28 113.029999 103.968369    100.389999 98.146530      1037.079956\n",
       "    GOOG_Adj.Close AMZN_Close AMZN_Adj.Close AAPL_Close ⋯ NFLX_Close\n",
       "245 1009.409973    1460.82996 1460.82996     39.207500  ⋯ 260.579987\n",
       "246  979.539978    1377.44995 1377.44995     37.682499  ⋯ 246.389999\n",
       "247  976.219971    1343.95996 1343.95996     36.707500  ⋯ 233.880005\n",
       "248 1039.459961    1470.90002 1470.90002     39.292500  ⋯ 253.669998\n",
       "249 1043.880005    1461.64001 1461.64001     39.037498  ⋯ 255.570007\n",
       "250 1037.079956    1478.02002 1478.02002     39.057499  ⋯ 256.079987\n",
       "    NFLX_Adj.Close TSLA_Close TSLA_Adj.Close ORCL_Close ORCL_Adj.Close\n",
       "245 260.579987     63.076000  63.076000      46.240002  44.859539     \n",
       "246 246.389999     63.953999  63.953999      44.000000  42.686417     \n",
       "247 233.880005     59.077999  59.077999      42.689999  41.415524     \n",
       "248 253.669998     65.218002  65.218002      44.590000  43.258801     \n",
       "249 255.570007     63.226002  63.226002      44.970001  43.627453     \n",
       "250 256.079987     66.774002  66.774002      44.820000  43.481926     \n",
       "    SAP_Close  SAP_Adj.Close Remaining_Cash MTM       \n",
       "245 100.099998 97.349060      787.994654    5307895.74\n",
       "246  96.139999 93.497887     1112.270492    5107817.05\n",
       "247  95.000000 92.389214     1112.270492    5026394.87\n",
       "248  98.379997 95.676323     1112.270492    5316185.68\n",
       "249  98.989998 96.269554     1112.270492    5345146.49\n",
       "250  99.199997 96.473785     1112.270492    5323137.23"
      ]
     },
     "metadata": {},
     "output_type": "display_data"
    }
   ],
   "source": [
    "#Strategy-1\n",
    "\n",
    "options(digits=9)\n",
    "total_cash <- 5000000\n",
    "remaining_cash <- total_cash\n",
    "split <- total_cash/5\n",
    "MTM <- 0\n",
    "begin_date <- mdy('01/02/2018')\n",
    "start_date <- begin_date\n",
    "end_date <-  mdy('12/28/2018')\n",
    "all_stocks <- c('IBM_Adj.Close','MSFT_Adj.Close','GOOG_Adj.Close','AAPL_Adj.Close','AMZN_Adj.Close','FB_Adj.Close','NFLX_Adj.Close','TSLA_Adj.Close','ORCL_Adj.Close','SAP_Adj.Close')\n",
    "initial_stocks <- c('IBM_Close','MSFT_Close','GOOG_Close','AMZN_Close','FB_Close')\n",
    "shares_count <- list()\n",
    "\n",
    "# Main logic\n",
    "while(start_date <= end_date){\n",
    "    \n",
    "    # executes the first day\n",
    "    if(start_date == '2018-01-02'){\n",
    "          for(i in initial_stocks) {\n",
    "        a <- stocks_data[stocks_data$Date== start_date, initial_stocks]\n",
    "        b<- floor(split/a[i])\n",
    "        shares_count[i] <-  b[[i]] \n",
    "        remaining_cash <- remaining_cash - b*a[i]\n",
    "        MTM <- MTM + b*a[i]\n",
    "        }\n",
    "        colnames(remaining_cash) <- 'Remaining_Cash'\n",
    "        stocks_data[stocks_data$Date == start_date,'Remaining_Cash'] <- remaining_cash\n",
    "        colnames(MTM) <- 'MTM'\n",
    "        MTM <- MTM + remaining_cash\n",
    "        stocks_data[stocks_data$Date == start_date,'MTM'] <- MTM\n",
    "        \n",
    "}\n",
    "\n",
    "    \n",
    "    # This condition executes for every 5th day\n",
    "    else if(start_date %in% stocks_split_5$Date) {\n",
    "        MTM <- 0\n",
    "        for(i in initial_stocks) {\n",
    "        a <- stocks_data[stocks_data$Date== start_date, initial_stocks]\n",
    "        MTM <- MTM + shares_count[[i]]*a[i]\n",
    "        }\n",
    "        total_cash <- MTM + remaining_cash\n",
    "        remaining_cash <- total_cash\n",
    "        split <- total_cash / 5\n",
    "        colnames(total_cash) <- 'Total_Cash'\n",
    "        colnames(MTM) <- 'MTM'\n",
    "        calculated_stocks <- list()\n",
    "        for(i in all_stocks){\n",
    "           \n",
    "            x <- stocks_data[stocks_data$Date== start_date, all_stocks]\n",
    "            y <- stocks_data[stocks_data$Date== begin_date, all_stocks]\n",
    "            percent_change <- 100 * ((x[i] - y[i])/ y[i])\n",
    "            col <- paste0(i, \"_PC\")\n",
    "            calculated_stocks[col] <- percent_change\n",
    "            \n",
    "        }\n",
    "        calculated_stocks <- calculated_stocks[order(unlist(calculated_stocks))]\n",
    "        calculated_stocks <- head(calculated_stocks,5)\n",
    "        \n",
    "        # update initial stocks\n",
    "        initial_col_list <- names(calculated_stocks)\n",
    "        initial_col_list <- sub('_.*','',initial_col_list)\n",
    "        initial_col_list <- paste0(initial_col_list,'_Close')\n",
    "        initial_stocks <- initial_col_list\n",
    "        shares_count <- list()\n",
    "        b <- list()\n",
    "        MTM <- 0\n",
    "        for(i in initial_stocks) {\n",
    "        a <- stocks_data[stocks_data$Date== start_date, initial_stocks]\n",
    "        b<- floor(split[,1]/a[i])\n",
    "        shares_count[i] <-  b[[i]]\n",
    "        remaining_cash <- remaining_cash - b*a[i]\n",
    "        MTM <- MTM + b*a[i]\n",
    "        }\n",
    "        MTM <- MTM + remaining_cash\n",
    "        stocks_data[stocks_data$Date == start_date,'MTM'] <- MTM\n",
    "        stocks_data[stocks_data$Date == start_date,'Remaining_Cash'] <- remaining_cash\n",
    "        \n",
    "        \n",
    "    }\n",
    "        \n",
    "    # This logic executes every day except the 5th day and returns MTM\n",
    "    else {\n",
    "        MTM <- 0\n",
    "        for(i in initial_stocks) {\n",
    "        a <- stocks_data[stocks_data$Date== start_date, initial_stocks]\n",
    "        MTM <- MTM + shares_count[[i]]*a[i]\n",
    "        }\n",
    "        colnames(MTM) <- 'MTM'\n",
    "        stocks_data[stocks_data$Date == start_date,'Remaining_Cash'] <- remaining_cash\n",
    "        stocks_data[stocks_data$Date == start_date,'MTM'] <- MTM\n",
    "      \n",
    "    }\n",
    "start_date <- start_date+1\n",
    "}\n",
    "sr1_5 <- c('stocks_split_5',MTM = tail(stocks_data$MTM,1))\n",
    "sr1_5\n",
    "tail(stocks_data)"
   ]
  },
  {
   "cell_type": "markdown",
   "metadata": {},
   "source": [
    "## Here you can see the MTM column which changes everyday according the price change and every fifth day it rebalances. This stratergy we are buying low stocks, and we could see at the end of the year we are ending up in a profit. "
   ]
  },
  {
   "cell_type": "code",
   "execution_count": 14,
   "metadata": {},
   "outputs": [
    {
     "data": {
      "text/html": [
       "<style>\n",
       ".dl-inline {width: auto; margin:0; padding: 0}\n",
       ".dl-inline>dt, .dl-inline>dd {float: none; width: auto; display: inline-block}\n",
       ".dl-inline>dt::after {content: \":\\0020\"; padding-right: .5ex}\n",
       ".dl-inline>dt:not(:first-of-type) {padding-left: .5ex}\n",
       "</style><dl class=dl-inline><dt>1</dt><dd>'stocks_split_5'</dd><dt>MTM</dt><dd>'4761841.916281'</dd></dl>\n"
      ],
      "text/latex": [
       "\\begin{description*}\n",
       "\\item[1] 'stocks\\_split\\_5'\n",
       "\\item[MTM] '4761841.916281'\n",
       "\\end{description*}\n"
      ],
      "text/markdown": [
       "1\n",
       ":   'stocks_split_5'MTM\n",
       ":   '4761841.916281'\n",
       "\n"
      ],
      "text/plain": [
       "                              MTM \n",
       "\"stocks_split_5\" \"4761841.916281\" "
      ]
     },
     "metadata": {},
     "output_type": "display_data"
    },
    {
     "data": {
      "text/html": [
       "<table>\n",
       "<caption>A data.frame: 6 × 23</caption>\n",
       "<thead>\n",
       "\t<tr><th></th><th scope=col>Date</th><th scope=col>IBM_Close</th><th scope=col>IBM_Adj.Close</th><th scope=col>MSFT_Close</th><th scope=col>MSFT_Adj.Close</th><th scope=col>GOOG_Close</th><th scope=col>GOOG_Adj.Close</th><th scope=col>AMZN_Close</th><th scope=col>AMZN_Adj.Close</th><th scope=col>AAPL_Close</th><th scope=col>⋯</th><th scope=col>NFLX_Close</th><th scope=col>NFLX_Adj.Close</th><th scope=col>TSLA_Close</th><th scope=col>TSLA_Adj.Close</th><th scope=col>ORCL_Close</th><th scope=col>ORCL_Adj.Close</th><th scope=col>SAP_Close</th><th scope=col>SAP_Adj.Close</th><th scope=col>Remaining_Cash</th><th scope=col>MTM</th></tr>\n",
       "\t<tr><th></th><th scope=col>&lt;date&gt;</th><th scope=col>&lt;dbl&gt;</th><th scope=col>&lt;dbl&gt;</th><th scope=col>&lt;dbl&gt;</th><th scope=col>&lt;dbl&gt;</th><th scope=col>&lt;dbl&gt;</th><th scope=col>&lt;dbl&gt;</th><th scope=col>&lt;dbl&gt;</th><th scope=col>&lt;dbl&gt;</th><th scope=col>&lt;dbl&gt;</th><th scope=col>⋯</th><th scope=col>&lt;dbl&gt;</th><th scope=col>&lt;dbl&gt;</th><th scope=col>&lt;dbl&gt;</th><th scope=col>&lt;dbl&gt;</th><th scope=col>&lt;dbl&gt;</th><th scope=col>&lt;dbl&gt;</th><th scope=col>&lt;dbl&gt;</th><th scope=col>&lt;dbl&gt;</th><th scope=col>&lt;dbl&gt;</th><th scope=col>&lt;dbl&gt;</th></tr>\n",
       "</thead>\n",
       "<tbody>\n",
       "\t<tr><th scope=row>245</th><td>2018-12-20</td><td>113.019997</td><td>103.959160</td><td>101.510002</td><td>99.241501</td><td>1009.409973</td><td>1009.409973</td><td>1460.82996</td><td>1460.82996</td><td>39.207500</td><td>⋯</td><td>260.579987</td><td>260.579987</td><td>63.076000</td><td>63.076000</td><td>46.240002</td><td>44.859539</td><td>100.099998</td><td>97.349060</td><td>1507.778059</td><td>4754545.38</td></tr>\n",
       "\t<tr><th scope=row>246</th><td>2018-12-21</td><td>110.940002</td><td>102.045921</td><td> 98.230003</td><td>96.034790</td><td> 979.539978</td><td> 979.539978</td><td>1377.44995</td><td>1377.44995</td><td>37.682499</td><td>⋯</td><td>246.389999</td><td>246.389999</td><td>63.953999</td><td>63.953999</td><td>44.000000</td><td>42.686417</td><td> 96.139999</td><td>93.497887</td><td> 455.362628</td><td>4581750.35</td></tr>\n",
       "\t<tr><th scope=row>247</th><td>2018-12-24</td><td>107.570000</td><td> 98.946083</td><td> 94.129997</td><td>92.026421</td><td> 976.219971</td><td> 976.219971</td><td>1343.95996</td><td>1343.95996</td><td>36.707500</td><td>⋯</td><td>233.880005</td><td>233.880005</td><td>59.077999</td><td>59.077999</td><td>42.689999</td><td>41.415524</td><td> 95.000000</td><td>92.389214</td><td> 455.362628</td><td>4377109.21</td></tr>\n",
       "\t<tr><th scope=row>248</th><td>2018-12-26</td><td>111.389999</td><td>102.459846</td><td>100.559998</td><td>98.312729</td><td>1039.459961</td><td>1039.459961</td><td>1470.90002</td><td>1470.90002</td><td>39.292500</td><td>⋯</td><td>253.669998</td><td>253.669998</td><td>65.218002</td><td>65.218002</td><td>44.590000</td><td>43.258801</td><td> 98.379997</td><td>95.676323</td><td> 455.362628</td><td>4722645.77</td></tr>\n",
       "\t<tr><th scope=row>249</th><td>2018-12-27</td><td>113.779999</td><td>104.658234</td><td>101.180000</td><td>98.918884</td><td>1043.880005</td><td>1043.880005</td><td>1461.64001</td><td>1461.64001</td><td>39.037498</td><td>⋯</td><td>255.570007</td><td>255.570007</td><td>63.226002</td><td>63.226002</td><td>44.970001</td><td>43.627453</td><td> 98.989998</td><td>96.269554</td><td> 455.362628</td><td>4708709.90</td></tr>\n",
       "\t<tr><th scope=row>250</th><td>2018-12-28</td><td>113.029999</td><td>103.968369</td><td>100.389999</td><td>98.146530</td><td>1037.079956</td><td>1037.079956</td><td>1478.02002</td><td>1478.02002</td><td>39.057499</td><td>⋯</td><td>256.079987</td><td>256.079987</td><td>66.774002</td><td>66.774002</td><td>44.820000</td><td>43.481926</td><td> 99.199997</td><td>96.473785</td><td> 455.362628</td><td>4761841.92</td></tr>\n",
       "</tbody>\n",
       "</table>\n"
      ],
      "text/latex": [
       "A data.frame: 6 × 23\n",
       "\\begin{tabular}{r|lllllllllllllllllllll}\n",
       "  & Date & IBM\\_Close & IBM\\_Adj.Close & MSFT\\_Close & MSFT\\_Adj.Close & GOOG\\_Close & GOOG\\_Adj.Close & AMZN\\_Close & AMZN\\_Adj.Close & AAPL\\_Close & ⋯ & NFLX\\_Close & NFLX\\_Adj.Close & TSLA\\_Close & TSLA\\_Adj.Close & ORCL\\_Close & ORCL\\_Adj.Close & SAP\\_Close & SAP\\_Adj.Close & Remaining\\_Cash & MTM\\\\\n",
       "  & <date> & <dbl> & <dbl> & <dbl> & <dbl> & <dbl> & <dbl> & <dbl> & <dbl> & <dbl> & ⋯ & <dbl> & <dbl> & <dbl> & <dbl> & <dbl> & <dbl> & <dbl> & <dbl> & <dbl> & <dbl>\\\\\n",
       "\\hline\n",
       "\t245 & 2018-12-20 & 113.019997 & 103.959160 & 101.510002 & 99.241501 & 1009.409973 & 1009.409973 & 1460.82996 & 1460.82996 & 39.207500 & ⋯ & 260.579987 & 260.579987 & 63.076000 & 63.076000 & 46.240002 & 44.859539 & 100.099998 & 97.349060 & 1507.778059 & 4754545.38\\\\\n",
       "\t246 & 2018-12-21 & 110.940002 & 102.045921 &  98.230003 & 96.034790 &  979.539978 &  979.539978 & 1377.44995 & 1377.44995 & 37.682499 & ⋯ & 246.389999 & 246.389999 & 63.953999 & 63.953999 & 44.000000 & 42.686417 &  96.139999 & 93.497887 &  455.362628 & 4581750.35\\\\\n",
       "\t247 & 2018-12-24 & 107.570000 &  98.946083 &  94.129997 & 92.026421 &  976.219971 &  976.219971 & 1343.95996 & 1343.95996 & 36.707500 & ⋯ & 233.880005 & 233.880005 & 59.077999 & 59.077999 & 42.689999 & 41.415524 &  95.000000 & 92.389214 &  455.362628 & 4377109.21\\\\\n",
       "\t248 & 2018-12-26 & 111.389999 & 102.459846 & 100.559998 & 98.312729 & 1039.459961 & 1039.459961 & 1470.90002 & 1470.90002 & 39.292500 & ⋯ & 253.669998 & 253.669998 & 65.218002 & 65.218002 & 44.590000 & 43.258801 &  98.379997 & 95.676323 &  455.362628 & 4722645.77\\\\\n",
       "\t249 & 2018-12-27 & 113.779999 & 104.658234 & 101.180000 & 98.918884 & 1043.880005 & 1043.880005 & 1461.64001 & 1461.64001 & 39.037498 & ⋯ & 255.570007 & 255.570007 & 63.226002 & 63.226002 & 44.970001 & 43.627453 &  98.989998 & 96.269554 &  455.362628 & 4708709.90\\\\\n",
       "\t250 & 2018-12-28 & 113.029999 & 103.968369 & 100.389999 & 98.146530 & 1037.079956 & 1037.079956 & 1478.02002 & 1478.02002 & 39.057499 & ⋯ & 256.079987 & 256.079987 & 66.774002 & 66.774002 & 44.820000 & 43.481926 &  99.199997 & 96.473785 &  455.362628 & 4761841.92\\\\\n",
       "\\end{tabular}\n"
      ],
      "text/markdown": [
       "\n",
       "A data.frame: 6 × 23\n",
       "\n",
       "| <!--/--> | Date &lt;date&gt; | IBM_Close &lt;dbl&gt; | IBM_Adj.Close &lt;dbl&gt; | MSFT_Close &lt;dbl&gt; | MSFT_Adj.Close &lt;dbl&gt; | GOOG_Close &lt;dbl&gt; | GOOG_Adj.Close &lt;dbl&gt; | AMZN_Close &lt;dbl&gt; | AMZN_Adj.Close &lt;dbl&gt; | AAPL_Close &lt;dbl&gt; | ⋯ ⋯ | NFLX_Close &lt;dbl&gt; | NFLX_Adj.Close &lt;dbl&gt; | TSLA_Close &lt;dbl&gt; | TSLA_Adj.Close &lt;dbl&gt; | ORCL_Close &lt;dbl&gt; | ORCL_Adj.Close &lt;dbl&gt; | SAP_Close &lt;dbl&gt; | SAP_Adj.Close &lt;dbl&gt; | Remaining_Cash &lt;dbl&gt; | MTM &lt;dbl&gt; |\n",
       "|---|---|---|---|---|---|---|---|---|---|---|---|---|---|---|---|---|---|---|---|---|---|\n",
       "| 245 | 2018-12-20 | 113.019997 | 103.959160 | 101.510002 | 99.241501 | 1009.409973 | 1009.409973 | 1460.82996 | 1460.82996 | 39.207500 | ⋯ | 260.579987 | 260.579987 | 63.076000 | 63.076000 | 46.240002 | 44.859539 | 100.099998 | 97.349060 | 1507.778059 | 4754545.38 |\n",
       "| 246 | 2018-12-21 | 110.940002 | 102.045921 |  98.230003 | 96.034790 |  979.539978 |  979.539978 | 1377.44995 | 1377.44995 | 37.682499 | ⋯ | 246.389999 | 246.389999 | 63.953999 | 63.953999 | 44.000000 | 42.686417 |  96.139999 | 93.497887 |  455.362628 | 4581750.35 |\n",
       "| 247 | 2018-12-24 | 107.570000 |  98.946083 |  94.129997 | 92.026421 |  976.219971 |  976.219971 | 1343.95996 | 1343.95996 | 36.707500 | ⋯ | 233.880005 | 233.880005 | 59.077999 | 59.077999 | 42.689999 | 41.415524 |  95.000000 | 92.389214 |  455.362628 | 4377109.21 |\n",
       "| 248 | 2018-12-26 | 111.389999 | 102.459846 | 100.559998 | 98.312729 | 1039.459961 | 1039.459961 | 1470.90002 | 1470.90002 | 39.292500 | ⋯ | 253.669998 | 253.669998 | 65.218002 | 65.218002 | 44.590000 | 43.258801 |  98.379997 | 95.676323 |  455.362628 | 4722645.77 |\n",
       "| 249 | 2018-12-27 | 113.779999 | 104.658234 | 101.180000 | 98.918884 | 1043.880005 | 1043.880005 | 1461.64001 | 1461.64001 | 39.037498 | ⋯ | 255.570007 | 255.570007 | 63.226002 | 63.226002 | 44.970001 | 43.627453 |  98.989998 | 96.269554 |  455.362628 | 4708709.90 |\n",
       "| 250 | 2018-12-28 | 113.029999 | 103.968369 | 100.389999 | 98.146530 | 1037.079956 | 1037.079956 | 1478.02002 | 1478.02002 | 39.057499 | ⋯ | 256.079987 | 256.079987 | 66.774002 | 66.774002 | 44.820000 | 43.481926 |  99.199997 | 96.473785 |  455.362628 | 4761841.92 |\n",
       "\n"
      ],
      "text/plain": [
       "    Date       IBM_Close  IBM_Adj.Close MSFT_Close MSFT_Adj.Close GOOG_Close \n",
       "245 2018-12-20 113.019997 103.959160    101.510002 99.241501      1009.409973\n",
       "246 2018-12-21 110.940002 102.045921     98.230003 96.034790       979.539978\n",
       "247 2018-12-24 107.570000  98.946083     94.129997 92.026421       976.219971\n",
       "248 2018-12-26 111.389999 102.459846    100.559998 98.312729      1039.459961\n",
       "249 2018-12-27 113.779999 104.658234    101.180000 98.918884      1043.880005\n",
       "250 2018-12-28 113.029999 103.968369    100.389999 98.146530      1037.079956\n",
       "    GOOG_Adj.Close AMZN_Close AMZN_Adj.Close AAPL_Close ⋯ NFLX_Close\n",
       "245 1009.409973    1460.82996 1460.82996     39.207500  ⋯ 260.579987\n",
       "246  979.539978    1377.44995 1377.44995     37.682499  ⋯ 246.389999\n",
       "247  976.219971    1343.95996 1343.95996     36.707500  ⋯ 233.880005\n",
       "248 1039.459961    1470.90002 1470.90002     39.292500  ⋯ 253.669998\n",
       "249 1043.880005    1461.64001 1461.64001     39.037498  ⋯ 255.570007\n",
       "250 1037.079956    1478.02002 1478.02002     39.057499  ⋯ 256.079987\n",
       "    NFLX_Adj.Close TSLA_Close TSLA_Adj.Close ORCL_Close ORCL_Adj.Close\n",
       "245 260.579987     63.076000  63.076000      46.240002  44.859539     \n",
       "246 246.389999     63.953999  63.953999      44.000000  42.686417     \n",
       "247 233.880005     59.077999  59.077999      42.689999  41.415524     \n",
       "248 253.669998     65.218002  65.218002      44.590000  43.258801     \n",
       "249 255.570007     63.226002  63.226002      44.970001  43.627453     \n",
       "250 256.079987     66.774002  66.774002      44.820000  43.481926     \n",
       "    SAP_Close  SAP_Adj.Close Remaining_Cash MTM       \n",
       "245 100.099998 97.349060     1507.778059    4754545.38\n",
       "246  96.139999 93.497887      455.362628    4581750.35\n",
       "247  95.000000 92.389214      455.362628    4377109.21\n",
       "248  98.379997 95.676323      455.362628    4722645.77\n",
       "249  98.989998 96.269554      455.362628    4708709.90\n",
       "250  99.199997 96.473785      455.362628    4761841.92"
      ]
     },
     "metadata": {},
     "output_type": "display_data"
    }
   ],
   "source": [
    "#Strategy 2\n",
    "\n",
    "options(digits=9)\n",
    "total_cash <- 5000000\n",
    "remaining_cash <- total_cash\n",
    "split <- total_cash/5\n",
    "MTM <- 0\n",
    "begin_date <- mdy('01/02/2018')\n",
    "start_date <- begin_date\n",
    "end_date <-  mdy('12/28/2018')\n",
    "all_stocks <- c('IBM_Adj.Close','MSFT_Adj.Close','GOOG_Adj.Close','AAPL_Adj.Close','AMZN_Adj.Close','FB_Adj.Close','NFLX_Adj.Close','TSLA_Adj.Close','ORCL_Adj.Close','SAP_Adj.Close')\n",
    "initial_stocks <- c('IBM_Close','MSFT_Close','GOOG_Close','AMZN_Close','FB_Close')\n",
    "shares_count <- list()\n",
    "\n",
    "# Main logic\n",
    "while(start_date <= end_date){\n",
    "    \n",
    "    # executes the first day\n",
    "    if(start_date == '2018-01-02'){\n",
    "          for(i in initial_stocks) {\n",
    "        a <- stocks_data[stocks_data$Date== start_date, initial_stocks]\n",
    "        b<- floor(split/a[i])\n",
    "        shares_count[i] <-  b[[i]] \n",
    "        remaining_cash <- remaining_cash - b*a[i]\n",
    "        MTM <- MTM + b*a[i]\n",
    "        }\n",
    "        colnames(remaining_cash) <- 'Remaining_Cash'\n",
    "        stocks_data[stocks_data$Date == start_date,'Remaining_Cash'] <- remaining_cash\n",
    "        colnames(MTM) <- 'MTM'\n",
    "        MTM <- MTM + remaining_cash\n",
    "        stocks_data[stocks_data$Date == start_date,'MTM'] <- MTM\n",
    "        \n",
    "}\n",
    "\n",
    "    \n",
    "    # This condition executes for every 5th day\n",
    "    else if(start_date %in% stocks_split_5$Date) {\n",
    "        MTM <- 0\n",
    "        for(i in initial_stocks) {\n",
    "        a <- stocks_data[stocks_data$Date== start_date, initial_stocks]\n",
    "        MTM <- MTM + shares_count[[i]]*a[i]\n",
    "        }\n",
    "        total_cash <- MTM + remaining_cash\n",
    "        remaining_cash <- total_cash\n",
    "        split <- total_cash / 5\n",
    "        colnames(total_cash) <- 'Total_Cash'\n",
    "        colnames(MTM) <- 'MTM'\n",
    "        calculated_stocks <- list()\n",
    "        for(i in all_stocks){\n",
    "           \n",
    "            x <- stocks_data[stocks_data$Date== start_date, all_stocks]\n",
    "            y <- stocks_data[stocks_data$Date== begin_date, all_stocks]\n",
    "            percent_change <- 100 * ((x[i] - y[i])/ y[i])\n",
    "            col <- paste0(i, \"_PC\")\n",
    "            calculated_stocks[col] <- percent_change\n",
    "            \n",
    "        }\n",
    "        calculated_stocks <- calculated_stocks[order(unlist(calculated_stocks))]\n",
    "        calculated_stocks <- tail(calculated_stocks,5)\n",
    "        \n",
    "        # update initial stocks\n",
    "        initial_col_list <- names(calculated_stocks)\n",
    "        initial_col_list <- sub('_.*','',initial_col_list)\n",
    "        initial_col_list <- paste0(initial_col_list,'_Close')\n",
    "        initial_stocks <- initial_col_list\n",
    "        shares_count <- list()\n",
    "        b <- list()\n",
    "        MTM <- 0\n",
    "        for(i in initial_stocks) {\n",
    "        a <- stocks_data[stocks_data$Date== start_date, initial_stocks]\n",
    "        b<- floor(split[,1]/a[i])\n",
    "        shares_count[i] <-  b[[i]]\n",
    "        remaining_cash <- remaining_cash - b*a[i]\n",
    "        MTM <- MTM + b*a[i]\n",
    "        }\n",
    "        MTM <- MTM + remaining_cash\n",
    "        stocks_data[stocks_data$Date == start_date,'MTM'] <- MTM\n",
    "        stocks_data[stocks_data$Date == start_date,'Remaining_Cash'] <- remaining_cash\n",
    "        \n",
    "        \n",
    "    }\n",
    "        \n",
    "    # This logic executes every day except the 5th day and returns MTM\n",
    "    else {\n",
    "        MTM <- 0\n",
    "        for(i in initial_stocks) {\n",
    "        a <- stocks_data[stocks_data$Date== start_date, initial_stocks]\n",
    "        MTM <- MTM + shares_count[[i]]*a[i]\n",
    "        }\n",
    "        colnames(MTM) <- 'MTM'\n",
    "        stocks_data[stocks_data$Date == start_date,'Remaining_Cash'] <- remaining_cash\n",
    "        stocks_data[stocks_data$Date == start_date,'MTM'] <- MTM\n",
    "      \n",
    "    }\n",
    "start_date <- start_date+1\n",
    "}\n",
    "# tail(stocks_data,10)\n",
    "sr2_5 <- c('stocks_split_5',MTM = tail(stocks_data$MTM,1))\n",
    "sr2_5\n",
    "tail(stocks_data)"
   ]
  },
  {
   "cell_type": "markdown",
   "metadata": {},
   "source": [
    "## Here you can see the MTM column which changes everyday according the price change and every fifth day it rebalances. This stratergy we are buying High stocks, and we could see at the end of the year we are ending up in a lose. "
   ]
  },
  {
   "cell_type": "code",
   "execution_count": 15,
   "metadata": {},
   "outputs": [],
   "source": [
    "stocks_data$HTI=rowMeans(stocks_data[,c('IBM_Close','MSFT_Close','GOOG_Close','AMZN_Close','FB_Close','AAPL_Close','NFLX_Close','TSLA_Close','ORCL_Close','SAP_Close')], na.rm=TRUE)"
   ]
  },
  {
   "cell_type": "markdown",
   "metadata": {},
   "source": [
    "## we calculated High Tech Index for each day and added new column named \"HTI\""
   ]
  },
  {
   "cell_type": "code",
   "execution_count": 16,
   "metadata": {},
   "outputs": [
    {
     "name": "stdout",
     "output_type": "stream",
     "text": [
      "\n",
      "The downloaded binary packages are in\n",
      "\t/var/folders/jl/k_csbq8n2pg3m9s1t5114zgm0000gn/T//Rtmp5xgb6b/downloaded_packages\n"
     ]
    }
   ],
   "source": [
    "install.packages('reshape2')"
   ]
  },
  {
   "cell_type": "code",
   "execution_count": 17,
   "metadata": {
    "scrolled": true
   },
   "outputs": [
    {
     "name": "stderr",
     "output_type": "stream",
     "text": [
      "── \u001b[1mAttaching packages\u001b[22m ─────────────────────────────────────── tidyverse 1.3.0 ──\n",
      "\n",
      "\u001b[32m✔\u001b[39m \u001b[34mggplot2\u001b[39m 3.3.2     \u001b[32m✔\u001b[39m \u001b[34mpurrr  \u001b[39m 0.3.4\n",
      "\u001b[32m✔\u001b[39m \u001b[34mtibble \u001b[39m 3.0.3     \u001b[32m✔\u001b[39m \u001b[34mstringr\u001b[39m 1.4.0\n",
      "\u001b[32m✔\u001b[39m \u001b[34mtidyr  \u001b[39m 1.1.2     \u001b[32m✔\u001b[39m \u001b[34mforcats\u001b[39m 0.5.0\n",
      "\u001b[32m✔\u001b[39m \u001b[34mreadr  \u001b[39m 1.4.0     \n",
      "\n",
      "── \u001b[1mConflicts\u001b[22m ────────────────────────────────────────── tidyverse_conflicts() ──\n",
      "\u001b[31m✖\u001b[39m \u001b[34mlubridate\u001b[39m::\u001b[32mas.difftime()\u001b[39m masks \u001b[34mbase\u001b[39m::as.difftime()\n",
      "\u001b[31m✖\u001b[39m \u001b[34mlubridate\u001b[39m::\u001b[32mdate()\u001b[39m        masks \u001b[34mbase\u001b[39m::date()\n",
      "\u001b[31m✖\u001b[39m \u001b[34mdplyr\u001b[39m::\u001b[32mfilter()\u001b[39m          masks \u001b[34mstats\u001b[39m::filter()\n",
      "\u001b[31m✖\u001b[39m \u001b[34mlubridate\u001b[39m::\u001b[32mintersect()\u001b[39m   masks \u001b[34mbase\u001b[39m::intersect()\n",
      "\u001b[31m✖\u001b[39m \u001b[34mdplyr\u001b[39m::\u001b[32mlag()\u001b[39m             masks \u001b[34mstats\u001b[39m::lag()\n",
      "\u001b[31m✖\u001b[39m \u001b[34mlubridate\u001b[39m::\u001b[32msetdiff()\u001b[39m     masks \u001b[34mbase\u001b[39m::setdiff()\n",
      "\u001b[31m✖\u001b[39m \u001b[34mlubridate\u001b[39m::\u001b[32munion()\u001b[39m       masks \u001b[34mbase\u001b[39m::union()\n",
      "\n",
      "\n",
      "Attaching package: ‘reshape2’\n",
      "\n",
      "\n",
      "The following object is masked from ‘package:tidyr’:\n",
      "\n",
      "    smiths\n",
      "\n",
      "\n"
     ]
    }
   ],
   "source": [
    "library(tidyverse)\n",
    "library(reshape2)"
   ]
  },
  {
   "cell_type": "code",
   "execution_count": 18,
   "metadata": {},
   "outputs": [
    {
     "name": "stderr",
     "output_type": "stream",
     "text": [
      "Warning message:\n",
      "“Removed 446 row(s) containing missing values (geom_path).”\n"
     ]
    },
    {
     "data": {
      "image/png": "[encoded data removed]",
      "text/plain": [
       "plot without title"
      ]
     },
     "metadata": {
      "image/png": {
       "height": 420,
       "width": 420
      }
     },
     "output_type": "display_data"
    }
   ],
   "source": [
    "data.frame(Date=stocks_data$Date, \n",
    "         HTIchange= transmute(stocks_data, HTIchange=((HTI-lag(HTI))/lag(HTI))*100), \n",
    "        MTMchange = transmute(stocks_data, MTMchange=((MTM-lag(MTM))/lag(MTM))*100)) %>%\n",
    "reshape2::melt(id.vars=\"Date\") %>%\n",
    "ggplot(aes(x=Date, y=value, group=variable, color=variable)) + geom_line(size=1) +\n",
    " scale_x_date(limit=c(as.Date(\"2018-01-01\"),as.Date(\"2018-02-11\")))"
   ]
  },
  {
   "cell_type": "markdown",
   "metadata": {},
   "source": [
    "## The above Graph shows HTI change and MTM change from January 2018 to February 2018"
   ]
  },
  {
   "cell_type": "code",
   "execution_count": 19,
   "metadata": {},
   "outputs": [
    {
     "name": "stderr",
     "output_type": "stream",
     "text": [
      "Warning message:\n",
      "“Removed 2 row(s) containing missing values (geom_path).”\n"
     ]
    },
    {
     "data": {
      "image/png": "[encoded data removed]",
      "text/plain": [
       "plot without title"
      ]
     },
     "metadata": {
      "image/png": {
       "height": 420,
       "width": 420
      }
     },
     "output_type": "display_data"
    }
   ],
   "source": [
    "data.frame(Date=stocks_data$Date, \n",
    "         HTIchange= transmute(stocks_data, HTIchange=((HTI-lag(HTI))/lag(HTI))*100), \n",
    "        MTMchange = transmute(stocks_data, MTMchange=((MTM-lag(MTM))/lag(MTM))*100)) %>%\n",
    "reshape2::melt(id.vars=\"Date\") %>%\n",
    "ggplot(aes(x=Date, y=value, group=variable, color=variable)) + geom_line(size=1) \n",
    " "
   ]
  },
  {
   "cell_type": "markdown",
   "metadata": {},
   "source": [
    "## The above Graph shows HTI change and MTM change from January 2018 to December 2018"
   ]
  },
  {
   "cell_type": "code",
   "execution_count": 21,
   "metadata": {},
   "outputs": [
    {
     "data": {
      "text/html": [
       "<table>\n",
       "<caption>A data.frame: 6 × 2</caption>\n",
       "<thead>\n",
       "\t<tr><th></th><th scope=col>Date</th><th scope=col>JPY_Close</th></tr>\n",
       "\t<tr><th></th><th scope=col>&lt;date&gt;</th><th scope=col>&lt;dbl&gt;</th></tr>\n",
       "</thead>\n",
       "<tbody>\n",
       "\t<tr><th scope=row>1</th><td>2018-01-02</td><td>112.769997</td></tr>\n",
       "\t<tr><th scope=row>2</th><td>2018-01-03</td><td>112.244003</td></tr>\n",
       "\t<tr><th scope=row>3</th><td>2018-01-04</td><td>112.607002</td></tr>\n",
       "\t<tr><th scope=row>4</th><td>2018-01-05</td><td>112.782997</td></tr>\n",
       "\t<tr><th scope=row>5</th><td>2018-01-08</td><td>113.153999</td></tr>\n",
       "\t<tr><th scope=row>6</th><td>2018-01-09</td><td>113.140999</td></tr>\n",
       "</tbody>\n",
       "</table>\n"
      ],
      "text/latex": [
       "A data.frame: 6 × 2\n",
       "\\begin{tabular}{r|ll}\n",
       "  & Date & JPY\\_Close\\\\\n",
       "  & <date> & <dbl>\\\\\n",
       "\\hline\n",
       "\t1 & 2018-01-02 & 112.769997\\\\\n",
       "\t2 & 2018-01-03 & 112.244003\\\\\n",
       "\t3 & 2018-01-04 & 112.607002\\\\\n",
       "\t4 & 2018-01-05 & 112.782997\\\\\n",
       "\t5 & 2018-01-08 & 113.153999\\\\\n",
       "\t6 & 2018-01-09 & 113.140999\\\\\n",
       "\\end{tabular}\n"
      ],
      "text/markdown": [
       "\n",
       "A data.frame: 6 × 2\n",
       "\n",
       "| <!--/--> | Date &lt;date&gt; | JPY_Close &lt;dbl&gt; |\n",
       "|---|---|---|\n",
       "| 1 | 2018-01-02 | 112.769997 |\n",
       "| 2 | 2018-01-03 | 112.244003 |\n",
       "| 3 | 2018-01-04 | 112.607002 |\n",
       "| 4 | 2018-01-05 | 112.782997 |\n",
       "| 5 | 2018-01-08 | 113.153999 |\n",
       "| 6 | 2018-01-09 | 113.140999 |\n",
       "\n"
      ],
      "text/plain": [
       "  Date       JPY_Close \n",
       "1 2018-01-02 112.769997\n",
       "2 2018-01-03 112.244003\n",
       "3 2018-01-04 112.607002\n",
       "4 2018-01-05 112.782997\n",
       "5 2018-01-08 113.153999\n",
       "6 2018-01-09 113.140999"
      ]
     },
     "metadata": {},
     "output_type": "display_data"
    }
   ],
   "source": [
    "head(jpy_close)"
   ]
  },
  {
   "cell_type": "code",
   "execution_count": 22,
   "metadata": {
    "scrolled": true
   },
   "outputs": [
    {
     "data": {
      "text/html": [
       "<table>\n",
       "<caption>A data.frame: 6 × 25</caption>\n",
       "<thead>\n",
       "\t<tr><th></th><th scope=col>Date</th><th scope=col>IBM_Close</th><th scope=col>IBM_Adj.Close</th><th scope=col>MSFT_Close</th><th scope=col>MSFT_Adj.Close</th><th scope=col>GOOG_Close</th><th scope=col>GOOG_Adj.Close</th><th scope=col>AMZN_Close</th><th scope=col>AMZN_Adj.Close</th><th scope=col>AAPL_Close</th><th scope=col>⋯</th><th scope=col>TSLA_Close</th><th scope=col>TSLA_Adj.Close</th><th scope=col>ORCL_Close</th><th scope=col>ORCL_Adj.Close</th><th scope=col>SAP_Close</th><th scope=col>SAP_Adj.Close</th><th scope=col>Remaining_Cash</th><th scope=col>MTM</th><th scope=col>HTI</th><th scope=col>JPY_Close</th></tr>\n",
       "\t<tr><th></th><th scope=col>&lt;date&gt;</th><th scope=col>&lt;dbl&gt;</th><th scope=col>&lt;dbl&gt;</th><th scope=col>&lt;dbl&gt;</th><th scope=col>&lt;dbl&gt;</th><th scope=col>&lt;dbl&gt;</th><th scope=col>&lt;dbl&gt;</th><th scope=col>&lt;dbl&gt;</th><th scope=col>&lt;dbl&gt;</th><th scope=col>&lt;dbl&gt;</th><th scope=col>⋯</th><th scope=col>&lt;dbl&gt;</th><th scope=col>&lt;dbl&gt;</th><th scope=col>&lt;dbl&gt;</th><th scope=col>&lt;dbl&gt;</th><th scope=col>&lt;dbl&gt;</th><th scope=col>&lt;dbl&gt;</th><th scope=col>&lt;dbl&gt;</th><th scope=col>&lt;dbl&gt;</th><th scope=col>&lt;dbl&gt;</th><th scope=col>&lt;dbl&gt;</th></tr>\n",
       "</thead>\n",
       "<tbody>\n",
       "\t<tr><th scope=row>1</th><td>2018-01-02</td><td>154.250000</td><td>135.743759</td><td>85.949997</td><td>82.599319</td><td>1065.00000</td><td>1065.00000</td><td>1189.01001</td><td>1189.01001</td><td>43.064999</td><td>⋯</td><td>64.106003</td><td>64.106003</td><td>46.630001</td><td>44.522018</td><td>112.389999</td><td>107.653435</td><td>1294.78752</td><td>5000000.00</td><td>314.289101</td><td>112.769997</td></tr>\n",
       "\t<tr><th scope=row>2</th><td>2018-01-03</td><td>158.490005</td><td>139.475113</td><td>86.349998</td><td>82.983727</td><td>1082.47998</td><td>1082.47998</td><td>1204.19995</td><td>1204.19995</td><td>43.057499</td><td>⋯</td><td>63.450001</td><td>63.450001</td><td>47.709999</td><td>45.553192</td><td>113.309998</td><td>108.534660</td><td>1294.78752</td><td>5077927.50</td><td>318.876743</td><td>112.244003</td></tr>\n",
       "\t<tr><th scope=row>3</th><td>2018-01-04</td><td>161.699997</td><td>142.299957</td><td>87.110001</td><td>83.714119</td><td>1086.40002</td><td>1086.40002</td><td>1209.58997</td><td>1209.58997</td><td>43.257500</td><td>⋯</td><td>62.924000</td><td>62.924000</td><td>48.180000</td><td>46.001949</td><td>115.050003</td><td>110.201332</td><td>1294.78752</td><td>5113912.49</td><td>320.417150</td><td>112.607002</td></tr>\n",
       "\t<tr><th scope=row>4</th><td>2018-01-05</td><td>162.490005</td><td>142.995193</td><td>88.190002</td><td>84.752014</td><td>1102.22998</td><td>1102.22998</td><td>1229.14001</td><td>1229.14001</td><td>43.750000</td><td>⋯</td><td>63.316002</td><td>63.316002</td><td>48.470001</td><td>46.278843</td><td>116.330002</td><td>111.427383</td><td>1294.78752</td><td>5176778.40</td><td>325.075602</td><td>112.782997</td></tr>\n",
       "\t<tr><th scope=row>5</th><td>2018-01-08</td><td>163.470001</td><td>143.857620</td><td>88.279999</td><td>84.838486</td><td>1106.93994</td><td>1106.93994</td><td>1246.87000</td><td>1246.87000</td><td>43.587502</td><td>⋯</td><td>67.281998</td><td>67.281998</td><td>48.980000</td><td>46.765781</td><td>114.800003</td><td>109.961861</td><td>1294.78752</td><td>5211388.74</td><td>328.053944</td><td>113.153999</td></tr>\n",
       "\t<tr><th scope=row>6</th><td>2018-01-09</td><td>163.830002</td><td>144.174408</td><td>88.220001</td><td>84.780838</td><td>1106.26001</td><td>1106.26001</td><td>1252.69995</td><td>1252.69995</td><td>43.582500</td><td>⋯</td><td>66.737999</td><td>66.737999</td><td>49.060001</td><td>47.024582</td><td>114.160004</td><td>109.348839</td><td>1261.97909</td><td>5216324.31</td><td>328.173046</td><td>113.140999</td></tr>\n",
       "</tbody>\n",
       "</table>\n"
      ],
      "text/latex": [
       "A data.frame: 6 × 25\n",
       "\\begin{tabular}{r|lllllllllllllllllllll}\n",
       "  & Date & IBM\\_Close & IBM\\_Adj.Close & MSFT\\_Close & MSFT\\_Adj.Close & GOOG\\_Close & GOOG\\_Adj.Close & AMZN\\_Close & AMZN\\_Adj.Close & AAPL\\_Close & ⋯ & TSLA\\_Close & TSLA\\_Adj.Close & ORCL\\_Close & ORCL\\_Adj.Close & SAP\\_Close & SAP\\_Adj.Close & Remaining\\_Cash & MTM & HTI & JPY\\_Close\\\\\n",
       "  & <date> & <dbl> & <dbl> & <dbl> & <dbl> & <dbl> & <dbl> & <dbl> & <dbl> & <dbl> & ⋯ & <dbl> & <dbl> & <dbl> & <dbl> & <dbl> & <dbl> & <dbl> & <dbl> & <dbl> & <dbl>\\\\\n",
       "\\hline\n",
       "\t1 & 2018-01-02 & 154.250000 & 135.743759 & 85.949997 & 82.599319 & 1065.00000 & 1065.00000 & 1189.01001 & 1189.01001 & 43.064999 & ⋯ & 64.106003 & 64.106003 & 46.630001 & 44.522018 & 112.389999 & 107.653435 & 1294.78752 & 5000000.00 & 314.289101 & 112.769997\\\\\n",
       "\t2 & 2018-01-03 & 158.490005 & 139.475113 & 86.349998 & 82.983727 & 1082.47998 & 1082.47998 & 1204.19995 & 1204.19995 & 43.057499 & ⋯ & 63.450001 & 63.450001 & 47.709999 & 45.553192 & 113.309998 & 108.534660 & 1294.78752 & 5077927.50 & 318.876743 & 112.244003\\\\\n",
       "\t3 & 2018-01-04 & 161.699997 & 142.299957 & 87.110001 & 83.714119 & 1086.40002 & 1086.40002 & 1209.58997 & 1209.58997 & 43.257500 & ⋯ & 62.924000 & 62.924000 & 48.180000 & 46.001949 & 115.050003 & 110.201332 & 1294.78752 & 5113912.49 & 320.417150 & 112.607002\\\\\n",
       "\t4 & 2018-01-05 & 162.490005 & 142.995193 & 88.190002 & 84.752014 & 1102.22998 & 1102.22998 & 1229.14001 & 1229.14001 & 43.750000 & ⋯ & 63.316002 & 63.316002 & 48.470001 & 46.278843 & 116.330002 & 111.427383 & 1294.78752 & 5176778.40 & 325.075602 & 112.782997\\\\\n",
       "\t5 & 2018-01-08 & 163.470001 & 143.857620 & 88.279999 & 84.838486 & 1106.93994 & 1106.93994 & 1246.87000 & 1246.87000 & 43.587502 & ⋯ & 67.281998 & 67.281998 & 48.980000 & 46.765781 & 114.800003 & 109.961861 & 1294.78752 & 5211388.74 & 328.053944 & 113.153999\\\\\n",
       "\t6 & 2018-01-09 & 163.830002 & 144.174408 & 88.220001 & 84.780838 & 1106.26001 & 1106.26001 & 1252.69995 & 1252.69995 & 43.582500 & ⋯ & 66.737999 & 66.737999 & 49.060001 & 47.024582 & 114.160004 & 109.348839 & 1261.97909 & 5216324.31 & 328.173046 & 113.140999\\\\\n",
       "\\end{tabular}\n"
      ],
      "text/markdown": [
       "\n",
       "A data.frame: 6 × 25\n",
       "\n",
       "| <!--/--> | Date &lt;date&gt; | IBM_Close &lt;dbl&gt; | IBM_Adj.Close &lt;dbl&gt; | MSFT_Close &lt;dbl&gt; | MSFT_Adj.Close &lt;dbl&gt; | GOOG_Close &lt;dbl&gt; | GOOG_Adj.Close &lt;dbl&gt; | AMZN_Close &lt;dbl&gt; | AMZN_Adj.Close &lt;dbl&gt; | AAPL_Close &lt;dbl&gt; | ⋯ ⋯ | TSLA_Close &lt;dbl&gt; | TSLA_Adj.Close &lt;dbl&gt; | ORCL_Close &lt;dbl&gt; | ORCL_Adj.Close &lt;dbl&gt; | SAP_Close &lt;dbl&gt; | SAP_Adj.Close &lt;dbl&gt; | Remaining_Cash &lt;dbl&gt; | MTM &lt;dbl&gt; | HTI &lt;dbl&gt; | JPY_Close &lt;dbl&gt; |\n",
       "|---|---|---|---|---|---|---|---|---|---|---|---|---|---|---|---|---|---|---|---|---|---|\n",
       "| 1 | 2018-01-02 | 154.250000 | 135.743759 | 85.949997 | 82.599319 | 1065.00000 | 1065.00000 | 1189.01001 | 1189.01001 | 43.064999 | ⋯ | 64.106003 | 64.106003 | 46.630001 | 44.522018 | 112.389999 | 107.653435 | 1294.78752 | 5000000.00 | 314.289101 | 112.769997 |\n",
       "| 2 | 2018-01-03 | 158.490005 | 139.475113 | 86.349998 | 82.983727 | 1082.47998 | 1082.47998 | 1204.19995 | 1204.19995 | 43.057499 | ⋯ | 63.450001 | 63.450001 | 47.709999 | 45.553192 | 113.309998 | 108.534660 | 1294.78752 | 5077927.50 | 318.876743 | 112.244003 |\n",
       "| 3 | 2018-01-04 | 161.699997 | 142.299957 | 87.110001 | 83.714119 | 1086.40002 | 1086.40002 | 1209.58997 | 1209.58997 | 43.257500 | ⋯ | 62.924000 | 62.924000 | 48.180000 | 46.001949 | 115.050003 | 110.201332 | 1294.78752 | 5113912.49 | 320.417150 | 112.607002 |\n",
       "| 4 | 2018-01-05 | 162.490005 | 142.995193 | 88.190002 | 84.752014 | 1102.22998 | 1102.22998 | 1229.14001 | 1229.14001 | 43.750000 | ⋯ | 63.316002 | 63.316002 | 48.470001 | 46.278843 | 116.330002 | 111.427383 | 1294.78752 | 5176778.40 | 325.075602 | 112.782997 |\n",
       "| 5 | 2018-01-08 | 163.470001 | 143.857620 | 88.279999 | 84.838486 | 1106.93994 | 1106.93994 | 1246.87000 | 1246.87000 | 43.587502 | ⋯ | 67.281998 | 67.281998 | 48.980000 | 46.765781 | 114.800003 | 109.961861 | 1294.78752 | 5211388.74 | 328.053944 | 113.153999 |\n",
       "| 6 | 2018-01-09 | 163.830002 | 144.174408 | 88.220001 | 84.780838 | 1106.26001 | 1106.26001 | 1252.69995 | 1252.69995 | 43.582500 | ⋯ | 66.737999 | 66.737999 | 49.060001 | 47.024582 | 114.160004 | 109.348839 | 1261.97909 | 5216324.31 | 328.173046 | 113.140999 |\n",
       "\n"
      ],
      "text/plain": [
       "  Date       IBM_Close  IBM_Adj.Close MSFT_Close MSFT_Adj.Close GOOG_Close\n",
       "1 2018-01-02 154.250000 135.743759    85.949997  82.599319      1065.00000\n",
       "2 2018-01-03 158.490005 139.475113    86.349998  82.983727      1082.47998\n",
       "3 2018-01-04 161.699997 142.299957    87.110001  83.714119      1086.40002\n",
       "4 2018-01-05 162.490005 142.995193    88.190002  84.752014      1102.22998\n",
       "5 2018-01-08 163.470001 143.857620    88.279999  84.838486      1106.93994\n",
       "6 2018-01-09 163.830002 144.174408    88.220001  84.780838      1106.26001\n",
       "  GOOG_Adj.Close AMZN_Close AMZN_Adj.Close AAPL_Close ⋯ TSLA_Close\n",
       "1 1065.00000     1189.01001 1189.01001     43.064999  ⋯ 64.106003 \n",
       "2 1082.47998     1204.19995 1204.19995     43.057499  ⋯ 63.450001 \n",
       "3 1086.40002     1209.58997 1209.58997     43.257500  ⋯ 62.924000 \n",
       "4 1102.22998     1229.14001 1229.14001     43.750000  ⋯ 63.316002 \n",
       "5 1106.93994     1246.87000 1246.87000     43.587502  ⋯ 67.281998 \n",
       "6 1106.26001     1252.69995 1252.69995     43.582500  ⋯ 66.737999 \n",
       "  TSLA_Adj.Close ORCL_Close ORCL_Adj.Close SAP_Close  SAP_Adj.Close\n",
       "1 64.106003      46.630001  44.522018      112.389999 107.653435   \n",
       "2 63.450001      47.709999  45.553192      113.309998 108.534660   \n",
       "3 62.924000      48.180000  46.001949      115.050003 110.201332   \n",
       "4 63.316002      48.470001  46.278843      116.330002 111.427383   \n",
       "5 67.281998      48.980000  46.765781      114.800003 109.961861   \n",
       "6 66.737999      49.060001  47.024582      114.160004 109.348839   \n",
       "  Remaining_Cash MTM        HTI        JPY_Close \n",
       "1 1294.78752     5000000.00 314.289101 112.769997\n",
       "2 1294.78752     5077927.50 318.876743 112.244003\n",
       "3 1294.78752     5113912.49 320.417150 112.607002\n",
       "4 1294.78752     5176778.40 325.075602 112.782997\n",
       "5 1294.78752     5211388.74 328.053944 113.153999\n",
       "6 1261.97909     5216324.31 328.173046 113.140999"
      ]
     },
     "metadata": {},
     "output_type": "display_data"
    }
   ],
   "source": [
    "newstocks_data = merge(stocks_data, jpy_close, by = 'Date')\n",
    "head(newstocks_data)"
   ]
  },
  {
   "cell_type": "markdown",
   "metadata": {},
   "source": [
    "## We added a new columns which changes the MTM from USD to JPY according to the coversion rate for that particular date."
   ]
  },
  {
   "cell_type": "code",
   "execution_count": 23,
   "metadata": {},
   "outputs": [
    {
     "data": {
      "text/html": [
       "<table>\n",
       "<caption>A data.frame: 6 × 26</caption>\n",
       "<thead>\n",
       "\t<tr><th></th><th scope=col>Date</th><th scope=col>IBM_Close</th><th scope=col>IBM_Adj.Close</th><th scope=col>MSFT_Close</th><th scope=col>MSFT_Adj.Close</th><th scope=col>GOOG_Close</th><th scope=col>GOOG_Adj.Close</th><th scope=col>AMZN_Close</th><th scope=col>AMZN_Adj.Close</th><th scope=col>AAPL_Close</th><th scope=col>⋯</th><th scope=col>TSLA_Adj.Close</th><th scope=col>ORCL_Close</th><th scope=col>ORCL_Adj.Close</th><th scope=col>SAP_Close</th><th scope=col>SAP_Adj.Close</th><th scope=col>Remaining_Cash</th><th scope=col>MTM</th><th scope=col>HTI</th><th scope=col>JPY_Close</th><th scope=col>MTM_JPY</th></tr>\n",
       "\t<tr><th></th><th scope=col>&lt;date&gt;</th><th scope=col>&lt;dbl&gt;</th><th scope=col>&lt;dbl&gt;</th><th scope=col>&lt;dbl&gt;</th><th scope=col>&lt;dbl&gt;</th><th scope=col>&lt;dbl&gt;</th><th scope=col>&lt;dbl&gt;</th><th scope=col>&lt;dbl&gt;</th><th scope=col>&lt;dbl&gt;</th><th scope=col>&lt;dbl&gt;</th><th scope=col>⋯</th><th scope=col>&lt;dbl&gt;</th><th scope=col>&lt;dbl&gt;</th><th scope=col>&lt;dbl&gt;</th><th scope=col>&lt;dbl&gt;</th><th scope=col>&lt;dbl&gt;</th><th scope=col>&lt;dbl&gt;</th><th scope=col>&lt;dbl&gt;</th><th scope=col>&lt;dbl&gt;</th><th scope=col>&lt;dbl&gt;</th><th scope=col>&lt;dbl&gt;</th></tr>\n",
       "</thead>\n",
       "<tbody>\n",
       "\t<tr><th scope=row>1</th><td>2018-01-02</td><td>154.250000</td><td>135.743759</td><td>85.949997</td><td>82.599319</td><td>1065.00000</td><td>1065.00000</td><td>1189.01001</td><td>1189.01001</td><td>43.064999</td><td>⋯</td><td>64.106003</td><td>46.630001</td><td>44.522018</td><td>112.389999</td><td>107.653435</td><td>1294.78752</td><td>5000000.00</td><td>314.289101</td><td>112.769997</td><td>563849985</td></tr>\n",
       "\t<tr><th scope=row>2</th><td>2018-01-03</td><td>158.490005</td><td>139.475113</td><td>86.349998</td><td>82.983727</td><td>1082.47998</td><td>1082.47998</td><td>1204.19995</td><td>1204.19995</td><td>43.057499</td><td>⋯</td><td>63.450001</td><td>47.709999</td><td>45.553192</td><td>113.309998</td><td>108.534660</td><td>1294.78752</td><td>5077927.50</td><td>318.876743</td><td>112.244003</td><td>569966909</td></tr>\n",
       "\t<tr><th scope=row>3</th><td>2018-01-04</td><td>161.699997</td><td>142.299957</td><td>87.110001</td><td>83.714119</td><td>1086.40002</td><td>1086.40002</td><td>1209.58997</td><td>1209.58997</td><td>43.257500</td><td>⋯</td><td>62.924000</td><td>48.180000</td><td>46.001949</td><td>115.050003</td><td>110.201332</td><td>1294.78752</td><td>5113912.49</td><td>320.417150</td><td>112.607002</td><td>575862354</td></tr>\n",
       "\t<tr><th scope=row>4</th><td>2018-01-05</td><td>162.490005</td><td>142.995193</td><td>88.190002</td><td>84.752014</td><td>1102.22998</td><td>1102.22998</td><td>1229.14001</td><td>1229.14001</td><td>43.750000</td><td>⋯</td><td>63.316002</td><td>48.470001</td><td>46.278843</td><td>116.330002</td><td>111.427383</td><td>1294.78752</td><td>5176778.40</td><td>325.075602</td><td>112.782997</td><td>583852583</td></tr>\n",
       "\t<tr><th scope=row>5</th><td>2018-01-08</td><td>163.470001</td><td>143.857620</td><td>88.279999</td><td>84.838486</td><td>1106.93994</td><td>1106.93994</td><td>1246.87000</td><td>1246.87000</td><td>43.587502</td><td>⋯</td><td>67.281998</td><td>48.980000</td><td>46.765781</td><td>114.800003</td><td>109.961861</td><td>1294.78752</td><td>5211388.74</td><td>328.053944</td><td>113.153999</td><td>589689476</td></tr>\n",
       "\t<tr><th scope=row>6</th><td>2018-01-09</td><td>163.830002</td><td>144.174408</td><td>88.220001</td><td>84.780838</td><td>1106.26001</td><td>1106.26001</td><td>1252.69995</td><td>1252.69995</td><td>43.582500</td><td>⋯</td><td>66.737999</td><td>49.060001</td><td>47.024582</td><td>114.160004</td><td>109.348839</td><td>1261.97909</td><td>5216324.31</td><td>328.173046</td><td>113.140999</td><td>590180144</td></tr>\n",
       "</tbody>\n",
       "</table>\n"
      ],
      "text/latex": [
       "A data.frame: 6 × 26\n",
       "\\begin{tabular}{r|lllllllllllllllllllll}\n",
       "  & Date & IBM\\_Close & IBM\\_Adj.Close & MSFT\\_Close & MSFT\\_Adj.Close & GOOG\\_Close & GOOG\\_Adj.Close & AMZN\\_Close & AMZN\\_Adj.Close & AAPL\\_Close & ⋯ & TSLA\\_Adj.Close & ORCL\\_Close & ORCL\\_Adj.Close & SAP\\_Close & SAP\\_Adj.Close & Remaining\\_Cash & MTM & HTI & JPY\\_Close & MTM\\_JPY\\\\\n",
       "  & <date> & <dbl> & <dbl> & <dbl> & <dbl> & <dbl> & <dbl> & <dbl> & <dbl> & <dbl> & ⋯ & <dbl> & <dbl> & <dbl> & <dbl> & <dbl> & <dbl> & <dbl> & <dbl> & <dbl> & <dbl>\\\\\n",
       "\\hline\n",
       "\t1 & 2018-01-02 & 154.250000 & 135.743759 & 85.949997 & 82.599319 & 1065.00000 & 1065.00000 & 1189.01001 & 1189.01001 & 43.064999 & ⋯ & 64.106003 & 46.630001 & 44.522018 & 112.389999 & 107.653435 & 1294.78752 & 5000000.00 & 314.289101 & 112.769997 & 563849985\\\\\n",
       "\t2 & 2018-01-03 & 158.490005 & 139.475113 & 86.349998 & 82.983727 & 1082.47998 & 1082.47998 & 1204.19995 & 1204.19995 & 43.057499 & ⋯ & 63.450001 & 47.709999 & 45.553192 & 113.309998 & 108.534660 & 1294.78752 & 5077927.50 & 318.876743 & 112.244003 & 569966909\\\\\n",
       "\t3 & 2018-01-04 & 161.699997 & 142.299957 & 87.110001 & 83.714119 & 1086.40002 & 1086.40002 & 1209.58997 & 1209.58997 & 43.257500 & ⋯ & 62.924000 & 48.180000 & 46.001949 & 115.050003 & 110.201332 & 1294.78752 & 5113912.49 & 320.417150 & 112.607002 & 575862354\\\\\n",
       "\t4 & 2018-01-05 & 162.490005 & 142.995193 & 88.190002 & 84.752014 & 1102.22998 & 1102.22998 & 1229.14001 & 1229.14001 & 43.750000 & ⋯ & 63.316002 & 48.470001 & 46.278843 & 116.330002 & 111.427383 & 1294.78752 & 5176778.40 & 325.075602 & 112.782997 & 583852583\\\\\n",
       "\t5 & 2018-01-08 & 163.470001 & 143.857620 & 88.279999 & 84.838486 & 1106.93994 & 1106.93994 & 1246.87000 & 1246.87000 & 43.587502 & ⋯ & 67.281998 & 48.980000 & 46.765781 & 114.800003 & 109.961861 & 1294.78752 & 5211388.74 & 328.053944 & 113.153999 & 589689476\\\\\n",
       "\t6 & 2018-01-09 & 163.830002 & 144.174408 & 88.220001 & 84.780838 & 1106.26001 & 1106.26001 & 1252.69995 & 1252.69995 & 43.582500 & ⋯ & 66.737999 & 49.060001 & 47.024582 & 114.160004 & 109.348839 & 1261.97909 & 5216324.31 & 328.173046 & 113.140999 & 590180144\\\\\n",
       "\\end{tabular}\n"
      ],
      "text/markdown": [
       "\n",
       "A data.frame: 6 × 26\n",
       "\n",
       "| <!--/--> | Date &lt;date&gt; | IBM_Close &lt;dbl&gt; | IBM_Adj.Close &lt;dbl&gt; | MSFT_Close &lt;dbl&gt; | MSFT_Adj.Close &lt;dbl&gt; | GOOG_Close &lt;dbl&gt; | GOOG_Adj.Close &lt;dbl&gt; | AMZN_Close &lt;dbl&gt; | AMZN_Adj.Close &lt;dbl&gt; | AAPL_Close &lt;dbl&gt; | ⋯ ⋯ | TSLA_Adj.Close &lt;dbl&gt; | ORCL_Close &lt;dbl&gt; | ORCL_Adj.Close &lt;dbl&gt; | SAP_Close &lt;dbl&gt; | SAP_Adj.Close &lt;dbl&gt; | Remaining_Cash &lt;dbl&gt; | MTM &lt;dbl&gt; | HTI &lt;dbl&gt; | JPY_Close &lt;dbl&gt; | MTM_JPY &lt;dbl&gt; |\n",
       "|---|---|---|---|---|---|---|---|---|---|---|---|---|---|---|---|---|---|---|---|---|---|\n",
       "| 1 | 2018-01-02 | 154.250000 | 135.743759 | 85.949997 | 82.599319 | 1065.00000 | 1065.00000 | 1189.01001 | 1189.01001 | 43.064999 | ⋯ | 64.106003 | 46.630001 | 44.522018 | 112.389999 | 107.653435 | 1294.78752 | 5000000.00 | 314.289101 | 112.769997 | 563849985 |\n",
       "| 2 | 2018-01-03 | 158.490005 | 139.475113 | 86.349998 | 82.983727 | 1082.47998 | 1082.47998 | 1204.19995 | 1204.19995 | 43.057499 | ⋯ | 63.450001 | 47.709999 | 45.553192 | 113.309998 | 108.534660 | 1294.78752 | 5077927.50 | 318.876743 | 112.244003 | 569966909 |\n",
       "| 3 | 2018-01-04 | 161.699997 | 142.299957 | 87.110001 | 83.714119 | 1086.40002 | 1086.40002 | 1209.58997 | 1209.58997 | 43.257500 | ⋯ | 62.924000 | 48.180000 | 46.001949 | 115.050003 | 110.201332 | 1294.78752 | 5113912.49 | 320.417150 | 112.607002 | 575862354 |\n",
       "| 4 | 2018-01-05 | 162.490005 | 142.995193 | 88.190002 | 84.752014 | 1102.22998 | 1102.22998 | 1229.14001 | 1229.14001 | 43.750000 | ⋯ | 63.316002 | 48.470001 | 46.278843 | 116.330002 | 111.427383 | 1294.78752 | 5176778.40 | 325.075602 | 112.782997 | 583852583 |\n",
       "| 5 | 2018-01-08 | 163.470001 | 143.857620 | 88.279999 | 84.838486 | 1106.93994 | 1106.93994 | 1246.87000 | 1246.87000 | 43.587502 | ⋯ | 67.281998 | 48.980000 | 46.765781 | 114.800003 | 109.961861 | 1294.78752 | 5211388.74 | 328.053944 | 113.153999 | 589689476 |\n",
       "| 6 | 2018-01-09 | 163.830002 | 144.174408 | 88.220001 | 84.780838 | 1106.26001 | 1106.26001 | 1252.69995 | 1252.69995 | 43.582500 | ⋯ | 66.737999 | 49.060001 | 47.024582 | 114.160004 | 109.348839 | 1261.97909 | 5216324.31 | 328.173046 | 113.140999 | 590180144 |\n",
       "\n"
      ],
      "text/plain": [
       "  Date       IBM_Close  IBM_Adj.Close MSFT_Close MSFT_Adj.Close GOOG_Close\n",
       "1 2018-01-02 154.250000 135.743759    85.949997  82.599319      1065.00000\n",
       "2 2018-01-03 158.490005 139.475113    86.349998  82.983727      1082.47998\n",
       "3 2018-01-04 161.699997 142.299957    87.110001  83.714119      1086.40002\n",
       "4 2018-01-05 162.490005 142.995193    88.190002  84.752014      1102.22998\n",
       "5 2018-01-08 163.470001 143.857620    88.279999  84.838486      1106.93994\n",
       "6 2018-01-09 163.830002 144.174408    88.220001  84.780838      1106.26001\n",
       "  GOOG_Adj.Close AMZN_Close AMZN_Adj.Close AAPL_Close ⋯ TSLA_Adj.Close\n",
       "1 1065.00000     1189.01001 1189.01001     43.064999  ⋯ 64.106003     \n",
       "2 1082.47998     1204.19995 1204.19995     43.057499  ⋯ 63.450001     \n",
       "3 1086.40002     1209.58997 1209.58997     43.257500  ⋯ 62.924000     \n",
       "4 1102.22998     1229.14001 1229.14001     43.750000  ⋯ 63.316002     \n",
       "5 1106.93994     1246.87000 1246.87000     43.587502  ⋯ 67.281998     \n",
       "6 1106.26001     1252.69995 1252.69995     43.582500  ⋯ 66.737999     \n",
       "  ORCL_Close ORCL_Adj.Close SAP_Close  SAP_Adj.Close Remaining_Cash MTM       \n",
       "1 46.630001  44.522018      112.389999 107.653435    1294.78752     5000000.00\n",
       "2 47.709999  45.553192      113.309998 108.534660    1294.78752     5077927.50\n",
       "3 48.180000  46.001949      115.050003 110.201332    1294.78752     5113912.49\n",
       "4 48.470001  46.278843      116.330002 111.427383    1294.78752     5176778.40\n",
       "5 48.980000  46.765781      114.800003 109.961861    1294.78752     5211388.74\n",
       "6 49.060001  47.024582      114.160004 109.348839    1261.97909     5216324.31\n",
       "  HTI        JPY_Close  MTM_JPY  \n",
       "1 314.289101 112.769997 563849985\n",
       "2 318.876743 112.244003 569966909\n",
       "3 320.417150 112.607002 575862354\n",
       "4 325.075602 112.782997 583852583\n",
       "5 328.053944 113.153999 589689476\n",
       "6 328.173046 113.140999 590180144"
      ]
     },
     "metadata": {},
     "output_type": "display_data"
    }
   ],
   "source": [
    "newstocks_data$MTM_JPY = newstocks_data$MTM * newstocks_data$JPY_Close\n",
    "head(newstocks_data)"
   ]
  },
  {
   "cell_type": "code",
   "execution_count": 24,
   "metadata": {
    "scrolled": true
   },
   "outputs": [
    {
     "name": "stderr",
     "output_type": "stream",
     "text": [
      "Warning message:\n",
      "“Removed 446 row(s) containing missing values (geom_path).”\n"
     ]
    },
    {
     "data": {
      "image/png": "[encoded data removed]",
      "text/plain": [
       "plot without title"
      ]
     },
     "metadata": {
      "image/png": {
       "height": 420,
       "width": 420
      }
     },
     "output_type": "display_data"
    }
   ],
   "source": [
    "data.frame(Date=newstocks_data$Date, \n",
    "#          HTIchange= transmute(stocks_data, HTIchange=((HTI-lag(HTI))/lag(HTI))*100), \n",
    "        MTMchange = transmute(newstocks_data, MTMchange=((MTM-lag(MTM))/lag(MTM))*100),\n",
    "        MTMchange_JPY = transmute(newstocks_data, MTMchange_JPY=((MTM_JPY-lag(MTM_JPY))/lag(MTM_JPY))*100))%>%\n",
    "reshape2::melt(id.vars=\"Date\") %>%\n",
    "ggplot(aes(x=Date, y=value, group=variable, color=variable)) + geom_line(size=1) +\n",
    " scale_x_date(limit=c(as.Date(\"2018-01-01\"),as.Date(\"2018-02-11\")))"
   ]
  },
  {
   "cell_type": "markdown",
   "metadata": {},
   "source": [
    "## The above graph is for the comparison for USD and JPY MTM change from January to February"
   ]
  },
  {
   "cell_type": "markdown",
   "metadata": {},
   "source": [
    "## 9. Trying Differnet intervals\n"
   ]
  },
  {
   "cell_type": "markdown",
   "metadata": {},
   "source": [
    "#### MTM for different intervals / Strategy-1\n",
    "##### Rebalancing every 2 days"
   ]
  },
  {
   "cell_type": "code",
   "execution_count": 26,
   "metadata": {
    "scrolled": true
   },
   "outputs": [
    {
     "data": {
      "text/html": [
       "<style>\n",
       ".dl-inline {width: auto; margin:0; padding: 0}\n",
       ".dl-inline>dt, .dl-inline>dd {float: none; width: auto; display: inline-block}\n",
       ".dl-inline>dt::after {content: \":\\0020\"; padding-right: .5ex}\n",
       ".dl-inline>dt:not(:first-of-type) {padding-left: .5ex}\n",
       "</style><dl class=dl-inline><dt>1</dt><dd>'stocks_split_2'</dd><dt>MTM</dt><dd>'5381844.33602'</dd></dl>\n"
      ],
      "text/latex": [
       "\\begin{description*}\n",
       "\\item[1] 'stocks\\_split\\_2'\n",
       "\\item[MTM] '5381844.33602'\n",
       "\\end{description*}\n"
      ],
      "text/markdown": [
       "1\n",
       ":   'stocks_split_2'MTM\n",
       ":   '5381844.33602'\n",
       "\n"
      ],
      "text/plain": [
       "                              MTM \n",
       "\"stocks_split_2\"  \"5381844.33602\" "
      ]
     },
     "metadata": {},
     "output_type": "display_data"
    },
    {
     "data": {
      "text/html": [
       "<table>\n",
       "<caption>A data.frame: 6 × 24</caption>\n",
       "<thead>\n",
       "\t<tr><th></th><th scope=col>Date</th><th scope=col>IBM_Close</th><th scope=col>IBM_Adj.Close</th><th scope=col>MSFT_Close</th><th scope=col>MSFT_Adj.Close</th><th scope=col>GOOG_Close</th><th scope=col>GOOG_Adj.Close</th><th scope=col>AMZN_Close</th><th scope=col>AMZN_Adj.Close</th><th scope=col>AAPL_Close</th><th scope=col>⋯</th><th scope=col>NFLX_Adj.Close</th><th scope=col>TSLA_Close</th><th scope=col>TSLA_Adj.Close</th><th scope=col>ORCL_Close</th><th scope=col>ORCL_Adj.Close</th><th scope=col>SAP_Close</th><th scope=col>SAP_Adj.Close</th><th scope=col>Remaining_Cash</th><th scope=col>MTM</th><th scope=col>HTI</th></tr>\n",
       "\t<tr><th></th><th scope=col>&lt;date&gt;</th><th scope=col>&lt;dbl&gt;</th><th scope=col>&lt;dbl&gt;</th><th scope=col>&lt;dbl&gt;</th><th scope=col>&lt;dbl&gt;</th><th scope=col>&lt;dbl&gt;</th><th scope=col>&lt;dbl&gt;</th><th scope=col>&lt;dbl&gt;</th><th scope=col>&lt;dbl&gt;</th><th scope=col>&lt;dbl&gt;</th><th scope=col>⋯</th><th scope=col>&lt;dbl&gt;</th><th scope=col>&lt;dbl&gt;</th><th scope=col>&lt;dbl&gt;</th><th scope=col>&lt;dbl&gt;</th><th scope=col>&lt;dbl&gt;</th><th scope=col>&lt;dbl&gt;</th><th scope=col>&lt;dbl&gt;</th><th scope=col>&lt;dbl&gt;</th><th scope=col>&lt;dbl&gt;</th><th scope=col>&lt;dbl&gt;</th></tr>\n",
       "</thead>\n",
       "<tbody>\n",
       "\t<tr><th scope=row>245</th><td>2018-12-20</td><td>113.019997</td><td>103.959160</td><td>101.510002</td><td>99.241501</td><td>1009.409973</td><td>1009.409973</td><td>1460.82996</td><td>1460.82996</td><td>39.207500</td><td>⋯</td><td>260.579987</td><td>63.076000</td><td>63.076000</td><td>46.240002</td><td>44.859539</td><td>100.099998</td><td>97.349060</td><td>1011.849494</td><td>5363875.47</td><td>332.737341</td></tr>\n",
       "\t<tr><th scope=row>246</th><td>2018-12-21</td><td>110.940002</td><td>102.045921</td><td> 98.230003</td><td>96.034790</td><td> 979.539978</td><td> 979.539978</td><td>1377.44995</td><td>1377.44995</td><td>37.682499</td><td>⋯</td><td>246.389999</td><td>63.953999</td><td>63.953999</td><td>44.000000</td><td>42.686417</td><td> 96.139999</td><td>93.497887</td><td>1011.849494</td><td>5159289.17</td><td>317.927643</td></tr>\n",
       "\t<tr><th scope=row>247</th><td>2018-12-24</td><td>107.570000</td><td> 98.946083</td><td> 94.129997</td><td>92.026421</td><td> 976.219971</td><td> 976.219971</td><td>1343.95996</td><td>1343.95996</td><td>36.707500</td><td>⋯</td><td>233.880005</td><td>59.077999</td><td>59.077999</td><td>42.689999</td><td>41.415524</td><td> 95.000000</td><td>92.389214</td><td> 642.534148</td><td>5078739.68</td><td>311.329543</td></tr>\n",
       "\t<tr><th scope=row>248</th><td>2018-12-26</td><td>111.389999</td><td>102.459846</td><td>100.559998</td><td>98.312729</td><td>1039.459961</td><td>1039.459961</td><td>1470.90002</td><td>1470.90002</td><td>39.292500</td><td>⋯</td><td>253.669998</td><td>65.218002</td><td>65.218002</td><td>44.590000</td><td>43.258801</td><td> 98.379997</td><td>95.676323</td><td> 642.534148</td><td>5370456.03</td><td>335.764047</td></tr>\n",
       "\t<tr><th scope=row>249</th><td>2018-12-27</td><td>113.779999</td><td>104.658234</td><td>101.180000</td><td>98.918884</td><td>1043.880005</td><td>1043.880005</td><td>1461.64001</td><td>1461.64001</td><td>39.037498</td><td>⋯</td><td>255.570007</td><td>63.226002</td><td>63.226002</td><td>44.970001</td><td>43.627453</td><td> 98.989998</td><td>96.269554</td><td> 191.718944</td><td>5400511.43</td><td>335.679353</td></tr>\n",
       "\t<tr><th scope=row>250</th><td>2018-12-28</td><td>113.029999</td><td>103.968369</td><td>100.389999</td><td>98.146530</td><td>1037.079956</td><td>1037.079956</td><td>1478.02002</td><td>1478.02002</td><td>39.057499</td><td>⋯</td><td>256.079987</td><td>66.774002</td><td>66.774002</td><td>44.820000</td><td>43.481926</td><td> 99.199997</td><td>96.473785</td><td> 191.718944</td><td>5381844.34</td><td>336.765146</td></tr>\n",
       "</tbody>\n",
       "</table>\n"
      ],
      "text/latex": [
       "A data.frame: 6 × 24\n",
       "\\begin{tabular}{r|lllllllllllllllllllll}\n",
       "  & Date & IBM\\_Close & IBM\\_Adj.Close & MSFT\\_Close & MSFT\\_Adj.Close & GOOG\\_Close & GOOG\\_Adj.Close & AMZN\\_Close & AMZN\\_Adj.Close & AAPL\\_Close & ⋯ & NFLX\\_Adj.Close & TSLA\\_Close & TSLA\\_Adj.Close & ORCL\\_Close & ORCL\\_Adj.Close & SAP\\_Close & SAP\\_Adj.Close & Remaining\\_Cash & MTM & HTI\\\\\n",
       "  & <date> & <dbl> & <dbl> & <dbl> & <dbl> & <dbl> & <dbl> & <dbl> & <dbl> & <dbl> & ⋯ & <dbl> & <dbl> & <dbl> & <dbl> & <dbl> & <dbl> & <dbl> & <dbl> & <dbl> & <dbl>\\\\\n",
       "\\hline\n",
       "\t245 & 2018-12-20 & 113.019997 & 103.959160 & 101.510002 & 99.241501 & 1009.409973 & 1009.409973 & 1460.82996 & 1460.82996 & 39.207500 & ⋯ & 260.579987 & 63.076000 & 63.076000 & 46.240002 & 44.859539 & 100.099998 & 97.349060 & 1011.849494 & 5363875.47 & 332.737341\\\\\n",
       "\t246 & 2018-12-21 & 110.940002 & 102.045921 &  98.230003 & 96.034790 &  979.539978 &  979.539978 & 1377.44995 & 1377.44995 & 37.682499 & ⋯ & 246.389999 & 63.953999 & 63.953999 & 44.000000 & 42.686417 &  96.139999 & 93.497887 & 1011.849494 & 5159289.17 & 317.927643\\\\\n",
       "\t247 & 2018-12-24 & 107.570000 &  98.946083 &  94.129997 & 92.026421 &  976.219971 &  976.219971 & 1343.95996 & 1343.95996 & 36.707500 & ⋯ & 233.880005 & 59.077999 & 59.077999 & 42.689999 & 41.415524 &  95.000000 & 92.389214 &  642.534148 & 5078739.68 & 311.329543\\\\\n",
       "\t248 & 2018-12-26 & 111.389999 & 102.459846 & 100.559998 & 98.312729 & 1039.459961 & 1039.459961 & 1470.90002 & 1470.90002 & 39.292500 & ⋯ & 253.669998 & 65.218002 & 65.218002 & 44.590000 & 43.258801 &  98.379997 & 95.676323 &  642.534148 & 5370456.03 & 335.764047\\\\\n",
       "\t249 & 2018-12-27 & 113.779999 & 104.658234 & 101.180000 & 98.918884 & 1043.880005 & 1043.880005 & 1461.64001 & 1461.64001 & 39.037498 & ⋯ & 255.570007 & 63.226002 & 63.226002 & 44.970001 & 43.627453 &  98.989998 & 96.269554 &  191.718944 & 5400511.43 & 335.679353\\\\\n",
       "\t250 & 2018-12-28 & 113.029999 & 103.968369 & 100.389999 & 98.146530 & 1037.079956 & 1037.079956 & 1478.02002 & 1478.02002 & 39.057499 & ⋯ & 256.079987 & 66.774002 & 66.774002 & 44.820000 & 43.481926 &  99.199997 & 96.473785 &  191.718944 & 5381844.34 & 336.765146\\\\\n",
       "\\end{tabular}\n"
      ],
      "text/markdown": [
       "\n",
       "A data.frame: 6 × 24\n",
       "\n",
       "| <!--/--> | Date &lt;date&gt; | IBM_Close &lt;dbl&gt; | IBM_Adj.Close &lt;dbl&gt; | MSFT_Close &lt;dbl&gt; | MSFT_Adj.Close &lt;dbl&gt; | GOOG_Close &lt;dbl&gt; | GOOG_Adj.Close &lt;dbl&gt; | AMZN_Close &lt;dbl&gt; | AMZN_Adj.Close &lt;dbl&gt; | AAPL_Close &lt;dbl&gt; | ⋯ ⋯ | NFLX_Adj.Close &lt;dbl&gt; | TSLA_Close &lt;dbl&gt; | TSLA_Adj.Close &lt;dbl&gt; | ORCL_Close &lt;dbl&gt; | ORCL_Adj.Close &lt;dbl&gt; | SAP_Close &lt;dbl&gt; | SAP_Adj.Close &lt;dbl&gt; | Remaining_Cash &lt;dbl&gt; | MTM &lt;dbl&gt; | HTI &lt;dbl&gt; |\n",
       "|---|---|---|---|---|---|---|---|---|---|---|---|---|---|---|---|---|---|---|---|---|---|\n",
       "| 245 | 2018-12-20 | 113.019997 | 103.959160 | 101.510002 | 99.241501 | 1009.409973 | 1009.409973 | 1460.82996 | 1460.82996 | 39.207500 | ⋯ | 260.579987 | 63.076000 | 63.076000 | 46.240002 | 44.859539 | 100.099998 | 97.349060 | 1011.849494 | 5363875.47 | 332.737341 |\n",
       "| 246 | 2018-12-21 | 110.940002 | 102.045921 |  98.230003 | 96.034790 |  979.539978 |  979.539978 | 1377.44995 | 1377.44995 | 37.682499 | ⋯ | 246.389999 | 63.953999 | 63.953999 | 44.000000 | 42.686417 |  96.139999 | 93.497887 | 1011.849494 | 5159289.17 | 317.927643 |\n",
       "| 247 | 2018-12-24 | 107.570000 |  98.946083 |  94.129997 | 92.026421 |  976.219971 |  976.219971 | 1343.95996 | 1343.95996 | 36.707500 | ⋯ | 233.880005 | 59.077999 | 59.077999 | 42.689999 | 41.415524 |  95.000000 | 92.389214 |  642.534148 | 5078739.68 | 311.329543 |\n",
       "| 248 | 2018-12-26 | 111.389999 | 102.459846 | 100.559998 | 98.312729 | 1039.459961 | 1039.459961 | 1470.90002 | 1470.90002 | 39.292500 | ⋯ | 253.669998 | 65.218002 | 65.218002 | 44.590000 | 43.258801 |  98.379997 | 95.676323 |  642.534148 | 5370456.03 | 335.764047 |\n",
       "| 249 | 2018-12-27 | 113.779999 | 104.658234 | 101.180000 | 98.918884 | 1043.880005 | 1043.880005 | 1461.64001 | 1461.64001 | 39.037498 | ⋯ | 255.570007 | 63.226002 | 63.226002 | 44.970001 | 43.627453 |  98.989998 | 96.269554 |  191.718944 | 5400511.43 | 335.679353 |\n",
       "| 250 | 2018-12-28 | 113.029999 | 103.968369 | 100.389999 | 98.146530 | 1037.079956 | 1037.079956 | 1478.02002 | 1478.02002 | 39.057499 | ⋯ | 256.079987 | 66.774002 | 66.774002 | 44.820000 | 43.481926 |  99.199997 | 96.473785 |  191.718944 | 5381844.34 | 336.765146 |\n",
       "\n"
      ],
      "text/plain": [
       "    Date       IBM_Close  IBM_Adj.Close MSFT_Close MSFT_Adj.Close GOOG_Close \n",
       "245 2018-12-20 113.019997 103.959160    101.510002 99.241501      1009.409973\n",
       "246 2018-12-21 110.940002 102.045921     98.230003 96.034790       979.539978\n",
       "247 2018-12-24 107.570000  98.946083     94.129997 92.026421       976.219971\n",
       "248 2018-12-26 111.389999 102.459846    100.559998 98.312729      1039.459961\n",
       "249 2018-12-27 113.779999 104.658234    101.180000 98.918884      1043.880005\n",
       "250 2018-12-28 113.029999 103.968369    100.389999 98.146530      1037.079956\n",
       "    GOOG_Adj.Close AMZN_Close AMZN_Adj.Close AAPL_Close ⋯ NFLX_Adj.Close\n",
       "245 1009.409973    1460.82996 1460.82996     39.207500  ⋯ 260.579987    \n",
       "246  979.539978    1377.44995 1377.44995     37.682499  ⋯ 246.389999    \n",
       "247  976.219971    1343.95996 1343.95996     36.707500  ⋯ 233.880005    \n",
       "248 1039.459961    1470.90002 1470.90002     39.292500  ⋯ 253.669998    \n",
       "249 1043.880005    1461.64001 1461.64001     39.037498  ⋯ 255.570007    \n",
       "250 1037.079956    1478.02002 1478.02002     39.057499  ⋯ 256.079987    \n",
       "    TSLA_Close TSLA_Adj.Close ORCL_Close ORCL_Adj.Close SAP_Close \n",
       "245 63.076000  63.076000      46.240002  44.859539      100.099998\n",
       "246 63.953999  63.953999      44.000000  42.686417       96.139999\n",
       "247 59.077999  59.077999      42.689999  41.415524       95.000000\n",
       "248 65.218002  65.218002      44.590000  43.258801       98.379997\n",
       "249 63.226002  63.226002      44.970001  43.627453       98.989998\n",
       "250 66.774002  66.774002      44.820000  43.481926       99.199997\n",
       "    SAP_Adj.Close Remaining_Cash MTM        HTI       \n",
       "245 97.349060     1011.849494    5363875.47 332.737341\n",
       "246 93.497887     1011.849494    5159289.17 317.927643\n",
       "247 92.389214      642.534148    5078739.68 311.329543\n",
       "248 95.676323      642.534148    5370456.03 335.764047\n",
       "249 96.269554      191.718944    5400511.43 335.679353\n",
       "250 96.473785      191.718944    5381844.34 336.765146"
      ]
     },
     "metadata": {},
     "output_type": "display_data"
    }
   ],
   "source": [
    "stocks_split_2 = stocks_data[seq(1,nrow(stocks_data),2),]\n",
    "\n",
    "\n",
    "options(digits=9)\n",
    "total_cash <- 5000000\n",
    "remaining_cash <- total_cash\n",
    "split <- total_cash/5\n",
    "MTM <- 0\n",
    "begin_date <- mdy('01/02/2018')\n",
    "start_date <- begin_date\n",
    "end_date <-  mdy('12/28/2018')\n",
    "all_stocks <- c('IBM_Adj.Close','MSFT_Adj.Close','GOOG_Adj.Close','AAPL_Adj.Close','AMZN_Adj.Close','FB_Adj.Close','NFLX_Adj.Close','TSLA_Adj.Close','ORCL_Adj.Close','SAP_Adj.Close')\n",
    "initial_stocks <- c('IBM_Close','MSFT_Close','GOOG_Close','AMZN_Close','FB_Close')\n",
    "shares_count <- list()\n",
    "\n",
    "# Main logic\n",
    "while(start_date <= end_date){\n",
    "    \n",
    "    # executes the first day\n",
    "    if(start_date == '2018-01-02'){\n",
    "          for(i in initial_stocks) {\n",
    "        a <- stocks_data[stocks_data$Date== start_date, initial_stocks]\n",
    "        b<- floor(split/a[i])\n",
    "        shares_count[i] <-  b[[i]] \n",
    "        remaining_cash <- remaining_cash - b*a[i]\n",
    "        MTM <- MTM + b*a[i]\n",
    "        }\n",
    "        colnames(remaining_cash) <- 'Remaining_Cash'\n",
    "        stocks_data[stocks_data$Date == start_date,'Remaining_Cash'] <- remaining_cash\n",
    "        colnames(MTM) <- 'MTM'\n",
    "        MTM <- MTM + remaining_cash\n",
    "        stocks_data[stocks_data$Date == start_date,'MTM'] <- MTM\n",
    "        \n",
    "}\n",
    "\n",
    "    \n",
    "    # This condition executes for every 5th day\n",
    "    else if(start_date %in% stocks_split_2$Date) {\n",
    "        MTM <- 0\n",
    "        for(i in initial_stocks) {\n",
    "        a <- stocks_data[stocks_data$Date== start_date, initial_stocks]\n",
    "        MTM <- MTM + shares_count[[i]]*a[i]\n",
    "        }\n",
    "        total_cash <- MTM + remaining_cash\n",
    "        remaining_cash <- total_cash\n",
    "        split <- total_cash / 5\n",
    "        colnames(total_cash) <- 'Total_Cash'\n",
    "        colnames(MTM) <- 'MTM'\n",
    "        calculated_stocks <- list()\n",
    "        for(i in all_stocks){\n",
    "           \n",
    "            x <- stocks_data[stocks_data$Date== start_date, all_stocks]\n",
    "            y <- stocks_data[stocks_data$Date== begin_date, all_stocks]\n",
    "            percent_change <- 100 * ((x[i] - y[i])/ y[i])\n",
    "            col <- paste0(i, \"_PC\")\n",
    "            calculated_stocks[col] <- percent_change\n",
    "            \n",
    "        }\n",
    "        calculated_stocks <- calculated_stocks[order(unlist(calculated_stocks))]\n",
    "        calculated_stocks <- head(calculated_stocks,5)\n",
    "        \n",
    "        # update initial stocks\n",
    "        initial_col_list <- names(calculated_stocks)\n",
    "        initial_col_list <- sub('_.*','',initial_col_list)\n",
    "        initial_col_list <- paste0(initial_col_list,'_Close')\n",
    "        initial_stocks <- initial_col_list\n",
    "        shares_count <- list()\n",
    "        b <- list()\n",
    "        MTM <- 0\n",
    "        for(i in initial_stocks) {\n",
    "        a <- stocks_data[stocks_data$Date== start_date, initial_stocks]\n",
    "        b<- floor(split[,1]/a[i])\n",
    "        shares_count[i] <-  b[[i]]\n",
    "        remaining_cash <- remaining_cash - b*a[i]\n",
    "        MTM <- MTM + b*a[i]\n",
    "        }\n",
    "        MTM <- MTM + remaining_cash\n",
    "        stocks_data[stocks_data$Date == start_date,'MTM'] <- MTM\n",
    "        stocks_data[stocks_data$Date == start_date,'Remaining_Cash'] <- remaining_cash\n",
    "        \n",
    "        \n",
    "    }\n",
    "        \n",
    "    # This logic executes every day except the 5th day and returns MTM\n",
    "    else {\n",
    "        MTM <- 0\n",
    "        for(i in initial_stocks) {\n",
    "        a <- stocks_data[stocks_data$Date== start_date, initial_stocks]\n",
    "        MTM <- MTM + shares_count[[i]]*a[i]\n",
    "        }\n",
    "        colnames(MTM) <- 'MTM'\n",
    "        stocks_data[stocks_data$Date == start_date,'Remaining_Cash'] <- remaining_cash\n",
    "        stocks_data[stocks_data$Date == start_date,'MTM'] <- MTM\n",
    "      \n",
    "    }\n",
    "start_date <- start_date+1\n",
    "}\n",
    "# tail(stocks_data,10)\n",
    "sr1_2 <- c('stocks_split_2',MTM = tail(stocks_data$MTM,1))\n",
    "sr1_2\n",
    "tail(stocks_data)"
   ]
  },
  {
   "cell_type": "markdown",
   "metadata": {},
   "source": [
    "#### MTM for different intervals / Strategy-1\n",
    "##### Rebalancing every 20 days"
   ]
  },
  {
   "cell_type": "code",
   "execution_count": 27,
   "metadata": {
    "scrolled": true
   },
   "outputs": [
    {
     "data": {
      "text/html": [
       "<style>\n",
       ".dl-inline {width: auto; margin:0; padding: 0}\n",
       ".dl-inline>dt, .dl-inline>dd {float: none; width: auto; display: inline-block}\n",
       ".dl-inline>dt::after {content: \":\\0020\"; padding-right: .5ex}\n",
       ".dl-inline>dt:not(:first-of-type) {padding-left: .5ex}\n",
       "</style><dl class=dl-inline><dt>1</dt><dd>'stocks_split_20'</dd><dt>MTM</dt><dd>'5396704.411344'</dd></dl>\n"
      ],
      "text/latex": [
       "\\begin{description*}\n",
       "\\item[1] 'stocks\\_split\\_20'\n",
       "\\item[MTM] '5396704.411344'\n",
       "\\end{description*}\n"
      ],
      "text/markdown": [
       "1\n",
       ":   'stocks_split_20'MTM\n",
       ":   '5396704.411344'\n",
       "\n"
      ],
      "text/plain": [
       "                                MTM \n",
       "\"stocks_split_20\"  \"5396704.411344\" "
      ]
     },
     "metadata": {},
     "output_type": "display_data"
    },
    {
     "data": {
      "text/html": [
       "<table>\n",
       "<caption>A data.frame: 6 × 24</caption>\n",
       "<thead>\n",
       "\t<tr><th></th><th scope=col>Date</th><th scope=col>IBM_Close</th><th scope=col>IBM_Adj.Close</th><th scope=col>MSFT_Close</th><th scope=col>MSFT_Adj.Close</th><th scope=col>GOOG_Close</th><th scope=col>GOOG_Adj.Close</th><th scope=col>AMZN_Close</th><th scope=col>AMZN_Adj.Close</th><th scope=col>AAPL_Close</th><th scope=col>⋯</th><th scope=col>NFLX_Adj.Close</th><th scope=col>TSLA_Close</th><th scope=col>TSLA_Adj.Close</th><th scope=col>ORCL_Close</th><th scope=col>ORCL_Adj.Close</th><th scope=col>SAP_Close</th><th scope=col>SAP_Adj.Close</th><th scope=col>Remaining_Cash</th><th scope=col>MTM</th><th scope=col>HTI</th></tr>\n",
       "\t<tr><th></th><th scope=col>&lt;date&gt;</th><th scope=col>&lt;dbl&gt;</th><th scope=col>&lt;dbl&gt;</th><th scope=col>&lt;dbl&gt;</th><th scope=col>&lt;dbl&gt;</th><th scope=col>&lt;dbl&gt;</th><th scope=col>&lt;dbl&gt;</th><th scope=col>&lt;dbl&gt;</th><th scope=col>&lt;dbl&gt;</th><th scope=col>&lt;dbl&gt;</th><th scope=col>⋯</th><th scope=col>&lt;dbl&gt;</th><th scope=col>&lt;dbl&gt;</th><th scope=col>&lt;dbl&gt;</th><th scope=col>&lt;dbl&gt;</th><th scope=col>&lt;dbl&gt;</th><th scope=col>&lt;dbl&gt;</th><th scope=col>&lt;dbl&gt;</th><th scope=col>&lt;dbl&gt;</th><th scope=col>&lt;dbl&gt;</th><th scope=col>&lt;dbl&gt;</th></tr>\n",
       "</thead>\n",
       "<tbody>\n",
       "\t<tr><th scope=row>245</th><td>2018-12-20</td><td>113.019997</td><td>103.959160</td><td>101.510002</td><td>99.241501</td><td>1009.409973</td><td>1009.409973</td><td>1460.82996</td><td>1460.82996</td><td>39.207500</td><td>⋯</td><td>260.579987</td><td>63.076000</td><td>63.076000</td><td>46.240002</td><td>44.859539</td><td>100.099998</td><td>97.349060</td><td>761.805139</td><td>5382394.21</td><td>332.737341</td></tr>\n",
       "\t<tr><th scope=row>246</th><td>2018-12-21</td><td>110.940002</td><td>102.045921</td><td> 98.230003</td><td>96.034790</td><td> 979.539978</td><td> 979.539978</td><td>1377.44995</td><td>1377.44995</td><td>37.682499</td><td>⋯</td><td>246.389999</td><td>63.953999</td><td>63.953999</td><td>44.000000</td><td>42.686417</td><td> 96.139999</td><td>93.497887</td><td>761.805139</td><td>5178709.27</td><td>317.927643</td></tr>\n",
       "\t<tr><th scope=row>247</th><td>2018-12-24</td><td>107.570000</td><td> 98.946083</td><td> 94.129997</td><td>92.026421</td><td> 976.219971</td><td> 976.219971</td><td>1343.95996</td><td>1343.95996</td><td>36.707500</td><td>⋯</td><td>233.880005</td><td>59.077999</td><td>59.077999</td><td>42.689999</td><td>41.415524</td><td> 95.000000</td><td>92.389214</td><td>761.805139</td><td>5097195.58</td><td>311.329543</td></tr>\n",
       "\t<tr><th scope=row>248</th><td>2018-12-26</td><td>111.389999</td><td>102.459846</td><td>100.559998</td><td>98.312729</td><td>1039.459961</td><td>1039.459961</td><td>1470.90002</td><td>1470.90002</td><td>39.292500</td><td>⋯</td><td>253.669998</td><td>65.218002</td><td>65.218002</td><td>44.590000</td><td>43.258801</td><td> 98.379997</td><td>95.676323</td><td>761.805139</td><td>5388778.64</td><td>335.764047</td></tr>\n",
       "\t<tr><th scope=row>249</th><td>2018-12-27</td><td>113.779999</td><td>104.658234</td><td>101.180000</td><td>98.918884</td><td>1043.880005</td><td>1043.880005</td><td>1461.64001</td><td>1461.64001</td><td>39.037498</td><td>⋯</td><td>255.570007</td><td>63.226002</td><td>63.226002</td><td>44.970001</td><td>43.627453</td><td> 98.989998</td><td>96.269554</td><td>761.805139</td><td>5418543.20</td><td>335.679353</td></tr>\n",
       "\t<tr><th scope=row>250</th><td>2018-12-28</td><td>113.029999</td><td>103.968369</td><td>100.389999</td><td>98.146530</td><td>1037.079956</td><td>1037.079956</td><td>1478.02002</td><td>1478.02002</td><td>39.057499</td><td>⋯</td><td>256.079987</td><td>66.774002</td><td>66.774002</td><td>44.820000</td><td>43.481926</td><td> 99.199997</td><td>96.473785</td><td>761.805139</td><td>5396704.41</td><td>336.765146</td></tr>\n",
       "</tbody>\n",
       "</table>\n"
      ],
      "text/latex": [
       "A data.frame: 6 × 24\n",
       "\\begin{tabular}{r|lllllllllllllllllllll}\n",
       "  & Date & IBM\\_Close & IBM\\_Adj.Close & MSFT\\_Close & MSFT\\_Adj.Close & GOOG\\_Close & GOOG\\_Adj.Close & AMZN\\_Close & AMZN\\_Adj.Close & AAPL\\_Close & ⋯ & NFLX\\_Adj.Close & TSLA\\_Close & TSLA\\_Adj.Close & ORCL\\_Close & ORCL\\_Adj.Close & SAP\\_Close & SAP\\_Adj.Close & Remaining\\_Cash & MTM & HTI\\\\\n",
       "  & <date> & <dbl> & <dbl> & <dbl> & <dbl> & <dbl> & <dbl> & <dbl> & <dbl> & <dbl> & ⋯ & <dbl> & <dbl> & <dbl> & <dbl> & <dbl> & <dbl> & <dbl> & <dbl> & <dbl> & <dbl>\\\\\n",
       "\\hline\n",
       "\t245 & 2018-12-20 & 113.019997 & 103.959160 & 101.510002 & 99.241501 & 1009.409973 & 1009.409973 & 1460.82996 & 1460.82996 & 39.207500 & ⋯ & 260.579987 & 63.076000 & 63.076000 & 46.240002 & 44.859539 & 100.099998 & 97.349060 & 761.805139 & 5382394.21 & 332.737341\\\\\n",
       "\t246 & 2018-12-21 & 110.940002 & 102.045921 &  98.230003 & 96.034790 &  979.539978 &  979.539978 & 1377.44995 & 1377.44995 & 37.682499 & ⋯ & 246.389999 & 63.953999 & 63.953999 & 44.000000 & 42.686417 &  96.139999 & 93.497887 & 761.805139 & 5178709.27 & 317.927643\\\\\n",
       "\t247 & 2018-12-24 & 107.570000 &  98.946083 &  94.129997 & 92.026421 &  976.219971 &  976.219971 & 1343.95996 & 1343.95996 & 36.707500 & ⋯ & 233.880005 & 59.077999 & 59.077999 & 42.689999 & 41.415524 &  95.000000 & 92.389214 & 761.805139 & 5097195.58 & 311.329543\\\\\n",
       "\t248 & 2018-12-26 & 111.389999 & 102.459846 & 100.559998 & 98.312729 & 1039.459961 & 1039.459961 & 1470.90002 & 1470.90002 & 39.292500 & ⋯ & 253.669998 & 65.218002 & 65.218002 & 44.590000 & 43.258801 &  98.379997 & 95.676323 & 761.805139 & 5388778.64 & 335.764047\\\\\n",
       "\t249 & 2018-12-27 & 113.779999 & 104.658234 & 101.180000 & 98.918884 & 1043.880005 & 1043.880005 & 1461.64001 & 1461.64001 & 39.037498 & ⋯ & 255.570007 & 63.226002 & 63.226002 & 44.970001 & 43.627453 &  98.989998 & 96.269554 & 761.805139 & 5418543.20 & 335.679353\\\\\n",
       "\t250 & 2018-12-28 & 113.029999 & 103.968369 & 100.389999 & 98.146530 & 1037.079956 & 1037.079956 & 1478.02002 & 1478.02002 & 39.057499 & ⋯ & 256.079987 & 66.774002 & 66.774002 & 44.820000 & 43.481926 &  99.199997 & 96.473785 & 761.805139 & 5396704.41 & 336.765146\\\\\n",
       "\\end{tabular}\n"
      ],
      "text/markdown": [
       "\n",
       "A data.frame: 6 × 24\n",
       "\n",
       "| <!--/--> | Date &lt;date&gt; | IBM_Close &lt;dbl&gt; | IBM_Adj.Close &lt;dbl&gt; | MSFT_Close &lt;dbl&gt; | MSFT_Adj.Close &lt;dbl&gt; | GOOG_Close &lt;dbl&gt; | GOOG_Adj.Close &lt;dbl&gt; | AMZN_Close &lt;dbl&gt; | AMZN_Adj.Close &lt;dbl&gt; | AAPL_Close &lt;dbl&gt; | ⋯ ⋯ | NFLX_Adj.Close &lt;dbl&gt; | TSLA_Close &lt;dbl&gt; | TSLA_Adj.Close &lt;dbl&gt; | ORCL_Close &lt;dbl&gt; | ORCL_Adj.Close &lt;dbl&gt; | SAP_Close &lt;dbl&gt; | SAP_Adj.Close &lt;dbl&gt; | Remaining_Cash &lt;dbl&gt; | MTM &lt;dbl&gt; | HTI &lt;dbl&gt; |\n",
       "|---|---|---|---|---|---|---|---|---|---|---|---|---|---|---|---|---|---|---|---|---|---|\n",
       "| 245 | 2018-12-20 | 113.019997 | 103.959160 | 101.510002 | 99.241501 | 1009.409973 | 1009.409973 | 1460.82996 | 1460.82996 | 39.207500 | ⋯ | 260.579987 | 63.076000 | 63.076000 | 46.240002 | 44.859539 | 100.099998 | 97.349060 | 761.805139 | 5382394.21 | 332.737341 |\n",
       "| 246 | 2018-12-21 | 110.940002 | 102.045921 |  98.230003 | 96.034790 |  979.539978 |  979.539978 | 1377.44995 | 1377.44995 | 37.682499 | ⋯ | 246.389999 | 63.953999 | 63.953999 | 44.000000 | 42.686417 |  96.139999 | 93.497887 | 761.805139 | 5178709.27 | 317.927643 |\n",
       "| 247 | 2018-12-24 | 107.570000 |  98.946083 |  94.129997 | 92.026421 |  976.219971 |  976.219971 | 1343.95996 | 1343.95996 | 36.707500 | ⋯ | 233.880005 | 59.077999 | 59.077999 | 42.689999 | 41.415524 |  95.000000 | 92.389214 | 761.805139 | 5097195.58 | 311.329543 |\n",
       "| 248 | 2018-12-26 | 111.389999 | 102.459846 | 100.559998 | 98.312729 | 1039.459961 | 1039.459961 | 1470.90002 | 1470.90002 | 39.292500 | ⋯ | 253.669998 | 65.218002 | 65.218002 | 44.590000 | 43.258801 |  98.379997 | 95.676323 | 761.805139 | 5388778.64 | 335.764047 |\n",
       "| 249 | 2018-12-27 | 113.779999 | 104.658234 | 101.180000 | 98.918884 | 1043.880005 | 1043.880005 | 1461.64001 | 1461.64001 | 39.037498 | ⋯ | 255.570007 | 63.226002 | 63.226002 | 44.970001 | 43.627453 |  98.989998 | 96.269554 | 761.805139 | 5418543.20 | 335.679353 |\n",
       "| 250 | 2018-12-28 | 113.029999 | 103.968369 | 100.389999 | 98.146530 | 1037.079956 | 1037.079956 | 1478.02002 | 1478.02002 | 39.057499 | ⋯ | 256.079987 | 66.774002 | 66.774002 | 44.820000 | 43.481926 |  99.199997 | 96.473785 | 761.805139 | 5396704.41 | 336.765146 |\n",
       "\n"
      ],
      "text/plain": [
       "    Date       IBM_Close  IBM_Adj.Close MSFT_Close MSFT_Adj.Close GOOG_Close \n",
       "245 2018-12-20 113.019997 103.959160    101.510002 99.241501      1009.409973\n",
       "246 2018-12-21 110.940002 102.045921     98.230003 96.034790       979.539978\n",
       "247 2018-12-24 107.570000  98.946083     94.129997 92.026421       976.219971\n",
       "248 2018-12-26 111.389999 102.459846    100.559998 98.312729      1039.459961\n",
       "249 2018-12-27 113.779999 104.658234    101.180000 98.918884      1043.880005\n",
       "250 2018-12-28 113.029999 103.968369    100.389999 98.146530      1037.079956\n",
       "    GOOG_Adj.Close AMZN_Close AMZN_Adj.Close AAPL_Close ⋯ NFLX_Adj.Close\n",
       "245 1009.409973    1460.82996 1460.82996     39.207500  ⋯ 260.579987    \n",
       "246  979.539978    1377.44995 1377.44995     37.682499  ⋯ 246.389999    \n",
       "247  976.219971    1343.95996 1343.95996     36.707500  ⋯ 233.880005    \n",
       "248 1039.459961    1470.90002 1470.90002     39.292500  ⋯ 253.669998    \n",
       "249 1043.880005    1461.64001 1461.64001     39.037498  ⋯ 255.570007    \n",
       "250 1037.079956    1478.02002 1478.02002     39.057499  ⋯ 256.079987    \n",
       "    TSLA_Close TSLA_Adj.Close ORCL_Close ORCL_Adj.Close SAP_Close \n",
       "245 63.076000  63.076000      46.240002  44.859539      100.099998\n",
       "246 63.953999  63.953999      44.000000  42.686417       96.139999\n",
       "247 59.077999  59.077999      42.689999  41.415524       95.000000\n",
       "248 65.218002  65.218002      44.590000  43.258801       98.379997\n",
       "249 63.226002  63.226002      44.970001  43.627453       98.989998\n",
       "250 66.774002  66.774002      44.820000  43.481926       99.199997\n",
       "    SAP_Adj.Close Remaining_Cash MTM        HTI       \n",
       "245 97.349060     761.805139     5382394.21 332.737341\n",
       "246 93.497887     761.805139     5178709.27 317.927643\n",
       "247 92.389214     761.805139     5097195.58 311.329543\n",
       "248 95.676323     761.805139     5388778.64 335.764047\n",
       "249 96.269554     761.805139     5418543.20 335.679353\n",
       "250 96.473785     761.805139     5396704.41 336.765146"
      ]
     },
     "metadata": {},
     "output_type": "display_data"
    }
   ],
   "source": [
    "stocks_split_20 = stocks_data[seq(1,nrow(stocks_data),20),]\n",
    "\n",
    "\n",
    "options(digits=9)\n",
    "total_cash <- 5000000\n",
    "remaining_cash <- total_cash\n",
    "split <- total_cash/5\n",
    "MTM <- 0\n",
    "begin_date <- mdy('01/02/2018')\n",
    "start_date <- begin_date\n",
    "end_date <-  mdy('12/28/2018')\n",
    "all_stocks <- c('IBM_Adj.Close','MSFT_Adj.Close','GOOG_Adj.Close','AAPL_Adj.Close','AMZN_Adj.Close','FB_Adj.Close','NFLX_Adj.Close','TSLA_Adj.Close','ORCL_Adj.Close','SAP_Adj.Close')\n",
    "initial_stocks <- c('IBM_Close','MSFT_Close','GOOG_Close','AMZN_Close','FB_Close')\n",
    "shares_count <- list()\n",
    "\n",
    "# Main logic\n",
    "while(start_date <= end_date){\n",
    "    \n",
    "    # executes the first day\n",
    "    if(start_date == '2018-01-02'){\n",
    "          for(i in initial_stocks) {\n",
    "        a <- stocks_data[stocks_data$Date== start_date, initial_stocks]\n",
    "        b<- floor(split/a[i])\n",
    "        shares_count[i] <-  b[[i]] \n",
    "        remaining_cash <- remaining_cash - b*a[i]\n",
    "        MTM <- MTM + b*a[i]\n",
    "        }\n",
    "        colnames(remaining_cash) <- 'Remaining_Cash'\n",
    "        stocks_data[stocks_data$Date == start_date,'Remaining_Cash'] <- remaining_cash\n",
    "        colnames(MTM) <- 'MTM'\n",
    "        MTM <- MTM + remaining_cash\n",
    "        stocks_data[stocks_data$Date == start_date,'MTM'] <- MTM\n",
    "        \n",
    "}\n",
    "\n",
    "    \n",
    "    # This condition executes for every 5th day\n",
    "    else if(start_date %in% stocks_split_20$Date) {\n",
    "        MTM <- 0\n",
    "        for(i in initial_stocks) {\n",
    "        a <- stocks_data[stocks_data$Date== start_date, initial_stocks]\n",
    "        MTM <- MTM + shares_count[[i]]*a[i]\n",
    "        }\n",
    "        total_cash <- MTM + remaining_cash\n",
    "        remaining_cash <- total_cash\n",
    "        split <- total_cash / 5\n",
    "        colnames(total_cash) <- 'Total_Cash'\n",
    "        colnames(MTM) <- 'MTM'\n",
    "        calculated_stocks <- list()\n",
    "        for(i in all_stocks){\n",
    "           \n",
    "            x <- stocks_data[stocks_data$Date== start_date, all_stocks]\n",
    "            y <- stocks_data[stocks_data$Date== begin_date, all_stocks]\n",
    "            percent_change <- 100 * ((x[i] - y[i])/ y[i])\n",
    "            col <- paste0(i, \"_PC\")\n",
    "            calculated_stocks[col] <- percent_change\n",
    "            \n",
    "        }\n",
    "        calculated_stocks <- calculated_stocks[order(unlist(calculated_stocks))]\n",
    "        calculated_stocks <- head(calculated_stocks,5)\n",
    "        \n",
    "        # update initial stocks\n",
    "        initial_col_list <- names(calculated_stocks)\n",
    "        initial_col_list <- sub('_.*','',initial_col_list)\n",
    "        initial_col_list <- paste0(initial_col_list,'_Close')\n",
    "        initial_stocks <- initial_col_list\n",
    "        shares_count <- list()\n",
    "        b <- list()\n",
    "        MTM <- 0\n",
    "        for(i in initial_stocks) {\n",
    "        a <- stocks_data[stocks_data$Date== start_date, initial_stocks]\n",
    "        b<- floor(split[,1]/a[i])\n",
    "        shares_count[i] <-  b[[i]]\n",
    "        remaining_cash <- remaining_cash - b*a[i]\n",
    "        MTM <- MTM + b*a[i]\n",
    "        }\n",
    "        MTM <- MTM + remaining_cash\n",
    "        stocks_data[stocks_data$Date == start_date,'MTM'] <- MTM\n",
    "        stocks_data[stocks_data$Date == start_date,'Remaining_Cash'] <- remaining_cash\n",
    "        \n",
    "        \n",
    "    }\n",
    "        \n",
    "    # This logic executes every day except the 5th day and returns MTM\n",
    "    else {\n",
    "        MTM <- 0\n",
    "        for(i in initial_stocks) {\n",
    "        a <- stocks_data[stocks_data$Date== start_date, initial_stocks]\n",
    "        MTM <- MTM + shares_count[[i]]*a[i]\n",
    "        }\n",
    "        colnames(MTM) <- 'MTM'\n",
    "        stocks_data[stocks_data$Date == start_date,'Remaining_Cash'] <- remaining_cash\n",
    "        stocks_data[stocks_data$Date == start_date,'MTM'] <- MTM\n",
    "      \n",
    "    }\n",
    "start_date <- start_date+1\n",
    "}\n",
    "# tail(stocks_data,10)\n",
    "sr1_20 <- c('stocks_split_20',MTM = tail(stocks_data$MTM,1))\n",
    "sr1_20\n",
    "tail(stocks_data)"
   ]
  },
  {
   "cell_type": "markdown",
   "metadata": {},
   "source": [
    "## Here we are getting more profit if we rebalance every 20 days, when buying low"
   ]
  },
  {
   "cell_type": "markdown",
   "metadata": {},
   "source": [
    "#### MTM for different intervals / Strategy-2\n",
    "##### Rebalancing every 11 days"
   ]
  },
  {
   "cell_type": "code",
   "execution_count": 28,
   "metadata": {
    "scrolled": true
   },
   "outputs": [
    {
     "data": {
      "text/html": [
       "<style>\n",
       ".dl-inline {width: auto; margin:0; padding: 0}\n",
       ".dl-inline>dt, .dl-inline>dd {float: none; width: auto; display: inline-block}\n",
       ".dl-inline>dt::after {content: \":\\0020\"; padding-right: .5ex}\n",
       ".dl-inline>dt:not(:first-of-type) {padding-left: .5ex}\n",
       "</style><dl class=dl-inline><dt>1</dt><dd>'stocks_split_11'</dd><dt>MTM</dt><dd>'5107777.868096'</dd></dl>\n"
      ],
      "text/latex": [
       "\\begin{description*}\n",
       "\\item[1] 'stocks\\_split\\_11'\n",
       "\\item[MTM] '5107777.868096'\n",
       "\\end{description*}\n"
      ],
      "text/markdown": [
       "1\n",
       ":   'stocks_split_11'MTM\n",
       ":   '5107777.868096'\n",
       "\n"
      ],
      "text/plain": [
       "                                MTM \n",
       "\"stocks_split_11\"  \"5107777.868096\" "
      ]
     },
     "metadata": {},
     "output_type": "display_data"
    },
    {
     "data": {
      "text/html": [
       "<table>\n",
       "<caption>A data.frame: 6 × 24</caption>\n",
       "<thead>\n",
       "\t<tr><th></th><th scope=col>Date</th><th scope=col>IBM_Close</th><th scope=col>IBM_Adj.Close</th><th scope=col>MSFT_Close</th><th scope=col>MSFT_Adj.Close</th><th scope=col>GOOG_Close</th><th scope=col>GOOG_Adj.Close</th><th scope=col>AMZN_Close</th><th scope=col>AMZN_Adj.Close</th><th scope=col>AAPL_Close</th><th scope=col>⋯</th><th scope=col>NFLX_Adj.Close</th><th scope=col>TSLA_Close</th><th scope=col>TSLA_Adj.Close</th><th scope=col>ORCL_Close</th><th scope=col>ORCL_Adj.Close</th><th scope=col>SAP_Close</th><th scope=col>SAP_Adj.Close</th><th scope=col>Remaining_Cash</th><th scope=col>MTM</th><th scope=col>HTI</th></tr>\n",
       "\t<tr><th></th><th scope=col>&lt;date&gt;</th><th scope=col>&lt;dbl&gt;</th><th scope=col>&lt;dbl&gt;</th><th scope=col>&lt;dbl&gt;</th><th scope=col>&lt;dbl&gt;</th><th scope=col>&lt;dbl&gt;</th><th scope=col>&lt;dbl&gt;</th><th scope=col>&lt;dbl&gt;</th><th scope=col>&lt;dbl&gt;</th><th scope=col>&lt;dbl&gt;</th><th scope=col>⋯</th><th scope=col>&lt;dbl&gt;</th><th scope=col>&lt;dbl&gt;</th><th scope=col>&lt;dbl&gt;</th><th scope=col>&lt;dbl&gt;</th><th scope=col>&lt;dbl&gt;</th><th scope=col>&lt;dbl&gt;</th><th scope=col>&lt;dbl&gt;</th><th scope=col>&lt;dbl&gt;</th><th scope=col>&lt;dbl&gt;</th><th scope=col>&lt;dbl&gt;</th></tr>\n",
       "</thead>\n",
       "<tbody>\n",
       "\t<tr><th scope=row>245</th><td>2018-12-20</td><td>113.019997</td><td>103.959160</td><td>101.510002</td><td>99.241501</td><td>1009.409973</td><td>1009.409973</td><td>1460.82996</td><td>1460.82996</td><td>39.207500</td><td>⋯</td><td>260.579987</td><td>63.076000</td><td>63.076000</td><td>46.240002</td><td>44.859539</td><td>100.099998</td><td>97.349060</td><td>1106.6293</td><td>5099762.09</td><td>332.737341</td></tr>\n",
       "\t<tr><th scope=row>246</th><td>2018-12-21</td><td>110.940002</td><td>102.045921</td><td> 98.230003</td><td>96.034790</td><td> 979.539978</td><td> 979.539978</td><td>1377.44995</td><td>1377.44995</td><td>37.682499</td><td>⋯</td><td>246.389999</td><td>63.953999</td><td>63.953999</td><td>44.000000</td><td>42.686417</td><td> 96.139999</td><td>93.497887</td><td>1106.6293</td><td>4916366.75</td><td>317.927643</td></tr>\n",
       "\t<tr><th scope=row>247</th><td>2018-12-24</td><td>107.570000</td><td> 98.946083</td><td> 94.129997</td><td>92.026421</td><td> 976.219971</td><td> 976.219971</td><td>1343.95996</td><td>1343.95996</td><td>36.707500</td><td>⋯</td><td>233.880005</td><td>59.077999</td><td>59.077999</td><td>42.689999</td><td>41.415524</td><td> 95.000000</td><td>92.389214</td><td>1106.6293</td><td>4696352.83</td><td>311.329543</td></tr>\n",
       "\t<tr><th scope=row>248</th><td>2018-12-26</td><td>111.389999</td><td>102.459846</td><td>100.559998</td><td>98.312729</td><td>1039.459961</td><td>1039.459961</td><td>1470.90002</td><td>1470.90002</td><td>39.292500</td><td>⋯</td><td>253.669998</td><td>65.218002</td><td>65.218002</td><td>44.590000</td><td>43.258801</td><td> 98.379997</td><td>95.676323</td><td>1106.6293</td><td>5065542.59</td><td>335.764047</td></tr>\n",
       "\t<tr><th scope=row>249</th><td>2018-12-27</td><td>113.779999</td><td>104.658234</td><td>101.180000</td><td>98.918884</td><td>1043.880005</td><td>1043.880005</td><td>1461.64001</td><td>1461.64001</td><td>39.037498</td><td>⋯</td><td>255.570007</td><td>63.226002</td><td>63.226002</td><td>44.970001</td><td>43.627453</td><td> 98.989998</td><td>96.269554</td><td>1106.6293</td><td>5050472.85</td><td>335.679353</td></tr>\n",
       "\t<tr><th scope=row>250</th><td>2018-12-28</td><td>113.029999</td><td>103.968369</td><td>100.389999</td><td>98.146530</td><td>1037.079956</td><td>1037.079956</td><td>1478.02002</td><td>1478.02002</td><td>39.057499</td><td>⋯</td><td>256.079987</td><td>66.774002</td><td>66.774002</td><td>44.820000</td><td>43.481926</td><td> 99.199997</td><td>96.473785</td><td>1106.6293</td><td>5107777.87</td><td>336.765146</td></tr>\n",
       "</tbody>\n",
       "</table>\n"
      ],
      "text/latex": [
       "A data.frame: 6 × 24\n",
       "\\begin{tabular}{r|lllllllllllllllllllll}\n",
       "  & Date & IBM\\_Close & IBM\\_Adj.Close & MSFT\\_Close & MSFT\\_Adj.Close & GOOG\\_Close & GOOG\\_Adj.Close & AMZN\\_Close & AMZN\\_Adj.Close & AAPL\\_Close & ⋯ & NFLX\\_Adj.Close & TSLA\\_Close & TSLA\\_Adj.Close & ORCL\\_Close & ORCL\\_Adj.Close & SAP\\_Close & SAP\\_Adj.Close & Remaining\\_Cash & MTM & HTI\\\\\n",
       "  & <date> & <dbl> & <dbl> & <dbl> & <dbl> & <dbl> & <dbl> & <dbl> & <dbl> & <dbl> & ⋯ & <dbl> & <dbl> & <dbl> & <dbl> & <dbl> & <dbl> & <dbl> & <dbl> & <dbl> & <dbl>\\\\\n",
       "\\hline\n",
       "\t245 & 2018-12-20 & 113.019997 & 103.959160 & 101.510002 & 99.241501 & 1009.409973 & 1009.409973 & 1460.82996 & 1460.82996 & 39.207500 & ⋯ & 260.579987 & 63.076000 & 63.076000 & 46.240002 & 44.859539 & 100.099998 & 97.349060 & 1106.6293 & 5099762.09 & 332.737341\\\\\n",
       "\t246 & 2018-12-21 & 110.940002 & 102.045921 &  98.230003 & 96.034790 &  979.539978 &  979.539978 & 1377.44995 & 1377.44995 & 37.682499 & ⋯ & 246.389999 & 63.953999 & 63.953999 & 44.000000 & 42.686417 &  96.139999 & 93.497887 & 1106.6293 & 4916366.75 & 317.927643\\\\\n",
       "\t247 & 2018-12-24 & 107.570000 &  98.946083 &  94.129997 & 92.026421 &  976.219971 &  976.219971 & 1343.95996 & 1343.95996 & 36.707500 & ⋯ & 233.880005 & 59.077999 & 59.077999 & 42.689999 & 41.415524 &  95.000000 & 92.389214 & 1106.6293 & 4696352.83 & 311.329543\\\\\n",
       "\t248 & 2018-12-26 & 111.389999 & 102.459846 & 100.559998 & 98.312729 & 1039.459961 & 1039.459961 & 1470.90002 & 1470.90002 & 39.292500 & ⋯ & 253.669998 & 65.218002 & 65.218002 & 44.590000 & 43.258801 &  98.379997 & 95.676323 & 1106.6293 & 5065542.59 & 335.764047\\\\\n",
       "\t249 & 2018-12-27 & 113.779999 & 104.658234 & 101.180000 & 98.918884 & 1043.880005 & 1043.880005 & 1461.64001 & 1461.64001 & 39.037498 & ⋯ & 255.570007 & 63.226002 & 63.226002 & 44.970001 & 43.627453 &  98.989998 & 96.269554 & 1106.6293 & 5050472.85 & 335.679353\\\\\n",
       "\t250 & 2018-12-28 & 113.029999 & 103.968369 & 100.389999 & 98.146530 & 1037.079956 & 1037.079956 & 1478.02002 & 1478.02002 & 39.057499 & ⋯ & 256.079987 & 66.774002 & 66.774002 & 44.820000 & 43.481926 &  99.199997 & 96.473785 & 1106.6293 & 5107777.87 & 336.765146\\\\\n",
       "\\end{tabular}\n"
      ],
      "text/markdown": [
       "\n",
       "A data.frame: 6 × 24\n",
       "\n",
       "| <!--/--> | Date &lt;date&gt; | IBM_Close &lt;dbl&gt; | IBM_Adj.Close &lt;dbl&gt; | MSFT_Close &lt;dbl&gt; | MSFT_Adj.Close &lt;dbl&gt; | GOOG_Close &lt;dbl&gt; | GOOG_Adj.Close &lt;dbl&gt; | AMZN_Close &lt;dbl&gt; | AMZN_Adj.Close &lt;dbl&gt; | AAPL_Close &lt;dbl&gt; | ⋯ ⋯ | NFLX_Adj.Close &lt;dbl&gt; | TSLA_Close &lt;dbl&gt; | TSLA_Adj.Close &lt;dbl&gt; | ORCL_Close &lt;dbl&gt; | ORCL_Adj.Close &lt;dbl&gt; | SAP_Close &lt;dbl&gt; | SAP_Adj.Close &lt;dbl&gt; | Remaining_Cash &lt;dbl&gt; | MTM &lt;dbl&gt; | HTI &lt;dbl&gt; |\n",
       "|---|---|---|---|---|---|---|---|---|---|---|---|---|---|---|---|---|---|---|---|---|---|\n",
       "| 245 | 2018-12-20 | 113.019997 | 103.959160 | 101.510002 | 99.241501 | 1009.409973 | 1009.409973 | 1460.82996 | 1460.82996 | 39.207500 | ⋯ | 260.579987 | 63.076000 | 63.076000 | 46.240002 | 44.859539 | 100.099998 | 97.349060 | 1106.6293 | 5099762.09 | 332.737341 |\n",
       "| 246 | 2018-12-21 | 110.940002 | 102.045921 |  98.230003 | 96.034790 |  979.539978 |  979.539978 | 1377.44995 | 1377.44995 | 37.682499 | ⋯ | 246.389999 | 63.953999 | 63.953999 | 44.000000 | 42.686417 |  96.139999 | 93.497887 | 1106.6293 | 4916366.75 | 317.927643 |\n",
       "| 247 | 2018-12-24 | 107.570000 |  98.946083 |  94.129997 | 92.026421 |  976.219971 |  976.219971 | 1343.95996 | 1343.95996 | 36.707500 | ⋯ | 233.880005 | 59.077999 | 59.077999 | 42.689999 | 41.415524 |  95.000000 | 92.389214 | 1106.6293 | 4696352.83 | 311.329543 |\n",
       "| 248 | 2018-12-26 | 111.389999 | 102.459846 | 100.559998 | 98.312729 | 1039.459961 | 1039.459961 | 1470.90002 | 1470.90002 | 39.292500 | ⋯ | 253.669998 | 65.218002 | 65.218002 | 44.590000 | 43.258801 |  98.379997 | 95.676323 | 1106.6293 | 5065542.59 | 335.764047 |\n",
       "| 249 | 2018-12-27 | 113.779999 | 104.658234 | 101.180000 | 98.918884 | 1043.880005 | 1043.880005 | 1461.64001 | 1461.64001 | 39.037498 | ⋯ | 255.570007 | 63.226002 | 63.226002 | 44.970001 | 43.627453 |  98.989998 | 96.269554 | 1106.6293 | 5050472.85 | 335.679353 |\n",
       "| 250 | 2018-12-28 | 113.029999 | 103.968369 | 100.389999 | 98.146530 | 1037.079956 | 1037.079956 | 1478.02002 | 1478.02002 | 39.057499 | ⋯ | 256.079987 | 66.774002 | 66.774002 | 44.820000 | 43.481926 |  99.199997 | 96.473785 | 1106.6293 | 5107777.87 | 336.765146 |\n",
       "\n"
      ],
      "text/plain": [
       "    Date       IBM_Close  IBM_Adj.Close MSFT_Close MSFT_Adj.Close GOOG_Close \n",
       "245 2018-12-20 113.019997 103.959160    101.510002 99.241501      1009.409973\n",
       "246 2018-12-21 110.940002 102.045921     98.230003 96.034790       979.539978\n",
       "247 2018-12-24 107.570000  98.946083     94.129997 92.026421       976.219971\n",
       "248 2018-12-26 111.389999 102.459846    100.559998 98.312729      1039.459961\n",
       "249 2018-12-27 113.779999 104.658234    101.180000 98.918884      1043.880005\n",
       "250 2018-12-28 113.029999 103.968369    100.389999 98.146530      1037.079956\n",
       "    GOOG_Adj.Close AMZN_Close AMZN_Adj.Close AAPL_Close ⋯ NFLX_Adj.Close\n",
       "245 1009.409973    1460.82996 1460.82996     39.207500  ⋯ 260.579987    \n",
       "246  979.539978    1377.44995 1377.44995     37.682499  ⋯ 246.389999    \n",
       "247  976.219971    1343.95996 1343.95996     36.707500  ⋯ 233.880005    \n",
       "248 1039.459961    1470.90002 1470.90002     39.292500  ⋯ 253.669998    \n",
       "249 1043.880005    1461.64001 1461.64001     39.037498  ⋯ 255.570007    \n",
       "250 1037.079956    1478.02002 1478.02002     39.057499  ⋯ 256.079987    \n",
       "    TSLA_Close TSLA_Adj.Close ORCL_Close ORCL_Adj.Close SAP_Close \n",
       "245 63.076000  63.076000      46.240002  44.859539      100.099998\n",
       "246 63.953999  63.953999      44.000000  42.686417       96.139999\n",
       "247 59.077999  59.077999      42.689999  41.415524       95.000000\n",
       "248 65.218002  65.218002      44.590000  43.258801       98.379997\n",
       "249 63.226002  63.226002      44.970001  43.627453       98.989998\n",
       "250 66.774002  66.774002      44.820000  43.481926       99.199997\n",
       "    SAP_Adj.Close Remaining_Cash MTM        HTI       \n",
       "245 97.349060     1106.6293      5099762.09 332.737341\n",
       "246 93.497887     1106.6293      4916366.75 317.927643\n",
       "247 92.389214     1106.6293      4696352.83 311.329543\n",
       "248 95.676323     1106.6293      5065542.59 335.764047\n",
       "249 96.269554     1106.6293      5050472.85 335.679353\n",
       "250 96.473785     1106.6293      5107777.87 336.765146"
      ]
     },
     "metadata": {},
     "output_type": "display_data"
    }
   ],
   "source": [
    "stocks_split_11 = stocks_data[seq(1,nrow(stocks_data),11),]\n",
    "\n",
    "\n",
    "options(digits=9)\n",
    "total_cash <- 5000000\n",
    "remaining_cash <- total_cash\n",
    "split <- total_cash/5\n",
    "MTM <- 0\n",
    "begin_date <- mdy('01/02/2018')\n",
    "start_date <- begin_date\n",
    "end_date <-  mdy('12/28/2018')\n",
    "all_stocks <- c('IBM_Adj.Close','MSFT_Adj.Close','GOOG_Adj.Close','AAPL_Adj.Close','AMZN_Adj.Close','FB_Adj.Close','NFLX_Adj.Close','TSLA_Adj.Close','ORCL_Adj.Close','SAP_Adj.Close')\n",
    "initial_stocks <- c('IBM_Close','MSFT_Close','GOOG_Close','AMZN_Close','FB_Close')\n",
    "shares_count <- list()\n",
    "\n",
    "# Main logic\n",
    "while(start_date <= end_date){\n",
    "    \n",
    "    # executes the first day\n",
    "    if(start_date == '2018-01-02'){\n",
    "          for(i in initial_stocks) {\n",
    "        a <- stocks_data[stocks_data$Date== start_date, initial_stocks]\n",
    "        b<- floor(split/a[i])\n",
    "        shares_count[i] <-  b[[i]] \n",
    "        remaining_cash <- remaining_cash - b*a[i]\n",
    "        MTM <- MTM + b*a[i]\n",
    "        }\n",
    "        colnames(remaining_cash) <- 'Remaining_Cash'\n",
    "        stocks_data[stocks_data$Date == start_date,'Remaining_Cash'] <- remaining_cash\n",
    "        colnames(MTM) <- 'MTM'\n",
    "        MTM <- MTM + remaining_cash\n",
    "        stocks_data[stocks_data$Date == start_date,'MTM'] <- MTM\n",
    "        \n",
    "}\n",
    "\n",
    "    \n",
    "    # This condition executes for every 5th day\n",
    "    else if(start_date %in% stocks_split_11$Date) {\n",
    "        MTM <- 0\n",
    "        for(i in initial_stocks) {\n",
    "        a <- stocks_data[stocks_data$Date== start_date, initial_stocks]\n",
    "        MTM <- MTM + shares_count[[i]]*a[i]\n",
    "        }\n",
    "        total_cash <- MTM + remaining_cash\n",
    "        remaining_cash <- total_cash\n",
    "        split <- total_cash / 5\n",
    "        colnames(total_cash) <- 'Total_Cash'\n",
    "        colnames(MTM) <- 'MTM'\n",
    "        calculated_stocks <- list()\n",
    "        for(i in all_stocks){\n",
    "           \n",
    "            x <- stocks_data[stocks_data$Date== start_date, all_stocks]\n",
    "            y <- stocks_data[stocks_data$Date== begin_date, all_stocks]\n",
    "            percent_change <- 100 * ((x[i] - y[i])/ y[i])\n",
    "            col <- paste0(i, \"_PC\")\n",
    "            calculated_stocks[col] <- percent_change\n",
    "            \n",
    "        }\n",
    "        calculated_stocks <- calculated_stocks[order(unlist(calculated_stocks))]\n",
    "        calculated_stocks <- tail(calculated_stocks,5)\n",
    "        \n",
    "        # update initial stocks\n",
    "        initial_col_list <- names(calculated_stocks)\n",
    "        initial_col_list <- sub('_.*','',initial_col_list)\n",
    "        initial_col_list <- paste0(initial_col_list,'_Close')\n",
    "        initial_stocks <- initial_col_list\n",
    "        shares_count <- list()\n",
    "        b <- list()\n",
    "        MTM <- 0\n",
    "        for(i in initial_stocks) {\n",
    "        a <- stocks_data[stocks_data$Date== start_date, initial_stocks]\n",
    "        b<- floor(split[,1]/a[i])\n",
    "        shares_count[i] <-  b[[i]]\n",
    "        remaining_cash <- remaining_cash - b*a[i]\n",
    "        MTM <- MTM + b*a[i]\n",
    "        }\n",
    "        MTM <- MTM + remaining_cash\n",
    "        stocks_data[stocks_data$Date == start_date,'MTM'] <- MTM\n",
    "        stocks_data[stocks_data$Date == start_date,'Remaining_Cash'] <- remaining_cash\n",
    "        \n",
    "        \n",
    "    }\n",
    "        \n",
    "    # This logic executes every day except the 5th day and returns MTM\n",
    "    else {\n",
    "        MTM <- 0\n",
    "        for(i in initial_stocks) {\n",
    "        a <- stocks_data[stocks_data$Date== start_date, initial_stocks]\n",
    "        MTM <- MTM + shares_count[[i]]*a[i]\n",
    "        }\n",
    "        colnames(MTM) <- 'MTM'\n",
    "        stocks_data[stocks_data$Date == start_date,'Remaining_Cash'] <- remaining_cash\n",
    "        stocks_data[stocks_data$Date == start_date,'MTM'] <- MTM\n",
    "      \n",
    "    }\n",
    "start_date <- start_date+1\n",
    "}\n",
    "# tail(stocks_data,10)\n",
    "sr2_11 <- c('stocks_split_11',MTM = tail(stocks_data$MTM,1))\n",
    "sr2_11\n",
    "tail(stocks_data)\n"
   ]
  },
  {
   "cell_type": "markdown",
   "metadata": {},
   "source": [
    "#### MTM for different intervals / Strategy-2\n",
    "##### Rebalancing every 7 days"
   ]
  },
  {
   "cell_type": "code",
   "execution_count": 29,
   "metadata": {
    "scrolled": true
   },
   "outputs": [
    {
     "data": {
      "text/html": [
       "<style>\n",
       ".dl-inline {width: auto; margin:0; padding: 0}\n",
       ".dl-inline>dt, .dl-inline>dd {float: none; width: auto; display: inline-block}\n",
       ".dl-inline>dt::after {content: \":\\0020\"; padding-right: .5ex}\n",
       ".dl-inline>dt:not(:first-of-type) {padding-left: .5ex}\n",
       "</style><dl class=dl-inline><dt>1</dt><dd>'stocks_split_7'</dd><dt>MTM</dt><dd>'4791447.926183'</dd></dl>\n"
      ],
      "text/latex": [
       "\\begin{description*}\n",
       "\\item[1] 'stocks\\_split\\_7'\n",
       "\\item[MTM] '4791447.926183'\n",
       "\\end{description*}\n"
      ],
      "text/markdown": [
       "1\n",
       ":   'stocks_split_7'MTM\n",
       ":   '4791447.926183'\n",
       "\n"
      ],
      "text/plain": [
       "                              MTM \n",
       "\"stocks_split_7\" \"4791447.926183\" "
      ]
     },
     "metadata": {},
     "output_type": "display_data"
    },
    {
     "data": {
      "text/html": [
       "<table>\n",
       "<caption>A data.frame: 6 × 24</caption>\n",
       "<thead>\n",
       "\t<tr><th></th><th scope=col>Date</th><th scope=col>IBM_Close</th><th scope=col>IBM_Adj.Close</th><th scope=col>MSFT_Close</th><th scope=col>MSFT_Adj.Close</th><th scope=col>GOOG_Close</th><th scope=col>GOOG_Adj.Close</th><th scope=col>AMZN_Close</th><th scope=col>AMZN_Adj.Close</th><th scope=col>AAPL_Close</th><th scope=col>⋯</th><th scope=col>NFLX_Adj.Close</th><th scope=col>TSLA_Close</th><th scope=col>TSLA_Adj.Close</th><th scope=col>ORCL_Close</th><th scope=col>ORCL_Adj.Close</th><th scope=col>SAP_Close</th><th scope=col>SAP_Adj.Close</th><th scope=col>Remaining_Cash</th><th scope=col>MTM</th><th scope=col>HTI</th></tr>\n",
       "\t<tr><th></th><th scope=col>&lt;date&gt;</th><th scope=col>&lt;dbl&gt;</th><th scope=col>&lt;dbl&gt;</th><th scope=col>&lt;dbl&gt;</th><th scope=col>&lt;dbl&gt;</th><th scope=col>&lt;dbl&gt;</th><th scope=col>&lt;dbl&gt;</th><th scope=col>&lt;dbl&gt;</th><th scope=col>&lt;dbl&gt;</th><th scope=col>&lt;dbl&gt;</th><th scope=col>⋯</th><th scope=col>&lt;dbl&gt;</th><th scope=col>&lt;dbl&gt;</th><th scope=col>&lt;dbl&gt;</th><th scope=col>&lt;dbl&gt;</th><th scope=col>&lt;dbl&gt;</th><th scope=col>&lt;dbl&gt;</th><th scope=col>&lt;dbl&gt;</th><th scope=col>&lt;dbl&gt;</th><th scope=col>&lt;dbl&gt;</th><th scope=col>&lt;dbl&gt;</th></tr>\n",
       "</thead>\n",
       "<tbody>\n",
       "\t<tr><th scope=row>245</th><td>2018-12-20</td><td>113.019997</td><td>103.959160</td><td>101.510002</td><td>99.241501</td><td>1009.409973</td><td>1009.409973</td><td>1460.82996</td><td>1460.82996</td><td>39.207500</td><td>⋯</td><td>260.579987</td><td>63.076000</td><td>63.076000</td><td>46.240002</td><td>44.859539</td><td>100.099998</td><td>97.349060</td><td>520.461717</td><td>4784300.24</td><td>332.737341</td></tr>\n",
       "\t<tr><th scope=row>246</th><td>2018-12-21</td><td>110.940002</td><td>102.045921</td><td> 98.230003</td><td>96.034790</td><td> 979.539978</td><td> 979.539978</td><td>1377.44995</td><td>1377.44995</td><td>37.682499</td><td>⋯</td><td>246.389999</td><td>63.953999</td><td>63.953999</td><td>44.000000</td><td>42.686417</td><td> 96.139999</td><td>93.497887</td><td>942.698472</td><td>4610729.89</td><td>317.927643</td></tr>\n",
       "\t<tr><th scope=row>247</th><td>2018-12-24</td><td>107.570000</td><td> 98.946083</td><td> 94.129997</td><td>92.026421</td><td> 976.219971</td><td> 976.219971</td><td>1343.95996</td><td>1343.95996</td><td>36.707500</td><td>⋯</td><td>233.880005</td><td>59.077999</td><td>59.077999</td><td>42.689999</td><td>41.415524</td><td> 95.000000</td><td>92.389214</td><td>942.698472</td><td>4404327.37</td><td>311.329543</td></tr>\n",
       "\t<tr><th scope=row>248</th><td>2018-12-26</td><td>111.389999</td><td>102.459846</td><td>100.559998</td><td>98.312729</td><td>1039.459961</td><td>1039.459961</td><td>1470.90002</td><td>1470.90002</td><td>39.292500</td><td>⋯</td><td>253.669998</td><td>65.218002</td><td>65.218002</td><td>44.590000</td><td>43.258801</td><td> 98.379997</td><td>95.676323</td><td>942.698472</td><td>4752007.73</td><td>335.764047</td></tr>\n",
       "\t<tr><th scope=row>249</th><td>2018-12-27</td><td>113.779999</td><td>104.658234</td><td>101.180000</td><td>98.918884</td><td>1043.880005</td><td>1043.880005</td><td>1461.64001</td><td>1461.64001</td><td>39.037498</td><td>⋯</td><td>255.570007</td><td>63.226002</td><td>63.226002</td><td>44.970001</td><td>43.627453</td><td> 98.989998</td><td>96.269554</td><td>942.698472</td><td>4737985.60</td><td>335.679353</td></tr>\n",
       "\t<tr><th scope=row>250</th><td>2018-12-28</td><td>113.029999</td><td>103.968369</td><td>100.389999</td><td>98.146530</td><td>1037.079956</td><td>1037.079956</td><td>1478.02002</td><td>1478.02002</td><td>39.057499</td><td>⋯</td><td>256.079987</td><td>66.774002</td><td>66.774002</td><td>44.820000</td><td>43.481926</td><td> 99.199997</td><td>96.473785</td><td>942.698472</td><td>4791447.93</td><td>336.765146</td></tr>\n",
       "</tbody>\n",
       "</table>\n"
      ],
      "text/latex": [
       "A data.frame: 6 × 24\n",
       "\\begin{tabular}{r|lllllllllllllllllllll}\n",
       "  & Date & IBM\\_Close & IBM\\_Adj.Close & MSFT\\_Close & MSFT\\_Adj.Close & GOOG\\_Close & GOOG\\_Adj.Close & AMZN\\_Close & AMZN\\_Adj.Close & AAPL\\_Close & ⋯ & NFLX\\_Adj.Close & TSLA\\_Close & TSLA\\_Adj.Close & ORCL\\_Close & ORCL\\_Adj.Close & SAP\\_Close & SAP\\_Adj.Close & Remaining\\_Cash & MTM & HTI\\\\\n",
       "  & <date> & <dbl> & <dbl> & <dbl> & <dbl> & <dbl> & <dbl> & <dbl> & <dbl> & <dbl> & ⋯ & <dbl> & <dbl> & <dbl> & <dbl> & <dbl> & <dbl> & <dbl> & <dbl> & <dbl> & <dbl>\\\\\n",
       "\\hline\n",
       "\t245 & 2018-12-20 & 113.019997 & 103.959160 & 101.510002 & 99.241501 & 1009.409973 & 1009.409973 & 1460.82996 & 1460.82996 & 39.207500 & ⋯ & 260.579987 & 63.076000 & 63.076000 & 46.240002 & 44.859539 & 100.099998 & 97.349060 & 520.461717 & 4784300.24 & 332.737341\\\\\n",
       "\t246 & 2018-12-21 & 110.940002 & 102.045921 &  98.230003 & 96.034790 &  979.539978 &  979.539978 & 1377.44995 & 1377.44995 & 37.682499 & ⋯ & 246.389999 & 63.953999 & 63.953999 & 44.000000 & 42.686417 &  96.139999 & 93.497887 & 942.698472 & 4610729.89 & 317.927643\\\\\n",
       "\t247 & 2018-12-24 & 107.570000 &  98.946083 &  94.129997 & 92.026421 &  976.219971 &  976.219971 & 1343.95996 & 1343.95996 & 36.707500 & ⋯ & 233.880005 & 59.077999 & 59.077999 & 42.689999 & 41.415524 &  95.000000 & 92.389214 & 942.698472 & 4404327.37 & 311.329543\\\\\n",
       "\t248 & 2018-12-26 & 111.389999 & 102.459846 & 100.559998 & 98.312729 & 1039.459961 & 1039.459961 & 1470.90002 & 1470.90002 & 39.292500 & ⋯ & 253.669998 & 65.218002 & 65.218002 & 44.590000 & 43.258801 &  98.379997 & 95.676323 & 942.698472 & 4752007.73 & 335.764047\\\\\n",
       "\t249 & 2018-12-27 & 113.779999 & 104.658234 & 101.180000 & 98.918884 & 1043.880005 & 1043.880005 & 1461.64001 & 1461.64001 & 39.037498 & ⋯ & 255.570007 & 63.226002 & 63.226002 & 44.970001 & 43.627453 &  98.989998 & 96.269554 & 942.698472 & 4737985.60 & 335.679353\\\\\n",
       "\t250 & 2018-12-28 & 113.029999 & 103.968369 & 100.389999 & 98.146530 & 1037.079956 & 1037.079956 & 1478.02002 & 1478.02002 & 39.057499 & ⋯ & 256.079987 & 66.774002 & 66.774002 & 44.820000 & 43.481926 &  99.199997 & 96.473785 & 942.698472 & 4791447.93 & 336.765146\\\\\n",
       "\\end{tabular}\n"
      ],
      "text/markdown": [
       "\n",
       "A data.frame: 6 × 24\n",
       "\n",
       "| <!--/--> | Date &lt;date&gt; | IBM_Close &lt;dbl&gt; | IBM_Adj.Close &lt;dbl&gt; | MSFT_Close &lt;dbl&gt; | MSFT_Adj.Close &lt;dbl&gt; | GOOG_Close &lt;dbl&gt; | GOOG_Adj.Close &lt;dbl&gt; | AMZN_Close &lt;dbl&gt; | AMZN_Adj.Close &lt;dbl&gt; | AAPL_Close &lt;dbl&gt; | ⋯ ⋯ | NFLX_Adj.Close &lt;dbl&gt; | TSLA_Close &lt;dbl&gt; | TSLA_Adj.Close &lt;dbl&gt; | ORCL_Close &lt;dbl&gt; | ORCL_Adj.Close &lt;dbl&gt; | SAP_Close &lt;dbl&gt; | SAP_Adj.Close &lt;dbl&gt; | Remaining_Cash &lt;dbl&gt; | MTM &lt;dbl&gt; | HTI &lt;dbl&gt; |\n",
       "|---|---|---|---|---|---|---|---|---|---|---|---|---|---|---|---|---|---|---|---|---|---|\n",
       "| 245 | 2018-12-20 | 113.019997 | 103.959160 | 101.510002 | 99.241501 | 1009.409973 | 1009.409973 | 1460.82996 | 1460.82996 | 39.207500 | ⋯ | 260.579987 | 63.076000 | 63.076000 | 46.240002 | 44.859539 | 100.099998 | 97.349060 | 520.461717 | 4784300.24 | 332.737341 |\n",
       "| 246 | 2018-12-21 | 110.940002 | 102.045921 |  98.230003 | 96.034790 |  979.539978 |  979.539978 | 1377.44995 | 1377.44995 | 37.682499 | ⋯ | 246.389999 | 63.953999 | 63.953999 | 44.000000 | 42.686417 |  96.139999 | 93.497887 | 942.698472 | 4610729.89 | 317.927643 |\n",
       "| 247 | 2018-12-24 | 107.570000 |  98.946083 |  94.129997 | 92.026421 |  976.219971 |  976.219971 | 1343.95996 | 1343.95996 | 36.707500 | ⋯ | 233.880005 | 59.077999 | 59.077999 | 42.689999 | 41.415524 |  95.000000 | 92.389214 | 942.698472 | 4404327.37 | 311.329543 |\n",
       "| 248 | 2018-12-26 | 111.389999 | 102.459846 | 100.559998 | 98.312729 | 1039.459961 | 1039.459961 | 1470.90002 | 1470.90002 | 39.292500 | ⋯ | 253.669998 | 65.218002 | 65.218002 | 44.590000 | 43.258801 |  98.379997 | 95.676323 | 942.698472 | 4752007.73 | 335.764047 |\n",
       "| 249 | 2018-12-27 | 113.779999 | 104.658234 | 101.180000 | 98.918884 | 1043.880005 | 1043.880005 | 1461.64001 | 1461.64001 | 39.037498 | ⋯ | 255.570007 | 63.226002 | 63.226002 | 44.970001 | 43.627453 |  98.989998 | 96.269554 | 942.698472 | 4737985.60 | 335.679353 |\n",
       "| 250 | 2018-12-28 | 113.029999 | 103.968369 | 100.389999 | 98.146530 | 1037.079956 | 1037.079956 | 1478.02002 | 1478.02002 | 39.057499 | ⋯ | 256.079987 | 66.774002 | 66.774002 | 44.820000 | 43.481926 |  99.199997 | 96.473785 | 942.698472 | 4791447.93 | 336.765146 |\n",
       "\n"
      ],
      "text/plain": [
       "    Date       IBM_Close  IBM_Adj.Close MSFT_Close MSFT_Adj.Close GOOG_Close \n",
       "245 2018-12-20 113.019997 103.959160    101.510002 99.241501      1009.409973\n",
       "246 2018-12-21 110.940002 102.045921     98.230003 96.034790       979.539978\n",
       "247 2018-12-24 107.570000  98.946083     94.129997 92.026421       976.219971\n",
       "248 2018-12-26 111.389999 102.459846    100.559998 98.312729      1039.459961\n",
       "249 2018-12-27 113.779999 104.658234    101.180000 98.918884      1043.880005\n",
       "250 2018-12-28 113.029999 103.968369    100.389999 98.146530      1037.079956\n",
       "    GOOG_Adj.Close AMZN_Close AMZN_Adj.Close AAPL_Close ⋯ NFLX_Adj.Close\n",
       "245 1009.409973    1460.82996 1460.82996     39.207500  ⋯ 260.579987    \n",
       "246  979.539978    1377.44995 1377.44995     37.682499  ⋯ 246.389999    \n",
       "247  976.219971    1343.95996 1343.95996     36.707500  ⋯ 233.880005    \n",
       "248 1039.459961    1470.90002 1470.90002     39.292500  ⋯ 253.669998    \n",
       "249 1043.880005    1461.64001 1461.64001     39.037498  ⋯ 255.570007    \n",
       "250 1037.079956    1478.02002 1478.02002     39.057499  ⋯ 256.079987    \n",
       "    TSLA_Close TSLA_Adj.Close ORCL_Close ORCL_Adj.Close SAP_Close \n",
       "245 63.076000  63.076000      46.240002  44.859539      100.099998\n",
       "246 63.953999  63.953999      44.000000  42.686417       96.139999\n",
       "247 59.077999  59.077999      42.689999  41.415524       95.000000\n",
       "248 65.218002  65.218002      44.590000  43.258801       98.379997\n",
       "249 63.226002  63.226002      44.970001  43.627453       98.989998\n",
       "250 66.774002  66.774002      44.820000  43.481926       99.199997\n",
       "    SAP_Adj.Close Remaining_Cash MTM        HTI       \n",
       "245 97.349060     520.461717     4784300.24 332.737341\n",
       "246 93.497887     942.698472     4610729.89 317.927643\n",
       "247 92.389214     942.698472     4404327.37 311.329543\n",
       "248 95.676323     942.698472     4752007.73 335.764047\n",
       "249 96.269554     942.698472     4737985.60 335.679353\n",
       "250 96.473785     942.698472     4791447.93 336.765146"
      ]
     },
     "metadata": {},
     "output_type": "display_data"
    }
   ],
   "source": [
    "stocks_split_7 = stocks_data[seq(1,nrow(stocks_data),7),]\n",
    "\n",
    "\n",
    "options(digits=9)\n",
    "total_cash <- 5000000\n",
    "remaining_cash <- total_cash\n",
    "split <- total_cash/5\n",
    "MTM <- 0\n",
    "begin_date <- mdy('01/02/2018')\n",
    "start_date <- begin_date\n",
    "end_date <-  mdy('12/28/2018')\n",
    "all_stocks <- c('IBM_Adj.Close','MSFT_Adj.Close','GOOG_Adj.Close','AAPL_Adj.Close','AMZN_Adj.Close','FB_Adj.Close','NFLX_Adj.Close','TSLA_Adj.Close','ORCL_Adj.Close','SAP_Adj.Close')\n",
    "initial_stocks <- c('IBM_Close','MSFT_Close','GOOG_Close','AMZN_Close','FB_Close')\n",
    "shares_count <- list()\n",
    "\n",
    "# Main logic\n",
    "while(start_date <= end_date){\n",
    "    \n",
    "    # executes the first day\n",
    "    if(start_date == '2018-01-02'){\n",
    "          for(i in initial_stocks) {\n",
    "        a <- stocks_data[stocks_data$Date== start_date, initial_stocks]\n",
    "        b<- floor(split/a[i])\n",
    "        shares_count[i] <-  b[[i]] \n",
    "        remaining_cash <- remaining_cash - b*a[i]\n",
    "        MTM <- MTM + b*a[i]\n",
    "        }\n",
    "        colnames(remaining_cash) <- 'Remaining_Cash'\n",
    "        stocks_data[stocks_data$Date == start_date,'Remaining_Cash'] <- remaining_cash\n",
    "        colnames(MTM) <- 'MTM'\n",
    "        MTM <- MTM + remaining_cash\n",
    "        stocks_data[stocks_data$Date == start_date,'MTM'] <- MTM\n",
    "        \n",
    "}\n",
    "\n",
    "    \n",
    "    # This condition executes for every 5th day\n",
    "    else if(start_date %in% stocks_split_7$Date) {\n",
    "        MTM <- 0\n",
    "        for(i in initial_stocks) {\n",
    "        a <- stocks_data[stocks_data$Date== start_date, initial_stocks]\n",
    "        MTM <- MTM + shares_count[[i]]*a[i]\n",
    "        }\n",
    "        total_cash <- MTM + remaining_cash\n",
    "        remaining_cash <- total_cash\n",
    "        split <- total_cash / 5\n",
    "        colnames(total_cash) <- 'Total_Cash'\n",
    "        colnames(MTM) <- 'MTM'\n",
    "        calculated_stocks <- list()\n",
    "        for(i in all_stocks){\n",
    "           \n",
    "            x <- stocks_data[stocks_data$Date== start_date, all_stocks]\n",
    "            y <- stocks_data[stocks_data$Date== begin_date, all_stocks]\n",
    "            percent_change <- 100 * ((x[i] - y[i])/ y[i])\n",
    "            col <- paste0(i, \"_PC\")\n",
    "            calculated_stocks[col] <- percent_change\n",
    "            \n",
    "        }\n",
    "        calculated_stocks <- calculated_stocks[order(unlist(calculated_stocks))]\n",
    "        calculated_stocks <- tail(calculated_stocks,5)\n",
    "        \n",
    "        # update initial stocks\n",
    "        initial_col_list <- names(calculated_stocks)\n",
    "        initial_col_list <- sub('_.*','',initial_col_list)\n",
    "        initial_col_list <- paste0(initial_col_list,'_Close')\n",
    "        initial_stocks <- initial_col_list\n",
    "        shares_count <- list()\n",
    "        b <- list()\n",
    "        MTM <- 0\n",
    "        for(i in initial_stocks) {\n",
    "        a <- stocks_data[stocks_data$Date== start_date, initial_stocks]\n",
    "        b<- floor(split[,1]/a[i])\n",
    "        shares_count[i] <-  b[[i]]\n",
    "        remaining_cash <- remaining_cash - b*a[i]\n",
    "        MTM <- MTM + b*a[i]\n",
    "        }\n",
    "        MTM <- MTM + remaining_cash\n",
    "        stocks_data[stocks_data$Date == start_date,'MTM'] <- MTM\n",
    "        stocks_data[stocks_data$Date == start_date,'Remaining_Cash'] <- remaining_cash\n",
    "        \n",
    "        \n",
    "    }\n",
    "        \n",
    "    # This logic executes every day except the 5th day and returns MTM\n",
    "    else {\n",
    "        MTM <- 0\n",
    "        for(i in initial_stocks) {\n",
    "        a <- stocks_data[stocks_data$Date== start_date, initial_stocks]\n",
    "        MTM <- MTM + shares_count[[i]]*a[i]\n",
    "        }\n",
    "        colnames(MTM) <- 'MTM'\n",
    "        stocks_data[stocks_data$Date == start_date,'Remaining_Cash'] <- remaining_cash\n",
    "        stocks_data[stocks_data$Date == start_date,'MTM'] <- MTM\n",
    "      \n",
    "    }\n",
    "start_date <- start_date+1\n",
    "}\n",
    "# tail(stocks_data,10)\n",
    "sr2_7<- c('stocks_split_7',MTM = tail(stocks_data$MTM,1))\n",
    "sr2_7\n",
    "tail(stocks_data)"
   ]
  },
  {
   "cell_type": "markdown",
   "metadata": {},
   "source": [
    "## Here if we rebalance every 11 days we get a profit, when buying High"
   ]
  },
  {
   "cell_type": "code",
   "execution_count": 30,
   "metadata": {
    "scrolled": true
   },
   "outputs": [
    {
     "data": {
      "text/html": [
       "<table>\n",
       "<caption>A matrix: 3 × 2 of type chr</caption>\n",
       "<thead>\n",
       "\t<tr><th></th><th scope=col></th><th scope=col>MTM</th></tr>\n",
       "</thead>\n",
       "<tbody>\n",
       "\t<tr><th scope=row>sr1_5</th><td>stocks_split_5 </td><td>5323137.228935</td></tr>\n",
       "\t<tr><th scope=row>sr1_2</th><td>stocks_split_2 </td><td>5381844.33602 </td></tr>\n",
       "\t<tr><th scope=row>sr1_20</th><td>stocks_split_20</td><td>5396704.411344</td></tr>\n",
       "</tbody>\n",
       "</table>\n"
      ],
      "text/latex": [
       "A matrix: 3 × 2 of type chr\n",
       "\\begin{tabular}{r|ll}\n",
       "  &  & MTM\\\\\n",
       "\\hline\n",
       "\tsr1\\_5 & stocks\\_split\\_5  & 5323137.228935\\\\\n",
       "\tsr1\\_2 & stocks\\_split\\_2  & 5381844.33602 \\\\\n",
       "\tsr1\\_20 & stocks\\_split\\_20 & 5396704.411344\\\\\n",
       "\\end{tabular}\n"
      ],
      "text/markdown": [
       "\n",
       "A matrix: 3 × 2 of type chr\n",
       "\n",
       "| <!--/--> | <!----> | MTM |\n",
       "|---|---|---|\n",
       "| sr1_5 | stocks_split_5  | 5323137.228935 |\n",
       "| sr1_2 | stocks_split_2  | 5381844.33602  |\n",
       "| sr1_20 | stocks_split_20 | 5396704.411344 |\n",
       "\n"
      ],
      "text/plain": [
       "                       MTM           \n",
       "sr1_5  stocks_split_5  5323137.228935\n",
       "sr1_2  stocks_split_2  5381844.33602 \n",
       "sr1_20 stocks_split_20 5396704.411344"
      ]
     },
     "metadata": {},
     "output_type": "display_data"
    }
   ],
   "source": [
    "result_strategy1 <- rbind(sr1_5,sr1_2,sr1_20)\n",
    "result_strategy1"
   ]
  },
  {
   "cell_type": "markdown",
   "metadata": {},
   "source": [
    "## MTM cash according to rebalance days, when buying low"
   ]
  },
  {
   "cell_type": "code",
   "execution_count": 31,
   "metadata": {
    "scrolled": true
   },
   "outputs": [
    {
     "data": {
      "text/html": [
       "<table>\n",
       "<caption>A matrix: 3 × 2 of type chr</caption>\n",
       "<thead>\n",
       "\t<tr><th></th><th scope=col></th><th scope=col>MTM</th></tr>\n",
       "</thead>\n",
       "<tbody>\n",
       "\t<tr><th scope=row>sr2_5</th><td>stocks_split_5 </td><td>4761841.916281</td></tr>\n",
       "\t<tr><th scope=row>sr2_11</th><td>stocks_split_11</td><td>5107777.868096</td></tr>\n",
       "\t<tr><th scope=row>sr2_7</th><td>stocks_split_7 </td><td>4791447.926183</td></tr>\n",
       "</tbody>\n",
       "</table>\n"
      ],
      "text/latex": [
       "A matrix: 3 × 2 of type chr\n",
       "\\begin{tabular}{r|ll}\n",
       "  &  & MTM\\\\\n",
       "\\hline\n",
       "\tsr2\\_5 & stocks\\_split\\_5  & 4761841.916281\\\\\n",
       "\tsr2\\_11 & stocks\\_split\\_11 & 5107777.868096\\\\\n",
       "\tsr2\\_7 & stocks\\_split\\_7  & 4791447.926183\\\\\n",
       "\\end{tabular}\n"
      ],
      "text/markdown": [
       "\n",
       "A matrix: 3 × 2 of type chr\n",
       "\n",
       "| <!--/--> | <!----> | MTM |\n",
       "|---|---|---|\n",
       "| sr2_5 | stocks_split_5  | 4761841.916281 |\n",
       "| sr2_11 | stocks_split_11 | 5107777.868096 |\n",
       "| sr2_7 | stocks_split_7  | 4791447.926183 |\n",
       "\n"
      ],
      "text/plain": [
       "                       MTM           \n",
       "sr2_5  stocks_split_5  4761841.916281\n",
       "sr2_11 stocks_split_11 5107777.868096\n",
       "sr2_7  stocks_split_7  4791447.926183"
      ]
     },
     "metadata": {},
     "output_type": "display_data"
    }
   ],
   "source": [
    "result_strategy2 <- rbind(sr2_5,sr2_11,sr2_7)\n",
    "result_strategy2"
   ]
  },
  {
   "cell_type": "markdown",
   "metadata": {},
   "source": [
    "## MTM cash according to rebalance days, when buying High"
   ]
  },
  {
   "cell_type": "markdown",
   "metadata": {},
   "source": [
    "Dividends"
   ]
  },
  {
   "cell_type": "code",
   "execution_count": 32,
   "metadata": {},
   "outputs": [
    {
     "data": {
      "text/html": [
       "<table>\n",
       "<caption>A data.frame: 4 × 2</caption>\n",
       "<thead>\n",
       "\t<tr><th scope=col>IBM_Date</th><th scope=col>IBM_Absolute_Dividend</th></tr>\n",
       "\t<tr><th scope=col>&lt;chr&gt;</th><th scope=col>&lt;dbl&gt;</th></tr>\n",
       "</thead>\n",
       "<tbody>\n",
       "\t<tr><td>2018-02-08</td><td>1.50000622</td></tr>\n",
       "\t<tr><td>2018-05-09</td><td>1.56998355</td></tr>\n",
       "\t<tr><td>2018-08-09</td><td>1.57001381</td></tr>\n",
       "\t<tr><td>2018-11-08</td><td>1.56999869</td></tr>\n",
       "</tbody>\n",
       "</table>\n"
      ],
      "text/latex": [
       "A data.frame: 4 × 2\n",
       "\\begin{tabular}{ll}\n",
       " IBM\\_Date & IBM\\_Absolute\\_Dividend\\\\\n",
       " <chr> & <dbl>\\\\\n",
       "\\hline\n",
       "\t 2018-02-08 & 1.50000622\\\\\n",
       "\t 2018-05-09 & 1.56998355\\\\\n",
       "\t 2018-08-09 & 1.57001381\\\\\n",
       "\t 2018-11-08 & 1.56999869\\\\\n",
       "\\end{tabular}\n"
      ],
      "text/markdown": [
       "\n",
       "A data.frame: 4 × 2\n",
       "\n",
       "| IBM_Date &lt;chr&gt; | IBM_Absolute_Dividend &lt;dbl&gt; |\n",
       "|---|---|\n",
       "| 2018-02-08 | 1.50000622 |\n",
       "| 2018-05-09 | 1.56998355 |\n",
       "| 2018-08-09 | 1.57001381 |\n",
       "| 2018-11-08 | 1.56999869 |\n",
       "\n"
      ],
      "text/plain": [
       "  IBM_Date   IBM_Absolute_Dividend\n",
       "1 2018-02-08 1.50000622           \n",
       "2 2018-05-09 1.56998355           \n",
       "3 2018-08-09 1.57001381           \n",
       "4 2018-11-08 1.56999869           "
      ]
     },
     "metadata": {},
     "output_type": "display_data"
    }
   ],
   "source": [
    "IBM1 <-ibm_data %>%\n",
    "  mutate(Ratio.AdjClose = lag(Adj.Close, default = 0) / Adj.Close,\n",
    "        Ratio.Close = lag(Close, default = 0) / Close) %>%\n",
    "  mutate(ibm_data,Difference = Ratio.AdjClose-Ratio.Close) %>%\n",
    "  mutate(ibm_data, Dividend = Difference*Close)  \n",
    " IBM1$IBM_Absolute_Dividend = abs(IBM1$Dividend)\n",
    "IBM1 <-  rename(IBM1, 'IBM_Date' = 'Date')\n",
    "IBM1 <- select (IBM1, IBM_Date, IBM_Absolute_Dividend) %>%\n",
    "filter (IBM_Absolute_Dividend > 0.01)\n",
    "\n",
    "IBM1"
   ]
  },
  {
   "cell_type": "code",
   "execution_count": 33,
   "metadata": {},
   "outputs": [
    {
     "data": {
      "text/html": [
       "<table>\n",
       "<caption>A data.frame: 0 × 2</caption>\n",
       "<thead>\n",
       "\t<tr><th scope=col>Date</th><th scope=col>Absolute_Dividend</th></tr>\n",
       "\t<tr><th scope=col>&lt;chr&gt;</th><th scope=col>&lt;dbl&gt;</th></tr>\n",
       "</thead>\n",
       "<tbody>\n",
       "</tbody>\n",
       "</table>\n"
      ],
      "text/latex": [
       "A data.frame: 0 × 2\n",
       "\\begin{tabular}{ll}\n",
       " Date & Absolute\\_Dividend\\\\\n",
       " <chr> & <dbl>\\\\\n",
       "\\hline\n",
       "\\end{tabular}\n"
      ],
      "text/markdown": [
       "\n",
       "A data.frame: 0 × 2\n",
       "\n",
       "| Date &lt;chr&gt; | Absolute_Dividend &lt;dbl&gt; |\n",
       "|---|---|\n",
       "\n"
      ],
      "text/plain": [
       "     Date Absolute_Dividend"
      ]
     },
     "metadata": {},
     "output_type": "display_data"
    }
   ],
   "source": [
    "amzn1 <-amzn_data %>%\n",
    "  mutate(Ratio.AdjClose = lag(Adj.Close, default = 0) / Adj.Close,\n",
    "        Ratio.Close = lag(Close, default = 0) / Close) %>%\n",
    "  mutate(amzn_data,Difference = Ratio.AdjClose-Ratio.Close) %>%\n",
    "  mutate(amzn_data, Dividend = Difference*Close)  \n",
    " amzn1$Absolute_Dividend = abs(amzn1$Dividend)\n",
    "select (amzn1, Date, Absolute_Dividend) %>%\n",
    "filter (Absolute_Dividend > 0.01)"
   ]
  },
  {
   "cell_type": "code",
   "execution_count": 34,
   "metadata": {},
   "outputs": [
    {
     "data": {
      "text/html": [
       "<table>\n",
       "<caption>A data.frame: 4 × 2</caption>\n",
       "<thead>\n",
       "\t<tr><th scope=col>MSFT_Date</th><th scope=col>MSFT_Absolute_Dividend</th></tr>\n",
       "\t<tr><th scope=col>&lt;chr&gt;</th><th scope=col>&lt;dbl&gt;</th></tr>\n",
       "</thead>\n",
       "<tbody>\n",
       "\t<tr><td>2018-02-14</td><td>0.420014632</td></tr>\n",
       "\t<tr><td>2018-05-16</td><td>0.419976555</td></tr>\n",
       "\t<tr><td>2018-08-15</td><td>0.419998784</td></tr>\n",
       "\t<tr><td>2018-11-14</td><td>0.459999119</td></tr>\n",
       "</tbody>\n",
       "</table>\n"
      ],
      "text/latex": [
       "A data.frame: 4 × 2\n",
       "\\begin{tabular}{ll}\n",
       " MSFT\\_Date & MSFT\\_Absolute\\_Dividend\\\\\n",
       " <chr> & <dbl>\\\\\n",
       "\\hline\n",
       "\t 2018-02-14 & 0.420014632\\\\\n",
       "\t 2018-05-16 & 0.419976555\\\\\n",
       "\t 2018-08-15 & 0.419998784\\\\\n",
       "\t 2018-11-14 & 0.459999119\\\\\n",
       "\\end{tabular}\n"
      ],
      "text/markdown": [
       "\n",
       "A data.frame: 4 × 2\n",
       "\n",
       "| MSFT_Date &lt;chr&gt; | MSFT_Absolute_Dividend &lt;dbl&gt; |\n",
       "|---|---|\n",
       "| 2018-02-14 | 0.420014632 |\n",
       "| 2018-05-16 | 0.419976555 |\n",
       "| 2018-08-15 | 0.419998784 |\n",
       "| 2018-11-14 | 0.459999119 |\n",
       "\n"
      ],
      "text/plain": [
       "  MSFT_Date  MSFT_Absolute_Dividend\n",
       "1 2018-02-14 0.420014632           \n",
       "2 2018-05-16 0.419976555           \n",
       "3 2018-08-15 0.419998784           \n",
       "4 2018-11-14 0.459999119           "
      ]
     },
     "metadata": {},
     "output_type": "display_data"
    }
   ],
   "source": [
    "msft1 <-msft_data %>%\n",
    "  mutate(Ratio.AdjClose = lag(Adj.Close, default = 0) / Adj.Close,\n",
    "        Ratio.Close = lag(Close, default = 0) / Close) %>%\n",
    "  mutate(msft_data,Difference = Ratio.AdjClose-Ratio.Close) %>%\n",
    "  mutate(msft_data, Dividend = Difference*Close)  \n",
    " msft1$MSFT_Absolute_Dividend = abs(msft1$Dividend)\n",
    "msft1 <-  rename(msft1, 'MSFT_Date' = 'Date')\n",
    "msft1 <- select (msft1, MSFT_Date, MSFT_Absolute_Dividend) %>%\n",
    "filter (MSFT_Absolute_Dividend > 0.01)\n",
    "msft1\n"
   ]
  },
  {
   "cell_type": "code",
   "execution_count": 35,
   "metadata": {},
   "outputs": [
    {
     "data": {
      "text/html": [
       "<table>\n",
       "<caption>A data.frame: 0 × 2</caption>\n",
       "<thead>\n",
       "\t<tr><th scope=col>Date</th><th scope=col>Absolute_Dividend</th></tr>\n",
       "\t<tr><th scope=col>&lt;chr&gt;</th><th scope=col>&lt;dbl&gt;</th></tr>\n",
       "</thead>\n",
       "<tbody>\n",
       "</tbody>\n",
       "</table>\n"
      ],
      "text/latex": [
       "A data.frame: 0 × 2\n",
       "\\begin{tabular}{ll}\n",
       " Date & Absolute\\_Dividend\\\\\n",
       " <chr> & <dbl>\\\\\n",
       "\\hline\n",
       "\\end{tabular}\n"
      ],
      "text/markdown": [
       "\n",
       "A data.frame: 0 × 2\n",
       "\n",
       "| Date &lt;chr&gt; | Absolute_Dividend &lt;dbl&gt; |\n",
       "|---|---|\n",
       "\n"
      ],
      "text/plain": [
       "     Date Absolute_Dividend"
      ]
     },
     "metadata": {},
     "output_type": "display_data"
    }
   ],
   "source": [
    "goog1 <-goog_data %>%\n",
    "  mutate(Ratio.AdjClose = lag(Adj.Close, default = 0) / Adj.Close,\n",
    "        Ratio.Close = lag(Close, default = 0) / Close) %>%\n",
    "  mutate(goog_data,Difference = Ratio.AdjClose-Ratio.Close) %>%\n",
    "  mutate(goog_data, Dividend = Difference*Close)  \n",
    " goog1$Absolute_Dividend = abs(goog1$Dividend)\n",
    "select (goog1, Date, Absolute_Dividend) %>%\n",
    "filter (Absolute_Dividend > 0.01)"
   ]
  },
  {
   "cell_type": "code",
   "execution_count": 36,
   "metadata": {},
   "outputs": [
    {
     "data": {
      "text/html": [
       "<table>\n",
       "<caption>A data.frame: 4 × 2</caption>\n",
       "<thead>\n",
       "\t<tr><th scope=col>AAPL_Date</th><th scope=col>AAPL_Absolute_Dividend</th></tr>\n",
       "\t<tr><th scope=col>&lt;chr&gt;</th><th scope=col>&lt;dbl&gt;</th></tr>\n",
       "</thead>\n",
       "<tbody>\n",
       "\t<tr><td>2018-02-09</td><td>0.157493725</td></tr>\n",
       "\t<tr><td>2018-05-11</td><td>0.182501822</td></tr>\n",
       "\t<tr><td>2018-08-10</td><td>0.182493795</td></tr>\n",
       "\t<tr><td>2018-11-08</td><td>0.182498613</td></tr>\n",
       "</tbody>\n",
       "</table>\n"
      ],
      "text/latex": [
       "A data.frame: 4 × 2\n",
       "\\begin{tabular}{ll}\n",
       " AAPL\\_Date & AAPL\\_Absolute\\_Dividend\\\\\n",
       " <chr> & <dbl>\\\\\n",
       "\\hline\n",
       "\t 2018-02-09 & 0.157493725\\\\\n",
       "\t 2018-05-11 & 0.182501822\\\\\n",
       "\t 2018-08-10 & 0.182493795\\\\\n",
       "\t 2018-11-08 & 0.182498613\\\\\n",
       "\\end{tabular}\n"
      ],
      "text/markdown": [
       "\n",
       "A data.frame: 4 × 2\n",
       "\n",
       "| AAPL_Date &lt;chr&gt; | AAPL_Absolute_Dividend &lt;dbl&gt; |\n",
       "|---|---|\n",
       "| 2018-02-09 | 0.157493725 |\n",
       "| 2018-05-11 | 0.182501822 |\n",
       "| 2018-08-10 | 0.182493795 |\n",
       "| 2018-11-08 | 0.182498613 |\n",
       "\n"
      ],
      "text/plain": [
       "  AAPL_Date  AAPL_Absolute_Dividend\n",
       "1 2018-02-09 0.157493725           \n",
       "2 2018-05-11 0.182501822           \n",
       "3 2018-08-10 0.182493795           \n",
       "4 2018-11-08 0.182498613           "
      ]
     },
     "metadata": {},
     "output_type": "display_data"
    }
   ],
   "source": [
    "aapl1 <-aapl_data %>%\n",
    "  mutate(Ratio.AdjClose = lag(Adj.Close, default = 0) / Adj.Close,\n",
    "        Ratio.Close = lag(Close, default = 0) / Close) %>%\n",
    "  mutate(aapl_data,Difference = Ratio.AdjClose-Ratio.Close) %>%\n",
    "  mutate(aapl_data, Dividend = Difference*Close)  \n",
    " aapl1$AAPL_Absolute_Dividend = abs(aapl1$Dividend)\n",
    "\n",
    "aapl1 <-  rename(aapl1, 'AAPL_Date' = 'Date')\n",
    "aapl1 <- select (aapl1, AAPL_Date, AAPL_Absolute_Dividend) %>%\n",
    "filter (AAPL_Absolute_Dividend > 0.01)\n",
    "aapl1"
   ]
  },
  {
   "cell_type": "code",
   "execution_count": 37,
   "metadata": {},
   "outputs": [
    {
     "data": {
      "text/html": [
       "<table>\n",
       "<caption>A data.frame: 0 × 2</caption>\n",
       "<thead>\n",
       "\t<tr><th scope=col>Date</th><th scope=col>Absolute_Dividend</th></tr>\n",
       "\t<tr><th scope=col>&lt;chr&gt;</th><th scope=col>&lt;dbl&gt;</th></tr>\n",
       "</thead>\n",
       "<tbody>\n",
       "</tbody>\n",
       "</table>\n"
      ],
      "text/latex": [
       "A data.frame: 0 × 2\n",
       "\\begin{tabular}{ll}\n",
       " Date & Absolute\\_Dividend\\\\\n",
       " <chr> & <dbl>\\\\\n",
       "\\hline\n",
       "\\end{tabular}\n"
      ],
      "text/markdown": [
       "\n",
       "A data.frame: 0 × 2\n",
       "\n",
       "| Date &lt;chr&gt; | Absolute_Dividend &lt;dbl&gt; |\n",
       "|---|---|\n",
       "\n"
      ],
      "text/plain": [
       "     Date Absolute_Dividend"
      ]
     },
     "metadata": {},
     "output_type": "display_data"
    }
   ],
   "source": [
    "fb1 <-fb_data %>%\n",
    "  mutate(Ratio.AdjClose = lag(Adj.Close, default = 0) / Adj.Close,\n",
    "        Ratio.Close = lag(Close, default = 0) / Close) %>%\n",
    "  mutate(fb_data,Difference = Ratio.AdjClose-Ratio.Close) %>%\n",
    "  mutate(fb_data, Dividend = Difference*Close)  \n",
    " fb1$Absolute_Dividend = abs(fb1$Dividend)\n",
    "select (fb1, Date, Absolute_Dividend) %>%\n",
    "filter (Absolute_Dividend > 0.01)"
   ]
  },
  {
   "cell_type": "code",
   "execution_count": 38,
   "metadata": {},
   "outputs": [
    {
     "data": {
      "text/html": [
       "<table>\n",
       "<caption>A data.frame: 0 × 2</caption>\n",
       "<thead>\n",
       "\t<tr><th scope=col>Date</th><th scope=col>Absolute_Dividend</th></tr>\n",
       "\t<tr><th scope=col>&lt;chr&gt;</th><th scope=col>&lt;dbl&gt;</th></tr>\n",
       "</thead>\n",
       "<tbody>\n",
       "</tbody>\n",
       "</table>\n"
      ],
      "text/latex": [
       "A data.frame: 0 × 2\n",
       "\\begin{tabular}{ll}\n",
       " Date & Absolute\\_Dividend\\\\\n",
       " <chr> & <dbl>\\\\\n",
       "\\hline\n",
       "\\end{tabular}\n"
      ],
      "text/markdown": [
       "\n",
       "A data.frame: 0 × 2\n",
       "\n",
       "| Date &lt;chr&gt; | Absolute_Dividend &lt;dbl&gt; |\n",
       "|---|---|\n",
       "\n"
      ],
      "text/plain": [
       "     Date Absolute_Dividend"
      ]
     },
     "metadata": {},
     "output_type": "display_data"
    }
   ],
   "source": [
    "nflx1 <-nflx_data %>%\n",
    "  mutate(Ratio.AdjClose = lag(Adj.Close, default = 0) / Adj.Close,\n",
    "        Ratio.Close = lag(Close, default = 0) / Close) %>%\n",
    "  mutate(nflx_data,Difference = Ratio.AdjClose-Ratio.Close) %>%\n",
    "  mutate(nflx_data, Dividend = Difference*Close)  \n",
    " nflx1$Absolute_Dividend = abs(nflx1$Dividend)\n",
    "select (nflx1, Date, Absolute_Dividend) %>%\n",
    "filter (Absolute_Dividend > 0.01)"
   ]
  },
  {
   "cell_type": "code",
   "execution_count": 39,
   "metadata": {},
   "outputs": [
    {
     "data": {
      "text/html": [
       "<table>\n",
       "<caption>A data.frame: 0 × 2</caption>\n",
       "<thead>\n",
       "\t<tr><th scope=col>Date</th><th scope=col>Absolute_Dividend</th></tr>\n",
       "\t<tr><th scope=col>&lt;chr&gt;</th><th scope=col>&lt;dbl&gt;</th></tr>\n",
       "</thead>\n",
       "<tbody>\n",
       "</tbody>\n",
       "</table>\n"
      ],
      "text/latex": [
       "A data.frame: 0 × 2\n",
       "\\begin{tabular}{ll}\n",
       " Date & Absolute\\_Dividend\\\\\n",
       " <chr> & <dbl>\\\\\n",
       "\\hline\n",
       "\\end{tabular}\n"
      ],
      "text/markdown": [
       "\n",
       "A data.frame: 0 × 2\n",
       "\n",
       "| Date &lt;chr&gt; | Absolute_Dividend &lt;dbl&gt; |\n",
       "|---|---|\n",
       "\n"
      ],
      "text/plain": [
       "     Date Absolute_Dividend"
      ]
     },
     "metadata": {},
     "output_type": "display_data"
    }
   ],
   "source": [
    "tsla1 <-tsla_data %>%\n",
    "  mutate(Ratio.AdjClose = lag(Adj.Close, default = 0) / Adj.Close,\n",
    "        Ratio.Close = lag(Close, default = 0) / Close) %>%\n",
    "  mutate(tsla_data,Difference = Ratio.AdjClose-Ratio.Close) %>%\n",
    "  mutate(tsla_data, Dividend = Difference*Close)  \n",
    " tsla1$Absolute_Dividend = abs(tsla1$Dividend)\n",
    "select (tsla1, Date, Absolute_Dividend) %>%\n",
    "filter (Absolute_Dividend > 0.01)"
   ]
  },
  {
   "cell_type": "code",
   "execution_count": 40,
   "metadata": {},
   "outputs": [
    {
     "data": {
      "text/html": [
       "<table>\n",
       "<caption>A data.frame: 4 × 2</caption>\n",
       "<thead>\n",
       "\t<tr><th scope=col>ORCL_Date</th><th scope=col>ORCL_Absolute_Dividend</th></tr>\n",
       "\t<tr><th scope=col>&lt;chr&gt;</th><th scope=col>&lt;dbl&gt;</th></tr>\n",
       "</thead>\n",
       "<tbody>\n",
       "\t<tr><td>2018-01-09</td><td>0.190001981</td></tr>\n",
       "\t<tr><td>2018-04-16</td><td>0.190002162</td></tr>\n",
       "\t<tr><td>2018-07-16</td><td>0.190002924</td></tr>\n",
       "\t<tr><td>2018-10-15</td><td>0.190010463</td></tr>\n",
       "</tbody>\n",
       "</table>\n"
      ],
      "text/latex": [
       "A data.frame: 4 × 2\n",
       "\\begin{tabular}{ll}\n",
       " ORCL\\_Date & ORCL\\_Absolute\\_Dividend\\\\\n",
       " <chr> & <dbl>\\\\\n",
       "\\hline\n",
       "\t 2018-01-09 & 0.190001981\\\\\n",
       "\t 2018-04-16 & 0.190002162\\\\\n",
       "\t 2018-07-16 & 0.190002924\\\\\n",
       "\t 2018-10-15 & 0.190010463\\\\\n",
       "\\end{tabular}\n"
      ],
      "text/markdown": [
       "\n",
       "A data.frame: 4 × 2\n",
       "\n",
       "| ORCL_Date &lt;chr&gt; | ORCL_Absolute_Dividend &lt;dbl&gt; |\n",
       "|---|---|\n",
       "| 2018-01-09 | 0.190001981 |\n",
       "| 2018-04-16 | 0.190002162 |\n",
       "| 2018-07-16 | 0.190002924 |\n",
       "| 2018-10-15 | 0.190010463 |\n",
       "\n"
      ],
      "text/plain": [
       "  ORCL_Date  ORCL_Absolute_Dividend\n",
       "1 2018-01-09 0.190001981           \n",
       "2 2018-04-16 0.190002162           \n",
       "3 2018-07-16 0.190002924           \n",
       "4 2018-10-15 0.190010463           "
      ]
     },
     "metadata": {},
     "output_type": "display_data"
    }
   ],
   "source": [
    "orcl1 <-orcl_data %>%\n",
    "  mutate(Ratio.AdjClose = lag(Adj.Close, default = 0) / Adj.Close,\n",
    "        Ratio.Close = lag(Close, default = 0) / Close) %>%\n",
    "  mutate(orcl_data,Difference = Ratio.AdjClose-Ratio.Close) %>%\n",
    "  mutate(orcl_data, Dividend = Difference*Close)  \n",
    " orcl1$ORCL_Absolute_Dividend = abs(orcl1$Dividend)\n",
    "\n",
    "orcl1 <-  rename(orcl1, 'ORCL_Date' = 'Date')\n",
    "orcl1 <- select (orcl1, ORCL_Date, ORCL_Absolute_Dividend) %>%\n",
    "filter (ORCL_Absolute_Dividend > 0.01)\n",
    "orcl1"
   ]
  },
  {
   "cell_type": "code",
   "execution_count": 41,
   "metadata": {},
   "outputs": [
    {
     "data": {
      "text/html": [
       "<table>\n",
       "<caption>A data.frame: 1 × 2</caption>\n",
       "<thead>\n",
       "\t<tr><th scope=col>SAP_Date</th><th scope=col>SAP_Absolute_Dividend</th></tr>\n",
       "\t<tr><th scope=col>&lt;chr&gt;</th><th scope=col>&lt;dbl&gt;</th></tr>\n",
       "</thead>\n",
       "<tbody>\n",
       "\t<tr><td>2018-05-18</td><td>1.72701319</td></tr>\n",
       "</tbody>\n",
       "</table>\n"
      ],
      "text/latex": [
       "A data.frame: 1 × 2\n",
       "\\begin{tabular}{ll}\n",
       " SAP\\_Date & SAP\\_Absolute\\_Dividend\\\\\n",
       " <chr> & <dbl>\\\\\n",
       "\\hline\n",
       "\t 2018-05-18 & 1.72701319\\\\\n",
       "\\end{tabular}\n"
      ],
      "text/markdown": [
       "\n",
       "A data.frame: 1 × 2\n",
       "\n",
       "| SAP_Date &lt;chr&gt; | SAP_Absolute_Dividend &lt;dbl&gt; |\n",
       "|---|---|\n",
       "| 2018-05-18 | 1.72701319 |\n",
       "\n"
      ],
      "text/plain": [
       "  SAP_Date   SAP_Absolute_Dividend\n",
       "1 2018-05-18 1.72701319           "
      ]
     },
     "metadata": {},
     "output_type": "display_data"
    }
   ],
   "source": [
    "sap1 <-sap_data %>%\n",
    "  mutate(Ratio.AdjClose = lag(Adj.Close, default = 0) / Adj.Close,\n",
    "        Ratio.Close = lag(Close, default = 0) / Close) %>%\n",
    "  mutate(sap_data,Difference = Ratio.AdjClose-Ratio.Close) %>%\n",
    "  mutate(sap_data, Dividend = Difference*Close)  \n",
    " sap1$SAP_Absolute_Dividend = abs(sap1$Dividend)\n",
    "\n",
    "sap1 <-  rename(sap1, 'SAP_Date' = 'Date')\n",
    "sap1 <-  select (sap1, SAP_Date, SAP_Absolute_Dividend)%>%\n",
    "filter (SAP_Absolute_Dividend > 0.01)\n",
    "sap1"
   ]
  },
  {
   "cell_type": "code",
   "execution_count": 42,
   "metadata": {},
   "outputs": [
    {
     "data": {
      "text/html": [
       "<table>\n",
       "<caption>A data.frame: 4 × 10</caption>\n",
       "<thead>\n",
       "\t<tr><th scope=col>IBM_Date</th><th scope=col>IBM_Absolute_Dividend</th><th scope=col>MSFT_Date</th><th scope=col>MSFT_Absolute_Dividend</th><th scope=col>AAPL_Date</th><th scope=col>AAPL_Absolute_Dividend</th><th scope=col>ORCL_Date</th><th scope=col>ORCL_Absolute_Dividend</th><th scope=col>SAP_Date</th><th scope=col>SAP_Absolute_Dividend</th></tr>\n",
       "\t<tr><th scope=col>&lt;chr&gt;</th><th scope=col>&lt;dbl&gt;</th><th scope=col>&lt;chr&gt;</th><th scope=col>&lt;dbl&gt;</th><th scope=col>&lt;chr&gt;</th><th scope=col>&lt;dbl&gt;</th><th scope=col>&lt;chr&gt;</th><th scope=col>&lt;dbl&gt;</th><th scope=col>&lt;chr&gt;</th><th scope=col>&lt;dbl&gt;</th></tr>\n",
       "</thead>\n",
       "<tbody>\n",
       "\t<tr><td>2018-02-08</td><td>1.50000622</td><td>2018-02-14</td><td>0.420014632</td><td>2018-02-09</td><td>0.157493725</td><td>2018-01-09</td><td>0.190001981</td><td>2018-05-18</td><td>1.72701319</td></tr>\n",
       "\t<tr><td>2018-05-09</td><td>1.56998355</td><td>2018-05-16</td><td>0.419976555</td><td>2018-05-11</td><td>0.182501822</td><td>2018-04-16</td><td>0.190002162</td><td>2018-05-18</td><td>1.72701319</td></tr>\n",
       "\t<tr><td>2018-08-09</td><td>1.57001381</td><td>2018-08-15</td><td>0.419998784</td><td>2018-08-10</td><td>0.182493795</td><td>2018-07-16</td><td>0.190002924</td><td>2018-05-18</td><td>1.72701319</td></tr>\n",
       "\t<tr><td>2018-11-08</td><td>1.56999869</td><td>2018-11-14</td><td>0.459999119</td><td>2018-11-08</td><td>0.182498613</td><td>2018-10-15</td><td>0.190010463</td><td>2018-05-18</td><td>1.72701319</td></tr>\n",
       "</tbody>\n",
       "</table>\n"
      ],
      "text/latex": [
       "A data.frame: 4 × 10\n",
       "\\begin{tabular}{llllllllll}\n",
       " IBM\\_Date & IBM\\_Absolute\\_Dividend & MSFT\\_Date & MSFT\\_Absolute\\_Dividend & AAPL\\_Date & AAPL\\_Absolute\\_Dividend & ORCL\\_Date & ORCL\\_Absolute\\_Dividend & SAP\\_Date & SAP\\_Absolute\\_Dividend\\\\\n",
       " <chr> & <dbl> & <chr> & <dbl> & <chr> & <dbl> & <chr> & <dbl> & <chr> & <dbl>\\\\\n",
       "\\hline\n",
       "\t 2018-02-08 & 1.50000622 & 2018-02-14 & 0.420014632 & 2018-02-09 & 0.157493725 & 2018-01-09 & 0.190001981 & 2018-05-18 & 1.72701319\\\\\n",
       "\t 2018-05-09 & 1.56998355 & 2018-05-16 & 0.419976555 & 2018-05-11 & 0.182501822 & 2018-04-16 & 0.190002162 & 2018-05-18 & 1.72701319\\\\\n",
       "\t 2018-08-09 & 1.57001381 & 2018-08-15 & 0.419998784 & 2018-08-10 & 0.182493795 & 2018-07-16 & 0.190002924 & 2018-05-18 & 1.72701319\\\\\n",
       "\t 2018-11-08 & 1.56999869 & 2018-11-14 & 0.459999119 & 2018-11-08 & 0.182498613 & 2018-10-15 & 0.190010463 & 2018-05-18 & 1.72701319\\\\\n",
       "\\end{tabular}\n"
      ],
      "text/markdown": [
       "\n",
       "A data.frame: 4 × 10\n",
       "\n",
       "| IBM_Date &lt;chr&gt; | IBM_Absolute_Dividend &lt;dbl&gt; | MSFT_Date &lt;chr&gt; | MSFT_Absolute_Dividend &lt;dbl&gt; | AAPL_Date &lt;chr&gt; | AAPL_Absolute_Dividend &lt;dbl&gt; | ORCL_Date &lt;chr&gt; | ORCL_Absolute_Dividend &lt;dbl&gt; | SAP_Date &lt;chr&gt; | SAP_Absolute_Dividend &lt;dbl&gt; |\n",
       "|---|---|---|---|---|---|---|---|---|---|\n",
       "| 2018-02-08 | 1.50000622 | 2018-02-14 | 0.420014632 | 2018-02-09 | 0.157493725 | 2018-01-09 | 0.190001981 | 2018-05-18 | 1.72701319 |\n",
       "| 2018-05-09 | 1.56998355 | 2018-05-16 | 0.419976555 | 2018-05-11 | 0.182501822 | 2018-04-16 | 0.190002162 | 2018-05-18 | 1.72701319 |\n",
       "| 2018-08-09 | 1.57001381 | 2018-08-15 | 0.419998784 | 2018-08-10 | 0.182493795 | 2018-07-16 | 0.190002924 | 2018-05-18 | 1.72701319 |\n",
       "| 2018-11-08 | 1.56999869 | 2018-11-14 | 0.459999119 | 2018-11-08 | 0.182498613 | 2018-10-15 | 0.190010463 | 2018-05-18 | 1.72701319 |\n",
       "\n"
      ],
      "text/plain": [
       "  IBM_Date   IBM_Absolute_Dividend MSFT_Date  MSFT_Absolute_Dividend AAPL_Date \n",
       "1 2018-02-08 1.50000622            2018-02-14 0.420014632            2018-02-09\n",
       "2 2018-05-09 1.56998355            2018-05-16 0.419976555            2018-05-11\n",
       "3 2018-08-09 1.57001381            2018-08-15 0.419998784            2018-08-10\n",
       "4 2018-11-08 1.56999869            2018-11-14 0.459999119            2018-11-08\n",
       "  AAPL_Absolute_Dividend ORCL_Date  ORCL_Absolute_Dividend SAP_Date  \n",
       "1 0.157493725            2018-01-09 0.190001981            2018-05-18\n",
       "2 0.182501822            2018-04-16 0.190002162            2018-05-18\n",
       "3 0.182493795            2018-07-16 0.190002924            2018-05-18\n",
       "4 0.182498613            2018-10-15 0.190010463            2018-05-18\n",
       "  SAP_Absolute_Dividend\n",
       "1 1.72701319           \n",
       "2 1.72701319           \n",
       "3 1.72701319           \n",
       "4 1.72701319           "
      ]
     },
     "metadata": {},
     "output_type": "display_data"
    }
   ],
   "source": [
    "dividend_stocks <- cbind(IBM1,msft1,aapl1,orcl1,sap1)\n",
    "dividend_stocks"
   ]
  },
  {
   "cell_type": "markdown",
   "metadata": {},
   "source": [
    "Divdend for strategy 1"
   ]
  },
  {
   "cell_type": "code",
   "execution_count": 44,
   "metadata": {},
   "outputs": [
    {
     "name": "stdout",
     "output_type": "stream",
     "text": [
      "[1] \"2018-02-08\" \"2018-05-09\" \"2018-08-09\" \"2018-11-08\"\n",
      "[1] \"2018-02-08\" \"2018-05-09\" \"2018-08-09\" \"2018-11-08\"\n",
      "[1] \"2018-02-08\" \"2018-05-09\" \"2018-08-09\" \"2018-11-08\"\n",
      "[1] \"2018-02-08\" \"2018-05-09\" \"2018-08-09\" \"2018-11-08\"\n",
      "[1] \"2018-02-08\" \"2018-05-09\" \"2018-08-09\" \"2018-11-08\"\n"
     ]
    },
    {
     "data": {
      "text/html": [
       "<table>\n",
       "<caption>A data.frame: 6 × 24</caption>\n",
       "<thead>\n",
       "\t<tr><th></th><th scope=col>Date</th><th scope=col>IBM_Close</th><th scope=col>IBM_Adj.Close</th><th scope=col>MSFT_Close</th><th scope=col>MSFT_Adj.Close</th><th scope=col>GOOG_Close</th><th scope=col>GOOG_Adj.Close</th><th scope=col>AMZN_Close</th><th scope=col>AMZN_Adj.Close</th><th scope=col>AAPL_Close</th><th scope=col>⋯</th><th scope=col>NFLX_Adj.Close</th><th scope=col>TSLA_Close</th><th scope=col>TSLA_Adj.Close</th><th scope=col>ORCL_Close</th><th scope=col>ORCL_Adj.Close</th><th scope=col>SAP_Close</th><th scope=col>SAP_Adj.Close</th><th scope=col>Remaining_Cash</th><th scope=col>MTM</th><th scope=col>HTI</th></tr>\n",
       "\t<tr><th></th><th scope=col>&lt;date&gt;</th><th scope=col>&lt;dbl&gt;</th><th scope=col>&lt;dbl&gt;</th><th scope=col>&lt;dbl&gt;</th><th scope=col>&lt;dbl&gt;</th><th scope=col>&lt;dbl&gt;</th><th scope=col>&lt;dbl&gt;</th><th scope=col>&lt;dbl&gt;</th><th scope=col>&lt;dbl&gt;</th><th scope=col>&lt;dbl&gt;</th><th scope=col>⋯</th><th scope=col>&lt;dbl&gt;</th><th scope=col>&lt;dbl&gt;</th><th scope=col>&lt;dbl&gt;</th><th scope=col>&lt;dbl&gt;</th><th scope=col>&lt;dbl&gt;</th><th scope=col>&lt;dbl&gt;</th><th scope=col>&lt;dbl&gt;</th><th scope=col>&lt;dbl&gt;</th><th scope=col>&lt;dbl&gt;</th><th scope=col>&lt;dbl&gt;</th></tr>\n",
       "</thead>\n",
       "<tbody>\n",
       "\t<tr><th scope=row>245</th><td>2018-12-20</td><td>113.019997</td><td>103.959160</td><td>101.510002</td><td>99.241501</td><td>1009.409973</td><td>1009.409973</td><td>1460.82996</td><td>1460.82996</td><td>39.207500</td><td>⋯</td><td>260.579987</td><td>63.076000</td><td>63.076000</td><td>46.240002</td><td>44.859539</td><td>100.099998</td><td>97.349060</td><td> 787.994654</td><td>5307895.74</td><td>332.737341</td></tr>\n",
       "\t<tr><th scope=row>246</th><td>2018-12-21</td><td>110.940002</td><td>102.045921</td><td> 98.230003</td><td>96.034790</td><td> 979.539978</td><td> 979.539978</td><td>1377.44995</td><td>1377.44995</td><td>37.682499</td><td>⋯</td><td>246.389999</td><td>63.953999</td><td>63.953999</td><td>44.000000</td><td>42.686417</td><td> 96.139999</td><td>93.497887</td><td>1112.270492</td><td>5107817.05</td><td>317.927643</td></tr>\n",
       "\t<tr><th scope=row>247</th><td>2018-12-24</td><td>107.570000</td><td> 98.946083</td><td> 94.129997</td><td>92.026421</td><td> 976.219971</td><td> 976.219971</td><td>1343.95996</td><td>1343.95996</td><td>36.707500</td><td>⋯</td><td>233.880005</td><td>59.077999</td><td>59.077999</td><td>42.689999</td><td>41.415524</td><td> 95.000000</td><td>92.389214</td><td>1112.270492</td><td>5026394.87</td><td>311.329543</td></tr>\n",
       "\t<tr><th scope=row>248</th><td>2018-12-26</td><td>111.389999</td><td>102.459846</td><td>100.559998</td><td>98.312729</td><td>1039.459961</td><td>1039.459961</td><td>1470.90002</td><td>1470.90002</td><td>39.292500</td><td>⋯</td><td>253.669998</td><td>65.218002</td><td>65.218002</td><td>44.590000</td><td>43.258801</td><td> 98.379997</td><td>95.676323</td><td>1112.270492</td><td>5316185.68</td><td>335.764047</td></tr>\n",
       "\t<tr><th scope=row>249</th><td>2018-12-27</td><td>113.779999</td><td>104.658234</td><td>101.180000</td><td>98.918884</td><td>1043.880005</td><td>1043.880005</td><td>1461.64001</td><td>1461.64001</td><td>39.037498</td><td>⋯</td><td>255.570007</td><td>63.226002</td><td>63.226002</td><td>44.970001</td><td>43.627453</td><td> 98.989998</td><td>96.269554</td><td>1112.270492</td><td>5345146.49</td><td>335.679353</td></tr>\n",
       "\t<tr><th scope=row>250</th><td>2018-12-28</td><td>113.029999</td><td>103.968369</td><td>100.389999</td><td>98.146530</td><td>1037.079956</td><td>1037.079956</td><td>1478.02002</td><td>1478.02002</td><td>39.057499</td><td>⋯</td><td>256.079987</td><td>66.774002</td><td>66.774002</td><td>44.820000</td><td>43.481926</td><td> 99.199997</td><td>96.473785</td><td>1112.270492</td><td>5323137.23</td><td>336.765146</td></tr>\n",
       "</tbody>\n",
       "</table>\n"
      ],
      "text/latex": [
       "A data.frame: 6 × 24\n",
       "\\begin{tabular}{r|lllllllllllllllllllll}\n",
       "  & Date & IBM\\_Close & IBM\\_Adj.Close & MSFT\\_Close & MSFT\\_Adj.Close & GOOG\\_Close & GOOG\\_Adj.Close & AMZN\\_Close & AMZN\\_Adj.Close & AAPL\\_Close & ⋯ & NFLX\\_Adj.Close & TSLA\\_Close & TSLA\\_Adj.Close & ORCL\\_Close & ORCL\\_Adj.Close & SAP\\_Close & SAP\\_Adj.Close & Remaining\\_Cash & MTM & HTI\\\\\n",
       "  & <date> & <dbl> & <dbl> & <dbl> & <dbl> & <dbl> & <dbl> & <dbl> & <dbl> & <dbl> & ⋯ & <dbl> & <dbl> & <dbl> & <dbl> & <dbl> & <dbl> & <dbl> & <dbl> & <dbl> & <dbl>\\\\\n",
       "\\hline\n",
       "\t245 & 2018-12-20 & 113.019997 & 103.959160 & 101.510002 & 99.241501 & 1009.409973 & 1009.409973 & 1460.82996 & 1460.82996 & 39.207500 & ⋯ & 260.579987 & 63.076000 & 63.076000 & 46.240002 & 44.859539 & 100.099998 & 97.349060 &  787.994654 & 5307895.74 & 332.737341\\\\\n",
       "\t246 & 2018-12-21 & 110.940002 & 102.045921 &  98.230003 & 96.034790 &  979.539978 &  979.539978 & 1377.44995 & 1377.44995 & 37.682499 & ⋯ & 246.389999 & 63.953999 & 63.953999 & 44.000000 & 42.686417 &  96.139999 & 93.497887 & 1112.270492 & 5107817.05 & 317.927643\\\\\n",
       "\t247 & 2018-12-24 & 107.570000 &  98.946083 &  94.129997 & 92.026421 &  976.219971 &  976.219971 & 1343.95996 & 1343.95996 & 36.707500 & ⋯ & 233.880005 & 59.077999 & 59.077999 & 42.689999 & 41.415524 &  95.000000 & 92.389214 & 1112.270492 & 5026394.87 & 311.329543\\\\\n",
       "\t248 & 2018-12-26 & 111.389999 & 102.459846 & 100.559998 & 98.312729 & 1039.459961 & 1039.459961 & 1470.90002 & 1470.90002 & 39.292500 & ⋯ & 253.669998 & 65.218002 & 65.218002 & 44.590000 & 43.258801 &  98.379997 & 95.676323 & 1112.270492 & 5316185.68 & 335.764047\\\\\n",
       "\t249 & 2018-12-27 & 113.779999 & 104.658234 & 101.180000 & 98.918884 & 1043.880005 & 1043.880005 & 1461.64001 & 1461.64001 & 39.037498 & ⋯ & 255.570007 & 63.226002 & 63.226002 & 44.970001 & 43.627453 &  98.989998 & 96.269554 & 1112.270492 & 5345146.49 & 335.679353\\\\\n",
       "\t250 & 2018-12-28 & 113.029999 & 103.968369 & 100.389999 & 98.146530 & 1037.079956 & 1037.079956 & 1478.02002 & 1478.02002 & 39.057499 & ⋯ & 256.079987 & 66.774002 & 66.774002 & 44.820000 & 43.481926 &  99.199997 & 96.473785 & 1112.270492 & 5323137.23 & 336.765146\\\\\n",
       "\\end{tabular}\n"
      ],
      "text/markdown": [
       "\n",
       "A data.frame: 6 × 24\n",
       "\n",
       "| <!--/--> | Date &lt;date&gt; | IBM_Close &lt;dbl&gt; | IBM_Adj.Close &lt;dbl&gt; | MSFT_Close &lt;dbl&gt; | MSFT_Adj.Close &lt;dbl&gt; | GOOG_Close &lt;dbl&gt; | GOOG_Adj.Close &lt;dbl&gt; | AMZN_Close &lt;dbl&gt; | AMZN_Adj.Close &lt;dbl&gt; | AAPL_Close &lt;dbl&gt; | ⋯ ⋯ | NFLX_Adj.Close &lt;dbl&gt; | TSLA_Close &lt;dbl&gt; | TSLA_Adj.Close &lt;dbl&gt; | ORCL_Close &lt;dbl&gt; | ORCL_Adj.Close &lt;dbl&gt; | SAP_Close &lt;dbl&gt; | SAP_Adj.Close &lt;dbl&gt; | Remaining_Cash &lt;dbl&gt; | MTM &lt;dbl&gt; | HTI &lt;dbl&gt; |\n",
       "|---|---|---|---|---|---|---|---|---|---|---|---|---|---|---|---|---|---|---|---|---|---|\n",
       "| 245 | 2018-12-20 | 113.019997 | 103.959160 | 101.510002 | 99.241501 | 1009.409973 | 1009.409973 | 1460.82996 | 1460.82996 | 39.207500 | ⋯ | 260.579987 | 63.076000 | 63.076000 | 46.240002 | 44.859539 | 100.099998 | 97.349060 |  787.994654 | 5307895.74 | 332.737341 |\n",
       "| 246 | 2018-12-21 | 110.940002 | 102.045921 |  98.230003 | 96.034790 |  979.539978 |  979.539978 | 1377.44995 | 1377.44995 | 37.682499 | ⋯ | 246.389999 | 63.953999 | 63.953999 | 44.000000 | 42.686417 |  96.139999 | 93.497887 | 1112.270492 | 5107817.05 | 317.927643 |\n",
       "| 247 | 2018-12-24 | 107.570000 |  98.946083 |  94.129997 | 92.026421 |  976.219971 |  976.219971 | 1343.95996 | 1343.95996 | 36.707500 | ⋯ | 233.880005 | 59.077999 | 59.077999 | 42.689999 | 41.415524 |  95.000000 | 92.389214 | 1112.270492 | 5026394.87 | 311.329543 |\n",
       "| 248 | 2018-12-26 | 111.389999 | 102.459846 | 100.559998 | 98.312729 | 1039.459961 | 1039.459961 | 1470.90002 | 1470.90002 | 39.292500 | ⋯ | 253.669998 | 65.218002 | 65.218002 | 44.590000 | 43.258801 |  98.379997 | 95.676323 | 1112.270492 | 5316185.68 | 335.764047 |\n",
       "| 249 | 2018-12-27 | 113.779999 | 104.658234 | 101.180000 | 98.918884 | 1043.880005 | 1043.880005 | 1461.64001 | 1461.64001 | 39.037498 | ⋯ | 255.570007 | 63.226002 | 63.226002 | 44.970001 | 43.627453 |  98.989998 | 96.269554 | 1112.270492 | 5345146.49 | 335.679353 |\n",
       "| 250 | 2018-12-28 | 113.029999 | 103.968369 | 100.389999 | 98.146530 | 1037.079956 | 1037.079956 | 1478.02002 | 1478.02002 | 39.057499 | ⋯ | 256.079987 | 66.774002 | 66.774002 | 44.820000 | 43.481926 |  99.199997 | 96.473785 | 1112.270492 | 5323137.23 | 336.765146 |\n",
       "\n"
      ],
      "text/plain": [
       "    Date       IBM_Close  IBM_Adj.Close MSFT_Close MSFT_Adj.Close GOOG_Close \n",
       "245 2018-12-20 113.019997 103.959160    101.510002 99.241501      1009.409973\n",
       "246 2018-12-21 110.940002 102.045921     98.230003 96.034790       979.539978\n",
       "247 2018-12-24 107.570000  98.946083     94.129997 92.026421       976.219971\n",
       "248 2018-12-26 111.389999 102.459846    100.559998 98.312729      1039.459961\n",
       "249 2018-12-27 113.779999 104.658234    101.180000 98.918884      1043.880005\n",
       "250 2018-12-28 113.029999 103.968369    100.389999 98.146530      1037.079956\n",
       "    GOOG_Adj.Close AMZN_Close AMZN_Adj.Close AAPL_Close ⋯ NFLX_Adj.Close\n",
       "245 1009.409973    1460.82996 1460.82996     39.207500  ⋯ 260.579987    \n",
       "246  979.539978    1377.44995 1377.44995     37.682499  ⋯ 246.389999    \n",
       "247  976.219971    1343.95996 1343.95996     36.707500  ⋯ 233.880005    \n",
       "248 1039.459961    1470.90002 1470.90002     39.292500  ⋯ 253.669998    \n",
       "249 1043.880005    1461.64001 1461.64001     39.037498  ⋯ 255.570007    \n",
       "250 1037.079956    1478.02002 1478.02002     39.057499  ⋯ 256.079987    \n",
       "    TSLA_Close TSLA_Adj.Close ORCL_Close ORCL_Adj.Close SAP_Close \n",
       "245 63.076000  63.076000      46.240002  44.859539      100.099998\n",
       "246 63.953999  63.953999      44.000000  42.686417       96.139999\n",
       "247 59.077999  59.077999      42.689999  41.415524       95.000000\n",
       "248 65.218002  65.218002      44.590000  43.258801       98.379997\n",
       "249 63.226002  63.226002      44.970001  43.627453       98.989998\n",
       "250 66.774002  66.774002      44.820000  43.481926       99.199997\n",
       "    SAP_Adj.Close Remaining_Cash MTM        HTI       \n",
       "245 97.349060      787.994654    5307895.74 332.737341\n",
       "246 93.497887     1112.270492    5107817.05 317.927643\n",
       "247 92.389214     1112.270492    5026394.87 311.329543\n",
       "248 95.676323     1112.270492    5316185.68 335.764047\n",
       "249 96.269554     1112.270492    5345146.49 335.679353\n",
       "250 96.473785     1112.270492    5323137.23 336.765146"
      ]
     },
     "metadata": {},
     "output_type": "display_data"
    }
   ],
   "source": [
    "#Strategy-1\n",
    "\n",
    "options(digits=9)\n",
    "total_cash <- 5000000\n",
    "remaining_cash <- total_cash\n",
    "split <- total_cash/5\n",
    "MTM <- 0\n",
    "begin_date <- mdy('01/02/2018')\n",
    "start_date <- begin_date\n",
    "end_date <-  mdy('12/28/2018')\n",
    "all_stocks <- c('IBM_Adj.Close','MSFT_Adj.Close','GOOG_Adj.Close','AAPL_Adj.Close','AMZN_Adj.Close','FB_Adj.Close','NFLX_Adj.Close','TSLA_Adj.Close','ORCL_Adj.Close','SAP_Adj.Close')\n",
    "initial_stocks <- c('IBM_Close','MSFT_Close','GOOG_Close','AMZN_Close','FB_Close')\n",
    "shares_count <- list()\n",
    "\n",
    "# Main logic\n",
    "while(start_date <= end_date){\n",
    "    \n",
    "    # executes the first day\n",
    "    if(start_date == '2018-01-02'){\n",
    "          for(i in initial_stocks) {\n",
    "        a <- stocks_data[stocks_data$Date== start_date, initial_stocks]\n",
    "        b<- floor(split/a[i])\n",
    "        shares_count[i] <-  b[[i]] \n",
    "        remaining_cash <- remaining_cash - b*a[i]\n",
    "        st_name<- sub('_.*','',i)\n",
    "        name <- paste0(st_name,'_','Date')\n",
    "        name <- as.name(name)\n",
    "        \n",
    "        value <- paste0(st_name,'_Absolute_Dividend')\n",
    "        value <- as.name(value)\n",
    "        \n",
    "              \n",
    "        print(dividend_stocks$IBM_Date)\n",
    "        \n",
    "        if(start_date %in% dividend_stocks$name){\n",
    "            \n",
    "            print('Hello')\n",
    "#             MTM <- (divedend_stocks$value[name == start_date]) * b[[i]]\n",
    "        }\n",
    "        \n",
    "        MTM <- MTM + b*a[i]\n",
    "        }\n",
    "        \n",
    "\n",
    "        \n",
    "}\n",
    "\n",
    "    \n",
    "    # This condition executes for every 5th day\n",
    "    else if(start_date %in% stocks_split_5$Date) {\n",
    "        MTM <- 0\n",
    "        for(i in initial_stocks) {\n",
    "        a <- stocks_data[stocks_data$Date== start_date, initial_stocks]\n",
    "        MTM <- MTM + shares_count[[i]]*a[i]\n",
    "        }\n",
    "        total_cash <- MTM + remaining_cash\n",
    "        remaining_cash <- total_cash\n",
    "        split <- total_cash / 5\n",
    "        colnames(total_cash) <- 'Total_Cash'\n",
    "        colnames(MTM) <- 'MTM'\n",
    "        calculated_stocks <- list()\n",
    "        for(i in all_stocks){\n",
    "           \n",
    "            x <- stocks_data[stocks_data$Date== start_date, all_stocks]\n",
    "            y <- stocks_data[stocks_data$Date== begin_date, all_stocks]\n",
    "            percent_change <- 100 * ((x[i] - y[i])/ y[i])\n",
    "            col <- paste0(i, \"_PC\")\n",
    "            calculated_stocks[col] <- percent_change\n",
    "            \n",
    "        }\n",
    "        calculated_stocks <- calculated_stocks[order(unlist(calculated_stocks))]\n",
    "        calculated_stocks <- head(calculated_stocks,5)\n",
    "        \n",
    "        # update initial stocks\n",
    "        initial_col_list <- names(calculated_stocks)\n",
    "        initial_col_list <- sub('_.*','',initial_col_list)\n",
    "        initial_col_list <- paste0(initial_col_list,'_Close')\n",
    "        initial_stocks <- initial_col_list\n",
    "        shares_count <- list()\n",
    "        b <- list()\n",
    "        MTM <- 0\n",
    "        for(i in initial_stocks) {\n",
    "        a <- stocks_data[stocks_data$Date== start_date, initial_stocks]\n",
    "        b<- floor(split[,1]/a[i])\n",
    "        shares_count[i] <-  b[[i]]\n",
    "        remaining_cash <- remaining_cash - b*a[i]\n",
    "        MTM <- MTM + b*a[i]\n",
    "        }\n",
    "        MTM <- MTM + remaining_cash\n",
    "        stocks_data[stocks_data$Date == start_date,'MTM'] <- MTM\n",
    "        stocks_data[stocks_data$Date == start_date,'Remaining_Cash'] <- remaining_cash\n",
    "        \n",
    "        \n",
    "    }\n",
    "        \n",
    "    # This logic executes every day except the 5th day and returns MTM\n",
    "    else {\n",
    "        MTM <- 0\n",
    "        for(i in initial_stocks) {\n",
    "        a <- stocks_data[stocks_data$Date== start_date, initial_stocks]\n",
    "        MTM <- MTM + shares_count[[i]]*a[i]\n",
    "        }\n",
    "        colnames(MTM) <- 'MTM'\n",
    "        stocks_data[stocks_data$Date == start_date,'Remaining_Cash'] <- remaining_cash\n",
    "        stocks_data[stocks_data$Date == start_date,'MTM'] <- MTM\n",
    "      \n",
    "    }\n",
    "        \n",
    "start_date <- start_date+1\n",
    "    \n",
    "}\n",
    "sr1_5 <- c('stocks_split_5',MTM = tail(stocks_data$MTM,1))\n",
    "tail(stocks_data)"
   ]
  }
 ],
 "metadata": {
  "kernelspec": {
   "display_name": "R",
   "language": "R",
   "name": "ir"
  },
  "language_info": {
   "codemirror_mode": "r",
   "file_extension": ".r",
   "mimetype": "text/x-r-source",
   "name": "R",
   "pygments_lexer": "r",
   "version": "4.0.3"
  }
 },
 "nbformat": 4,
 "nbformat_minor": 4
}
